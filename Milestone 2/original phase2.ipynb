{
 "cells": [
  {
   "cell_type": "code",
   "execution_count": 1,
   "metadata": {},
   "outputs": [],
   "source": [
    "import numpy as np\n",
    "import pandas as pd\n",
    "import matplotlib.pyplot as plt\n",
    "import seaborn as sns\n",
    "from datetime import datetime\n",
    "from sklearn.model_selection import train_test_split\n",
    "from sklearn.metrics import accuracy_score\n",
    "from sklearn.feature_selection import chi2 \n",
    "from sklearn.preprocessing import LabelEncoder\n",
    "import warnings\n",
    "warnings.filterwarnings(\"ignore\")\n",
    "%matplotlib inline\n",
    "sns.set(rc={'figure.figsize': [10, 10]}, font_scale=1)"
   ]
  },
  {
   "attachments": {},
   "cell_type": "markdown",
   "metadata": {},
   "source": [
    "# Loading the Datasets"
   ]
  },
  {
   "cell_type": "code",
   "execution_count": 2,
   "metadata": {},
   "outputs": [],
   "source": [
    "taxi=pd.read_csv(r'Train Datasets\\taxi-rides-classification.csv')"
   ]
  },
  {
   "attachments": {},
   "cell_type": "markdown",
   "metadata": {},
   "source": [
    "## start with Data cleaning"
   ]
  },
  {
   "cell_type": "code",
   "execution_count": 3,
   "metadata": {
    "scrolled": false
   },
   "outputs": [
    {
     "data": {
      "text/html": [
       "<div>\n",
       "<style scoped>\n",
       "    .dataframe tbody tr th:only-of-type {\n",
       "        vertical-align: middle;\n",
       "    }\n",
       "\n",
       "    .dataframe tbody tr th {\n",
       "        vertical-align: top;\n",
       "    }\n",
       "\n",
       "    .dataframe thead th {\n",
       "        text-align: right;\n",
       "    }\n",
       "</style>\n",
       "<table border=\"1\" class=\"dataframe\">\n",
       "  <thead>\n",
       "    <tr style=\"text-align: right;\">\n",
       "      <th></th>\n",
       "      <th>distance</th>\n",
       "      <th>cab_type</th>\n",
       "      <th>time_stamp</th>\n",
       "      <th>destination</th>\n",
       "      <th>source</th>\n",
       "      <th>surge_multiplier</th>\n",
       "      <th>id</th>\n",
       "      <th>product_id</th>\n",
       "      <th>name</th>\n",
       "      <th>RideCategory</th>\n",
       "    </tr>\n",
       "  </thead>\n",
       "  <tbody>\n",
       "    <tr>\n",
       "      <th>0</th>\n",
       "      <td>0.62</td>\n",
       "      <td>Uber</td>\n",
       "      <td>1.544770e+12</td>\n",
       "      <td>West End</td>\n",
       "      <td>Haymarket Square</td>\n",
       "      <td>1.0</td>\n",
       "      <td>c1b4a572-24b2-484d-aac5-b4f97b790480</td>\n",
       "      <td>8cf7e821-f0d3-49c6-8eba-e679c0ebcf6a</td>\n",
       "      <td>Taxi</td>\n",
       "      <td>unknown</td>\n",
       "    </tr>\n",
       "    <tr>\n",
       "      <th>1</th>\n",
       "      <td>2.27</td>\n",
       "      <td>Uber</td>\n",
       "      <td>1.543400e+12</td>\n",
       "      <td>Boston University</td>\n",
       "      <td>Beacon Hill</td>\n",
       "      <td>1.0</td>\n",
       "      <td>f9e7e7e6-b309-479b-9f90-bf26a1870c81</td>\n",
       "      <td>997acbb5-e102-41e1-b155-9df7de0a73f2</td>\n",
       "      <td>UberPool</td>\n",
       "      <td>cheap</td>\n",
       "    </tr>\n",
       "    <tr>\n",
       "      <th>2</th>\n",
       "      <td>2.00</td>\n",
       "      <td>Lyft</td>\n",
       "      <td>1.544920e+12</td>\n",
       "      <td>Back Bay</td>\n",
       "      <td>Haymarket Square</td>\n",
       "      <td>1.0</td>\n",
       "      <td>154e8438-46f5-4e5f-9872-15cc95e85eed</td>\n",
       "      <td>lyft</td>\n",
       "      <td>Lyft</td>\n",
       "      <td>moderate</td>\n",
       "    </tr>\n",
       "    <tr>\n",
       "      <th>3</th>\n",
       "      <td>3.98</td>\n",
       "      <td>Lyft</td>\n",
       "      <td>1.543620e+12</td>\n",
       "      <td>Financial District</td>\n",
       "      <td>Northeastern University</td>\n",
       "      <td>1.0</td>\n",
       "      <td>6bdc30a6-9a80-487b-914e-8d9b82ee4acb</td>\n",
       "      <td>lyft_plus</td>\n",
       "      <td>Lyft XL</td>\n",
       "      <td>expensive</td>\n",
       "    </tr>\n",
       "    <tr>\n",
       "      <th>4</th>\n",
       "      <td>1.49</td>\n",
       "      <td>Lyft</td>\n",
       "      <td>1.543580e+12</td>\n",
       "      <td>Back Bay</td>\n",
       "      <td>Northeastern University</td>\n",
       "      <td>1.0</td>\n",
       "      <td>0cb12fe9-cd72-4feb-b341-4a566b2e6643</td>\n",
       "      <td>lyft</td>\n",
       "      <td>Lyft</td>\n",
       "      <td>cheap</td>\n",
       "    </tr>\n",
       "  </tbody>\n",
       "</table>\n",
       "</div>"
      ],
      "text/plain": [
       "   distance cab_type    time_stamp         destination  \\\n",
       "0      0.62     Uber  1.544770e+12            West End   \n",
       "1      2.27     Uber  1.543400e+12   Boston University   \n",
       "2      2.00     Lyft  1.544920e+12            Back Bay   \n",
       "3      3.98     Lyft  1.543620e+12  Financial District   \n",
       "4      1.49     Lyft  1.543580e+12            Back Bay   \n",
       "\n",
       "                    source  surge_multiplier  \\\n",
       "0         Haymarket Square               1.0   \n",
       "1              Beacon Hill               1.0   \n",
       "2         Haymarket Square               1.0   \n",
       "3  Northeastern University               1.0   \n",
       "4  Northeastern University               1.0   \n",
       "\n",
       "                                     id                            product_id  \\\n",
       "0  c1b4a572-24b2-484d-aac5-b4f97b790480  8cf7e821-f0d3-49c6-8eba-e679c0ebcf6a   \n",
       "1  f9e7e7e6-b309-479b-9f90-bf26a1870c81  997acbb5-e102-41e1-b155-9df7de0a73f2   \n",
       "2  154e8438-46f5-4e5f-9872-15cc95e85eed                                  lyft   \n",
       "3  6bdc30a6-9a80-487b-914e-8d9b82ee4acb                             lyft_plus   \n",
       "4  0cb12fe9-cd72-4feb-b341-4a566b2e6643                                  lyft   \n",
       "\n",
       "       name RideCategory  \n",
       "0      Taxi      unknown  \n",
       "1  UberPool        cheap  \n",
       "2      Lyft     moderate  \n",
       "3   Lyft XL    expensive  \n",
       "4      Lyft        cheap  "
      ]
     },
     "execution_count": 3,
     "metadata": {},
     "output_type": "execute_result"
    }
   ],
   "source": [
    "taxi.head()"
   ]
  },
  {
   "cell_type": "code",
   "execution_count": 4,
   "metadata": {
    "scrolled": false
   },
   "outputs": [
    {
     "data": {
      "text/html": [
       "<div>\n",
       "<style scoped>\n",
       "    .dataframe tbody tr th:only-of-type {\n",
       "        vertical-align: middle;\n",
       "    }\n",
       "\n",
       "    .dataframe tbody tr th {\n",
       "        vertical-align: top;\n",
       "    }\n",
       "\n",
       "    .dataframe thead th {\n",
       "        text-align: right;\n",
       "    }\n",
       "</style>\n",
       "<table border=\"1\" class=\"dataframe\">\n",
       "  <thead>\n",
       "    <tr style=\"text-align: right;\">\n",
       "      <th></th>\n",
       "      <th>distance</th>\n",
       "      <th>time_stamp</th>\n",
       "      <th>surge_multiplier</th>\n",
       "    </tr>\n",
       "  </thead>\n",
       "  <tbody>\n",
       "    <tr>\n",
       "      <th>count</th>\n",
       "      <td>554456.000000</td>\n",
       "      <td>5.544560e+05</td>\n",
       "      <td>554456.000000</td>\n",
       "    </tr>\n",
       "    <tr>\n",
       "      <th>mean</th>\n",
       "      <td>2.189834</td>\n",
       "      <td>1.544046e+12</td>\n",
       "      <td>1.013946</td>\n",
       "    </tr>\n",
       "    <tr>\n",
       "      <th>std</th>\n",
       "      <td>1.139779</td>\n",
       "      <td>6.892123e+08</td>\n",
       "      <td>0.091999</td>\n",
       "    </tr>\n",
       "    <tr>\n",
       "      <th>min</th>\n",
       "      <td>0.020000</td>\n",
       "      <td>1.543200e+12</td>\n",
       "      <td>1.000000</td>\n",
       "    </tr>\n",
       "    <tr>\n",
       "      <th>25%</th>\n",
       "      <td>1.270000</td>\n",
       "      <td>1.543440e+12</td>\n",
       "      <td>1.000000</td>\n",
       "    </tr>\n",
       "    <tr>\n",
       "      <th>50%</th>\n",
       "      <td>2.160000</td>\n",
       "      <td>1.543740e+12</td>\n",
       "      <td>1.000000</td>\n",
       "    </tr>\n",
       "    <tr>\n",
       "      <th>75%</th>\n",
       "      <td>2.930000</td>\n",
       "      <td>1.544830e+12</td>\n",
       "      <td>1.000000</td>\n",
       "    </tr>\n",
       "    <tr>\n",
       "      <th>max</th>\n",
       "      <td>7.860000</td>\n",
       "      <td>1.545160e+12</td>\n",
       "      <td>3.000000</td>\n",
       "    </tr>\n",
       "  </tbody>\n",
       "</table>\n",
       "</div>"
      ],
      "text/plain": [
       "            distance    time_stamp  surge_multiplier\n",
       "count  554456.000000  5.544560e+05     554456.000000\n",
       "mean        2.189834  1.544046e+12          1.013946\n",
       "std         1.139779  6.892123e+08          0.091999\n",
       "min         0.020000  1.543200e+12          1.000000\n",
       "25%         1.270000  1.543440e+12          1.000000\n",
       "50%         2.160000  1.543740e+12          1.000000\n",
       "75%         2.930000  1.544830e+12          1.000000\n",
       "max         7.860000  1.545160e+12          3.000000"
      ]
     },
     "execution_count": 4,
     "metadata": {},
     "output_type": "execute_result"
    }
   ],
   "source": [
    "taxi.describe()"
   ]
  },
  {
   "cell_type": "code",
   "execution_count": 5,
   "metadata": {
    "scrolled": true
   },
   "outputs": [
    {
     "name": "stdout",
     "output_type": "stream",
     "text": [
      "<class 'pandas.core.frame.DataFrame'>\n",
      "RangeIndex: 554456 entries, 0 to 554455\n",
      "Data columns (total 10 columns):\n",
      " #   Column            Non-Null Count   Dtype  \n",
      "---  ------            --------------   -----  \n",
      " 0   distance          554456 non-null  float64\n",
      " 1   cab_type          554456 non-null  object \n",
      " 2   time_stamp        554456 non-null  float64\n",
      " 3   destination       554456 non-null  object \n",
      " 4   source            554456 non-null  object \n",
      " 5   surge_multiplier  554456 non-null  float64\n",
      " 6   id                554456 non-null  object \n",
      " 7   product_id        554456 non-null  object \n",
      " 8   name              554456 non-null  object \n",
      " 9   RideCategory      554456 non-null  object \n",
      "dtypes: float64(3), object(7)\n",
      "memory usage: 42.3+ MB\n"
     ]
    }
   ],
   "source": [
    "taxi.info()"
   ]
  },
  {
   "cell_type": "code",
   "execution_count": 6,
   "metadata": {},
   "outputs": [
    {
     "data": {
      "text/plain": [
       "(554456, 10)"
      ]
     },
     "execution_count": 6,
     "metadata": {},
     "output_type": "execute_result"
    }
   ],
   "source": [
    "taxi.shape"
   ]
  },
  {
   "attachments": {},
   "cell_type": "markdown",
   "metadata": {},
   "source": [
    "# investigate and find missing data"
   ]
  },
  {
   "cell_type": "code",
   "execution_count": 7,
   "metadata": {
    "scrolled": true
   },
   "outputs": [
    {
     "data": {
      "text/plain": [
       "distance            0\n",
       "cab_type            0\n",
       "time_stamp          0\n",
       "destination         0\n",
       "source              0\n",
       "surge_multiplier    0\n",
       "id                  0\n",
       "product_id          0\n",
       "name                0\n",
       "RideCategory        0\n",
       "dtype: int64"
      ]
     },
     "execution_count": 7,
     "metadata": {},
     "output_type": "execute_result"
    }
   ],
   "source": [
    "taxi.isnull().sum()"
   ]
  },
  {
   "attachments": {},
   "cell_type": "markdown",
   "metadata": {},
   "source": [
    "# investigate and find Duplicated data"
   ]
  },
  {
   "cell_type": "code",
   "execution_count": 8,
   "metadata": {},
   "outputs": [
    {
     "data": {
      "text/plain": [
       "0"
      ]
     },
     "execution_count": 8,
     "metadata": {},
     "output_type": "execute_result"
    }
   ],
   "source": [
    "taxi.duplicated().sum()"
   ]
  },
  {
   "attachments": {},
   "cell_type": "markdown",
   "metadata": {},
   "source": [
    "# Detecting outliers"
   ]
  },
  {
   "cell_type": "code",
   "execution_count": 9,
   "metadata": {
    "scrolled": false
   },
   "outputs": [
    {
     "data": {
      "text/plain": [
       "Index(['distance', 'cab_type', 'time_stamp', 'destination', 'source',\n",
       "       'surge_multiplier', 'id', 'product_id', 'name', 'RideCategory'],\n",
       "      dtype='object')"
      ]
     },
     "execution_count": 9,
     "metadata": {},
     "output_type": "execute_result"
    }
   ],
   "source": [
    "taxi.columns"
   ]
  },
  {
   "cell_type": "code",
   "execution_count": 10,
   "metadata": {
    "scrolled": false
   },
   "outputs": [
    {
     "data": {
      "text/plain": [
       "surge_multiplier    8.312215\n",
       "distance            0.836062\n",
       "time_stamp          0.431423\n",
       "dtype: float64"
      ]
     },
     "execution_count": 10,
     "metadata": {},
     "output_type": "execute_result"
    }
   ],
   "source": [
    "taxi.skew().sort_values(ascending=False)"
   ]
  },
  {
   "attachments": {},
   "cell_type": "markdown",
   "metadata": {},
   "source": [
    "# convert data to be normal distribution one"
   ]
  },
  {
   "cell_type": "code",
   "execution_count": 11,
   "metadata": {},
   "outputs": [],
   "source": [
    "#taxi['distance']=taxi[\"distance\"].apply(lambda x:np.log(x))"
   ]
  },
  {
   "cell_type": "code",
   "execution_count": 12,
   "metadata": {},
   "outputs": [
    {
     "data": {
      "text/plain": [
       "<matplotlib.legend.Legend at 0x1d8b6f83130>"
      ]
     },
     "execution_count": 12,
     "metadata": {},
     "output_type": "execute_result"
    },
    {
     "data": {
      "image/png": "[encoded data removed]",
      "text/plain": [
       "<Figure size 1000x1000 with 1 Axes>"
      ]
     },
     "metadata": {},
     "output_type": "display_data"
    }
   ],
   "source": [
    "taxi[[\"distance\",\"surge_multiplier\"]]=taxi[[\"distance\",\"surge_multiplier\"]].apply(lambda i: np.sqrt(i))\n",
    "\n",
    "s=sns.distplot(taxi['distance'],label=\"skewness :%.2f\"%(taxi['distance'].skew()))\n",
    "s.legend()"
   ]
  },
  {
   "cell_type": "code",
   "execution_count": 13,
   "metadata": {
    "scrolled": true
   },
   "outputs": [
    {
     "data": {
      "image/png": "[encoded data removed]",
      "text/plain": [
       "<Figure size 1000x1000 with 1 Axes>"
      ]
     },
     "metadata": {},
     "output_type": "display_data"
    }
   ],
   "source": [
    "sns.boxplot(x=taxi['distance'])\n",
    "plt.show()"
   ]
  },
  {
   "cell_type": "code",
   "execution_count": 14,
   "metadata": {},
   "outputs": [
    {
     "data": {
      "image/png": "[encoded data removed]",
      "text/plain": [
       "<Figure size 1000x1000 with 1 Axes>"
      ]
     },
     "metadata": {},
     "output_type": "display_data"
    }
   ],
   "source": [
    "sns.boxplot(x=taxi['time_stamp'])\n",
    "plt.show()"
   ]
  },
  {
   "attachments": {},
   "cell_type": "markdown",
   "metadata": {},
   "source": [
    "# remove_outliers using `IQR` method"
   ]
  },
  {
   "cell_type": "code",
   "execution_count": 15,
   "metadata": {},
   "outputs": [],
   "source": [
    "def remove_outliers(df,columns):\n",
    "    for col in columns:\n",
    "        Q1=df[col].quantile(0.25)\n",
    "        Q3=df[col].quantile(0.75)\n",
    "        IQR=Q3-Q1\n",
    "        upper_limit=Q3+1.5*IQR\n",
    "        lower_limit=Q1-1.5*IQR\n",
    "        # outlires are below lower limit and above upper limit\n",
    "        outliers = ( ( df[col] < lower_limit) | (df[col] > upper_limit) )\n",
    "        indecies=df[outliers].index\n",
    "        print('number of removed outliers in {} is : {}'.format(col,len(indecies)))\n",
    "        df.drop(indecies,inplace=True)"
   ]
  },
  {
   "cell_type": "code",
   "execution_count": 16,
   "metadata": {
    "scrolled": false
   },
   "outputs": [
    {
     "name": "stdout",
     "output_type": "stream",
     "text": [
      "number of removed outliers in distance is : 2374\n",
      "number of removed outliers in surge_multiplier is : 16851\n"
     ]
    }
   ],
   "source": [
    "columns={'distance','surge_multiplier'}\n",
    "remove_outliers(taxi,columns)"
   ]
  },
  {
   "cell_type": "code",
   "execution_count": 17,
   "metadata": {},
   "outputs": [
    {
     "data": {
      "text/plain": [
       "0"
      ]
     },
     "execution_count": 17,
     "metadata": {},
     "output_type": "execute_result"
    }
   ],
   "source": [
    "taxi.duplicated().sum()"
   ]
  },
  {
   "cell_type": "code",
   "execution_count": 18,
   "metadata": {},
   "outputs": [
    {
     "data": {
      "text/plain": [
       "(535231, 10)"
      ]
     },
     "execution_count": 18,
     "metadata": {},
     "output_type": "execute_result"
    }
   ],
   "source": [
    "taxi.shape"
   ]
  },
  {
   "cell_type": "code",
   "execution_count": 19,
   "metadata": {
    "scrolled": true
   },
   "outputs": [
    {
     "data": {
      "text/html": [
       "<div>\n",
       "<style scoped>\n",
       "    .dataframe tbody tr th:only-of-type {\n",
       "        vertical-align: middle;\n",
       "    }\n",
       "\n",
       "    .dataframe tbody tr th {\n",
       "        vertical-align: top;\n",
       "    }\n",
       "\n",
       "    .dataframe thead th {\n",
       "        text-align: right;\n",
       "    }\n",
       "</style>\n",
       "<table border=\"1\" class=\"dataframe\">\n",
       "  <thead>\n",
       "    <tr style=\"text-align: right;\">\n",
       "      <th></th>\n",
       "      <th>distance</th>\n",
       "      <th>cab_type</th>\n",
       "      <th>time_stamp</th>\n",
       "      <th>destination</th>\n",
       "      <th>source</th>\n",
       "      <th>surge_multiplier</th>\n",
       "      <th>id</th>\n",
       "      <th>product_id</th>\n",
       "      <th>name</th>\n",
       "      <th>RideCategory</th>\n",
       "    </tr>\n",
       "  </thead>\n",
       "  <tbody>\n",
       "    <tr>\n",
       "      <th>0</th>\n",
       "      <td>0.787401</td>\n",
       "      <td>Uber</td>\n",
       "      <td>1.544770e+12</td>\n",
       "      <td>West End</td>\n",
       "      <td>Haymarket Square</td>\n",
       "      <td>1.0</td>\n",
       "      <td>c1b4a572-24b2-484d-aac5-b4f97b790480</td>\n",
       "      <td>8cf7e821-f0d3-49c6-8eba-e679c0ebcf6a</td>\n",
       "      <td>Taxi</td>\n",
       "      <td>unknown</td>\n",
       "    </tr>\n",
       "    <tr>\n",
       "      <th>1</th>\n",
       "      <td>1.506652</td>\n",
       "      <td>Uber</td>\n",
       "      <td>1.543400e+12</td>\n",
       "      <td>Boston University</td>\n",
       "      <td>Beacon Hill</td>\n",
       "      <td>1.0</td>\n",
       "      <td>f9e7e7e6-b309-479b-9f90-bf26a1870c81</td>\n",
       "      <td>997acbb5-e102-41e1-b155-9df7de0a73f2</td>\n",
       "      <td>UberPool</td>\n",
       "      <td>cheap</td>\n",
       "    </tr>\n",
       "    <tr>\n",
       "      <th>2</th>\n",
       "      <td>1.414214</td>\n",
       "      <td>Lyft</td>\n",
       "      <td>1.544920e+12</td>\n",
       "      <td>Back Bay</td>\n",
       "      <td>Haymarket Square</td>\n",
       "      <td>1.0</td>\n",
       "      <td>154e8438-46f5-4e5f-9872-15cc95e85eed</td>\n",
       "      <td>lyft</td>\n",
       "      <td>Lyft</td>\n",
       "      <td>moderate</td>\n",
       "    </tr>\n",
       "    <tr>\n",
       "      <th>3</th>\n",
       "      <td>1.994994</td>\n",
       "      <td>Lyft</td>\n",
       "      <td>1.543620e+12</td>\n",
       "      <td>Financial District</td>\n",
       "      <td>Northeastern University</td>\n",
       "      <td>1.0</td>\n",
       "      <td>6bdc30a6-9a80-487b-914e-8d9b82ee4acb</td>\n",
       "      <td>lyft_plus</td>\n",
       "      <td>Lyft XL</td>\n",
       "      <td>expensive</td>\n",
       "    </tr>\n",
       "    <tr>\n",
       "      <th>4</th>\n",
       "      <td>1.220656</td>\n",
       "      <td>Lyft</td>\n",
       "      <td>1.543580e+12</td>\n",
       "      <td>Back Bay</td>\n",
       "      <td>Northeastern University</td>\n",
       "      <td>1.0</td>\n",
       "      <td>0cb12fe9-cd72-4feb-b341-4a566b2e6643</td>\n",
       "      <td>lyft</td>\n",
       "      <td>Lyft</td>\n",
       "      <td>cheap</td>\n",
       "    </tr>\n",
       "  </tbody>\n",
       "</table>\n",
       "</div>"
      ],
      "text/plain": [
       "   distance cab_type    time_stamp         destination  \\\n",
       "0  0.787401     Uber  1.544770e+12            West End   \n",
       "1  1.506652     Uber  1.543400e+12   Boston University   \n",
       "2  1.414214     Lyft  1.544920e+12            Back Bay   \n",
       "3  1.994994     Lyft  1.543620e+12  Financial District   \n",
       "4  1.220656     Lyft  1.543580e+12            Back Bay   \n",
       "\n",
       "                    source  surge_multiplier  \\\n",
       "0         Haymarket Square               1.0   \n",
       "1              Beacon Hill               1.0   \n",
       "2         Haymarket Square               1.0   \n",
       "3  Northeastern University               1.0   \n",
       "4  Northeastern University               1.0   \n",
       "\n",
       "                                     id                            product_id  \\\n",
       "0  c1b4a572-24b2-484d-aac5-b4f97b790480  8cf7e821-f0d3-49c6-8eba-e679c0ebcf6a   \n",
       "1  f9e7e7e6-b309-479b-9f90-bf26a1870c81  997acbb5-e102-41e1-b155-9df7de0a73f2   \n",
       "2  154e8438-46f5-4e5f-9872-15cc95e85eed                                  lyft   \n",
       "3  6bdc30a6-9a80-487b-914e-8d9b82ee4acb                             lyft_plus   \n",
       "4  0cb12fe9-cd72-4feb-b341-4a566b2e6643                                  lyft   \n",
       "\n",
       "       name RideCategory  \n",
       "0      Taxi      unknown  \n",
       "1  UberPool        cheap  \n",
       "2      Lyft     moderate  \n",
       "3   Lyft XL    expensive  \n",
       "4      Lyft        cheap  "
      ]
     },
     "execution_count": 19,
     "metadata": {},
     "output_type": "execute_result"
    }
   ],
   "source": [
    "taxi.head()"
   ]
  },
  {
   "attachments": {},
   "cell_type": "markdown",
   "metadata": {},
   "source": [
    "# we will drop this `id` feature due it doesn't provide any important information\n"
   ]
  },
  {
   "cell_type": "code",
   "execution_count": 20,
   "metadata": {
    "scrolled": false
   },
   "outputs": [
    {
     "data": {
      "text/html": [
       "<div>\n",
       "<style scoped>\n",
       "    .dataframe tbody tr th:only-of-type {\n",
       "        vertical-align: middle;\n",
       "    }\n",
       "\n",
       "    .dataframe tbody tr th {\n",
       "        vertical-align: top;\n",
       "    }\n",
       "\n",
       "    .dataframe thead th {\n",
       "        text-align: right;\n",
       "    }\n",
       "</style>\n",
       "<table border=\"1\" class=\"dataframe\">\n",
       "  <thead>\n",
       "    <tr style=\"text-align: right;\">\n",
       "      <th></th>\n",
       "      <th>distance</th>\n",
       "      <th>cab_type</th>\n",
       "      <th>time_stamp</th>\n",
       "      <th>destination</th>\n",
       "      <th>source</th>\n",
       "      <th>surge_multiplier</th>\n",
       "      <th>product_id</th>\n",
       "      <th>name</th>\n",
       "      <th>RideCategory</th>\n",
       "    </tr>\n",
       "  </thead>\n",
       "  <tbody>\n",
       "    <tr>\n",
       "      <th>0</th>\n",
       "      <td>0.787401</td>\n",
       "      <td>Uber</td>\n",
       "      <td>1.544770e+12</td>\n",
       "      <td>West End</td>\n",
       "      <td>Haymarket Square</td>\n",
       "      <td>1.0</td>\n",
       "      <td>8cf7e821-f0d3-49c6-8eba-e679c0ebcf6a</td>\n",
       "      <td>Taxi</td>\n",
       "      <td>unknown</td>\n",
       "    </tr>\n",
       "    <tr>\n",
       "      <th>1</th>\n",
       "      <td>1.506652</td>\n",
       "      <td>Uber</td>\n",
       "      <td>1.543400e+12</td>\n",
       "      <td>Boston University</td>\n",
       "      <td>Beacon Hill</td>\n",
       "      <td>1.0</td>\n",
       "      <td>997acbb5-e102-41e1-b155-9df7de0a73f2</td>\n",
       "      <td>UberPool</td>\n",
       "      <td>cheap</td>\n",
       "    </tr>\n",
       "    <tr>\n",
       "      <th>2</th>\n",
       "      <td>1.414214</td>\n",
       "      <td>Lyft</td>\n",
       "      <td>1.544920e+12</td>\n",
       "      <td>Back Bay</td>\n",
       "      <td>Haymarket Square</td>\n",
       "      <td>1.0</td>\n",
       "      <td>lyft</td>\n",
       "      <td>Lyft</td>\n",
       "      <td>moderate</td>\n",
       "    </tr>\n",
       "    <tr>\n",
       "      <th>3</th>\n",
       "      <td>1.994994</td>\n",
       "      <td>Lyft</td>\n",
       "      <td>1.543620e+12</td>\n",
       "      <td>Financial District</td>\n",
       "      <td>Northeastern University</td>\n",
       "      <td>1.0</td>\n",
       "      <td>lyft_plus</td>\n",
       "      <td>Lyft XL</td>\n",
       "      <td>expensive</td>\n",
       "    </tr>\n",
       "    <tr>\n",
       "      <th>4</th>\n",
       "      <td>1.220656</td>\n",
       "      <td>Lyft</td>\n",
       "      <td>1.543580e+12</td>\n",
       "      <td>Back Bay</td>\n",
       "      <td>Northeastern University</td>\n",
       "      <td>1.0</td>\n",
       "      <td>lyft</td>\n",
       "      <td>Lyft</td>\n",
       "      <td>cheap</td>\n",
       "    </tr>\n",
       "  </tbody>\n",
       "</table>\n",
       "</div>"
      ],
      "text/plain": [
       "   distance cab_type    time_stamp         destination  \\\n",
       "0  0.787401     Uber  1.544770e+12            West End   \n",
       "1  1.506652     Uber  1.543400e+12   Boston University   \n",
       "2  1.414214     Lyft  1.544920e+12            Back Bay   \n",
       "3  1.994994     Lyft  1.543620e+12  Financial District   \n",
       "4  1.220656     Lyft  1.543580e+12            Back Bay   \n",
       "\n",
       "                    source  surge_multiplier  \\\n",
       "0         Haymarket Square               1.0   \n",
       "1              Beacon Hill               1.0   \n",
       "2         Haymarket Square               1.0   \n",
       "3  Northeastern University               1.0   \n",
       "4  Northeastern University               1.0   \n",
       "\n",
       "                             product_id      name RideCategory  \n",
       "0  8cf7e821-f0d3-49c6-8eba-e679c0ebcf6a      Taxi      unknown  \n",
       "1  997acbb5-e102-41e1-b155-9df7de0a73f2  UberPool        cheap  \n",
       "2                                  lyft      Lyft     moderate  \n",
       "3                             lyft_plus   Lyft XL    expensive  \n",
       "4                                  lyft      Lyft        cheap  "
      ]
     },
     "execution_count": 20,
     "metadata": {},
     "output_type": "execute_result"
    }
   ],
   "source": [
    "taxi.drop(['id'],axis=1,inplace=True)\n",
    "taxi.head()"
   ]
  },
  {
   "cell_type": "code",
   "execution_count": 21,
   "metadata": {},
   "outputs": [
    {
     "data": {
      "text/plain": [
       "Financial District         45168\n",
       "West End                   44818\n",
       "Back Bay                   44748\n",
       "South Station              44739\n",
       "Fenway                     44730\n",
       "Beacon Hill                44625\n",
       "North End                  44621\n",
       "Haymarket Square           44620\n",
       "North Station              44532\n",
       "Theatre District           44522\n",
       "Boston University          44478\n",
       "Northeastern University    43630\n",
       "Name: destination, dtype: int64"
      ]
     },
     "execution_count": 21,
     "metadata": {},
     "output_type": "execute_result"
    }
   ],
   "source": [
    "taxi['destination'].value_counts()"
   ]
  },
  {
   "cell_type": "code",
   "execution_count": 22,
   "metadata": {},
   "outputs": [
    {
     "data": {
      "text/plain": [
       "North End                  46040\n",
       "Haymarket Square           45675\n",
       "North Station              45291\n",
       "West End                   45121\n",
       "South Station              44907\n",
       "Financial District         44638\n",
       "Theatre District           44238\n",
       "Beacon Hill                44093\n",
       "Boston University          44070\n",
       "Fenway                     43957\n",
       "Northeastern University    43764\n",
       "Back Bay                   43437\n",
       "Name: source, dtype: int64"
      ]
     },
     "execution_count": 22,
     "metadata": {},
     "output_type": "execute_result"
    }
   ],
   "source": [
    "taxi['source'].value_counts()"
   ]
  },
  {
   "cell_type": "code",
   "execution_count": 23,
   "metadata": {},
   "outputs": [
    {
     "data": {
      "text/plain": [
       "UberX           43876\n",
       "Taxi            43799\n",
       "UberPool        43761\n",
       "Black SUV       43690\n",
       "WAV             43681\n",
       "Black           43646\n",
       "UberXL          43642\n",
       "Shared          40841\n",
       "Lyft XL         37748\n",
       "Lux Black       37695\n",
       "Lyft            37639\n",
       "Lux             37616\n",
       "Lux Black XL    37597\n",
       "Name: name, dtype: int64"
      ]
     },
     "execution_count": 23,
     "metadata": {},
     "output_type": "execute_result"
    }
   ],
   "source": [
    "taxi['name'].value_counts()"
   ]
  },
  {
   "cell_type": "code",
   "execution_count": 24,
   "metadata": {
    "scrolled": true
   },
   "outputs": [
    {
     "data": {
      "text/plain": [
       "55c66225-fbe7-4fd5-9072-eab1ece5e23e    43876\n",
       "8cf7e821-f0d3-49c6-8eba-e679c0ebcf6a    43799\n",
       "997acbb5-e102-41e1-b155-9df7de0a73f2    43761\n",
       "6d318bcc-22a3-4af6-bddd-b409bfce1546    43690\n",
       "9a0e7b09-b92b-4c41-9779-2ad22b4d779d    43681\n",
       "6c84fd89-3f11-4782-9b50-97c468b19529    43646\n",
       "6f72dfc5-27f1-42e8-84db-ccc7a75f6969    43642\n",
       "lyft_line                               40841\n",
       "lyft_plus                               37748\n",
       "lyft_lux                                37695\n",
       "lyft                                    37639\n",
       "lyft_premier                            37616\n",
       "lyft_luxsuv                             37597\n",
       "Name: product_id, dtype: int64"
      ]
     },
     "execution_count": 24,
     "metadata": {},
     "output_type": "execute_result"
    }
   ],
   "source": [
    "taxi['product_id'].value_counts()"
   ]
  },
  {
   "cell_type": "code",
   "execution_count": 25,
   "metadata": {
    "scrolled": true
   },
   "outputs": [
    {
     "data": {
      "text/plain": [
       "moderate          173014\n",
       "cheap             150920\n",
       "expensive         123318\n",
       "very expensive     44180\n",
       "unknown            43799\n",
       "Name: RideCategory, dtype: int64"
      ]
     },
     "execution_count": 25,
     "metadata": {},
     "output_type": "execute_result"
    }
   ],
   "source": [
    "taxi['RideCategory'].value_counts()"
   ]
  },
  {
   "cell_type": "code",
   "execution_count": 26,
   "metadata": {},
   "outputs": [
    {
     "data": {
      "text/html": [
       "<div>\n",
       "<style scoped>\n",
       "    .dataframe tbody tr th:only-of-type {\n",
       "        vertical-align: middle;\n",
       "    }\n",
       "\n",
       "    .dataframe tbody tr th {\n",
       "        vertical-align: top;\n",
       "    }\n",
       "\n",
       "    .dataframe thead th {\n",
       "        text-align: right;\n",
       "    }\n",
       "</style>\n",
       "<table border=\"1\" class=\"dataframe\">\n",
       "  <thead>\n",
       "    <tr style=\"text-align: right;\">\n",
       "      <th></th>\n",
       "      <th>distance</th>\n",
       "      <th>cab_type</th>\n",
       "      <th>time_stamp</th>\n",
       "      <th>destination</th>\n",
       "      <th>source</th>\n",
       "      <th>surge_multiplier</th>\n",
       "      <th>product_id</th>\n",
       "      <th>name</th>\n",
       "      <th>RideCategory</th>\n",
       "    </tr>\n",
       "  </thead>\n",
       "  <tbody>\n",
       "    <tr>\n",
       "      <th>0</th>\n",
       "      <td>0.787401</td>\n",
       "      <td>Uber</td>\n",
       "      <td>1.544770e+12</td>\n",
       "      <td>West End</td>\n",
       "      <td>Haymarket Square</td>\n",
       "      <td>1.0</td>\n",
       "      <td>8cf7e821-f0d3-49c6-8eba-e679c0ebcf6a</td>\n",
       "      <td>Taxi</td>\n",
       "      <td>unknown</td>\n",
       "    </tr>\n",
       "    <tr>\n",
       "      <th>1</th>\n",
       "      <td>1.506652</td>\n",
       "      <td>Uber</td>\n",
       "      <td>1.543400e+12</td>\n",
       "      <td>Boston University</td>\n",
       "      <td>Beacon Hill</td>\n",
       "      <td>1.0</td>\n",
       "      <td>997acbb5-e102-41e1-b155-9df7de0a73f2</td>\n",
       "      <td>UberPool</td>\n",
       "      <td>cheap</td>\n",
       "    </tr>\n",
       "    <tr>\n",
       "      <th>2</th>\n",
       "      <td>1.414214</td>\n",
       "      <td>Lyft</td>\n",
       "      <td>1.544920e+12</td>\n",
       "      <td>Back Bay</td>\n",
       "      <td>Haymarket Square</td>\n",
       "      <td>1.0</td>\n",
       "      <td>lyft</td>\n",
       "      <td>Lyft</td>\n",
       "      <td>moderate</td>\n",
       "    </tr>\n",
       "    <tr>\n",
       "      <th>3</th>\n",
       "      <td>1.994994</td>\n",
       "      <td>Lyft</td>\n",
       "      <td>1.543620e+12</td>\n",
       "      <td>Financial District</td>\n",
       "      <td>Northeastern University</td>\n",
       "      <td>1.0</td>\n",
       "      <td>lyft_plus</td>\n",
       "      <td>Lyft XL</td>\n",
       "      <td>expensive</td>\n",
       "    </tr>\n",
       "    <tr>\n",
       "      <th>4</th>\n",
       "      <td>1.220656</td>\n",
       "      <td>Lyft</td>\n",
       "      <td>1.543580e+12</td>\n",
       "      <td>Back Bay</td>\n",
       "      <td>Northeastern University</td>\n",
       "      <td>1.0</td>\n",
       "      <td>lyft</td>\n",
       "      <td>Lyft</td>\n",
       "      <td>cheap</td>\n",
       "    </tr>\n",
       "  </tbody>\n",
       "</table>\n",
       "</div>"
      ],
      "text/plain": [
       "   distance cab_type    time_stamp         destination  \\\n",
       "0  0.787401     Uber  1.544770e+12            West End   \n",
       "1  1.506652     Uber  1.543400e+12   Boston University   \n",
       "2  1.414214     Lyft  1.544920e+12            Back Bay   \n",
       "3  1.994994     Lyft  1.543620e+12  Financial District   \n",
       "4  1.220656     Lyft  1.543580e+12            Back Bay   \n",
       "\n",
       "                    source  surge_multiplier  \\\n",
       "0         Haymarket Square               1.0   \n",
       "1              Beacon Hill               1.0   \n",
       "2         Haymarket Square               1.0   \n",
       "3  Northeastern University               1.0   \n",
       "4  Northeastern University               1.0   \n",
       "\n",
       "                             product_id      name RideCategory  \n",
       "0  8cf7e821-f0d3-49c6-8eba-e679c0ebcf6a      Taxi      unknown  \n",
       "1  997acbb5-e102-41e1-b155-9df7de0a73f2  UberPool        cheap  \n",
       "2                                  lyft      Lyft     moderate  \n",
       "3                             lyft_plus   Lyft XL    expensive  \n",
       "4                                  lyft      Lyft        cheap  "
      ]
     },
     "execution_count": 26,
     "metadata": {},
     "output_type": "execute_result"
    }
   ],
   "source": [
    "taxi.head()"
   ]
  },
  {
   "attachments": {},
   "cell_type": "markdown",
   "metadata": {},
   "source": [
    "## we will continue working on the left nominal features only after mergeing the 2 data sets"
   ]
  },
  {
   "cell_type": "code",
   "execution_count": 27,
   "metadata": {},
   "outputs": [
    {
     "data": {
      "text/html": [
       "<div>\n",
       "<style scoped>\n",
       "    .dataframe tbody tr th:only-of-type {\n",
       "        vertical-align: middle;\n",
       "    }\n",
       "\n",
       "    .dataframe tbody tr th {\n",
       "        vertical-align: top;\n",
       "    }\n",
       "\n",
       "    .dataframe thead th {\n",
       "        text-align: right;\n",
       "    }\n",
       "</style>\n",
       "<table border=\"1\" class=\"dataframe\">\n",
       "  <thead>\n",
       "    <tr style=\"text-align: right;\">\n",
       "      <th></th>\n",
       "      <th>distance</th>\n",
       "      <th>cab_type</th>\n",
       "      <th>time_stamp</th>\n",
       "      <th>destination</th>\n",
       "      <th>source</th>\n",
       "      <th>surge_multiplier</th>\n",
       "      <th>product_id</th>\n",
       "      <th>name</th>\n",
       "      <th>RideCategory</th>\n",
       "    </tr>\n",
       "  </thead>\n",
       "  <tbody>\n",
       "    <tr>\n",
       "      <th>0</th>\n",
       "      <td>0.787401</td>\n",
       "      <td>Uber</td>\n",
       "      <td>1.544770e+12</td>\n",
       "      <td>West End</td>\n",
       "      <td>Haymarket Square</td>\n",
       "      <td>1.0</td>\n",
       "      <td>8cf7e821-f0d3-49c6-8eba-e679c0ebcf6a</td>\n",
       "      <td>Taxi</td>\n",
       "      <td>unknown</td>\n",
       "    </tr>\n",
       "    <tr>\n",
       "      <th>1</th>\n",
       "      <td>1.506652</td>\n",
       "      <td>Uber</td>\n",
       "      <td>1.543400e+12</td>\n",
       "      <td>Boston University</td>\n",
       "      <td>Beacon Hill</td>\n",
       "      <td>1.0</td>\n",
       "      <td>997acbb5-e102-41e1-b155-9df7de0a73f2</td>\n",
       "      <td>UberPool</td>\n",
       "      <td>cheap</td>\n",
       "    </tr>\n",
       "    <tr>\n",
       "      <th>2</th>\n",
       "      <td>1.414214</td>\n",
       "      <td>Lyft</td>\n",
       "      <td>1.544920e+12</td>\n",
       "      <td>Back Bay</td>\n",
       "      <td>Haymarket Square</td>\n",
       "      <td>1.0</td>\n",
       "      <td>lyft</td>\n",
       "      <td>Lyft</td>\n",
       "      <td>moderate</td>\n",
       "    </tr>\n",
       "    <tr>\n",
       "      <th>3</th>\n",
       "      <td>1.994994</td>\n",
       "      <td>Lyft</td>\n",
       "      <td>1.543620e+12</td>\n",
       "      <td>Financial District</td>\n",
       "      <td>Northeastern University</td>\n",
       "      <td>1.0</td>\n",
       "      <td>lyft_plus</td>\n",
       "      <td>Lyft XL</td>\n",
       "      <td>expensive</td>\n",
       "    </tr>\n",
       "    <tr>\n",
       "      <th>4</th>\n",
       "      <td>1.220656</td>\n",
       "      <td>Lyft</td>\n",
       "      <td>1.543580e+12</td>\n",
       "      <td>Back Bay</td>\n",
       "      <td>Northeastern University</td>\n",
       "      <td>1.0</td>\n",
       "      <td>lyft</td>\n",
       "      <td>Lyft</td>\n",
       "      <td>cheap</td>\n",
       "    </tr>\n",
       "    <tr>\n",
       "      <th>...</th>\n",
       "      <td>...</td>\n",
       "      <td>...</td>\n",
       "      <td>...</td>\n",
       "      <td>...</td>\n",
       "      <td>...</td>\n",
       "      <td>...</td>\n",
       "      <td>...</td>\n",
       "      <td>...</td>\n",
       "      <td>...</td>\n",
       "    </tr>\n",
       "    <tr>\n",
       "      <th>554451</th>\n",
       "      <td>1.280625</td>\n",
       "      <td>Uber</td>\n",
       "      <td>1.543620e+12</td>\n",
       "      <td>Back Bay</td>\n",
       "      <td>Northeastern University</td>\n",
       "      <td>1.0</td>\n",
       "      <td>6f72dfc5-27f1-42e8-84db-ccc7a75f6969</td>\n",
       "      <td>UberXL</td>\n",
       "      <td>moderate</td>\n",
       "    </tr>\n",
       "    <tr>\n",
       "      <th>554452</th>\n",
       "      <td>0.959166</td>\n",
       "      <td>Uber</td>\n",
       "      <td>1.543550e+12</td>\n",
       "      <td>North Station</td>\n",
       "      <td>North End</td>\n",
       "      <td>1.0</td>\n",
       "      <td>6d318bcc-22a3-4af6-bddd-b409bfce1546</td>\n",
       "      <td>Black SUV</td>\n",
       "      <td>expensive</td>\n",
       "    </tr>\n",
       "    <tr>\n",
       "      <th>554453</th>\n",
       "      <td>1.630951</td>\n",
       "      <td>Uber</td>\n",
       "      <td>1.543530e+12</td>\n",
       "      <td>Theatre District</td>\n",
       "      <td>Fenway</td>\n",
       "      <td>1.0</td>\n",
       "      <td>6f72dfc5-27f1-42e8-84db-ccc7a75f6969</td>\n",
       "      <td>UberXL</td>\n",
       "      <td>moderate</td>\n",
       "    </tr>\n",
       "    <tr>\n",
       "      <th>554454</th>\n",
       "      <td>1.726268</td>\n",
       "      <td>Uber</td>\n",
       "      <td>1.543650e+12</td>\n",
       "      <td>Theatre District</td>\n",
       "      <td>Boston University</td>\n",
       "      <td>1.0</td>\n",
       "      <td>55c66225-fbe7-4fd5-9072-eab1ece5e23e</td>\n",
       "      <td>UberX</td>\n",
       "      <td>moderate</td>\n",
       "    </tr>\n",
       "    <tr>\n",
       "      <th>554455</th>\n",
       "      <td>1.382027</td>\n",
       "      <td>Uber</td>\n",
       "      <td>1.543620e+12</td>\n",
       "      <td>Theatre District</td>\n",
       "      <td>Northeastern University</td>\n",
       "      <td>1.0</td>\n",
       "      <td>6f72dfc5-27f1-42e8-84db-ccc7a75f6969</td>\n",
       "      <td>UberXL</td>\n",
       "      <td>moderate</td>\n",
       "    </tr>\n",
       "  </tbody>\n",
       "</table>\n",
       "<p>535231 rows × 9 columns</p>\n",
       "</div>"
      ],
      "text/plain": [
       "        distance cab_type    time_stamp         destination  \\\n",
       "0       0.787401     Uber  1.544770e+12            West End   \n",
       "1       1.506652     Uber  1.543400e+12   Boston University   \n",
       "2       1.414214     Lyft  1.544920e+12            Back Bay   \n",
       "3       1.994994     Lyft  1.543620e+12  Financial District   \n",
       "4       1.220656     Lyft  1.543580e+12            Back Bay   \n",
       "...          ...      ...           ...                 ...   \n",
       "554451  1.280625     Uber  1.543620e+12            Back Bay   \n",
       "554452  0.959166     Uber  1.543550e+12       North Station   \n",
       "554453  1.630951     Uber  1.543530e+12    Theatre District   \n",
       "554454  1.726268     Uber  1.543650e+12    Theatre District   \n",
       "554455  1.382027     Uber  1.543620e+12    Theatre District   \n",
       "\n",
       "                         source  surge_multiplier  \\\n",
       "0              Haymarket Square               1.0   \n",
       "1                   Beacon Hill               1.0   \n",
       "2              Haymarket Square               1.0   \n",
       "3       Northeastern University               1.0   \n",
       "4       Northeastern University               1.0   \n",
       "...                         ...               ...   \n",
       "554451  Northeastern University               1.0   \n",
       "554452                North End               1.0   \n",
       "554453                   Fenway               1.0   \n",
       "554454        Boston University               1.0   \n",
       "554455  Northeastern University               1.0   \n",
       "\n",
       "                                  product_id       name RideCategory  \n",
       "0       8cf7e821-f0d3-49c6-8eba-e679c0ebcf6a       Taxi      unknown  \n",
       "1       997acbb5-e102-41e1-b155-9df7de0a73f2   UberPool        cheap  \n",
       "2                                       lyft       Lyft     moderate  \n",
       "3                                  lyft_plus    Lyft XL    expensive  \n",
       "4                                       lyft       Lyft        cheap  \n",
       "...                                      ...        ...          ...  \n",
       "554451  6f72dfc5-27f1-42e8-84db-ccc7a75f6969     UberXL     moderate  \n",
       "554452  6d318bcc-22a3-4af6-bddd-b409bfce1546  Black SUV    expensive  \n",
       "554453  6f72dfc5-27f1-42e8-84db-ccc7a75f6969     UberXL     moderate  \n",
       "554454  55c66225-fbe7-4fd5-9072-eab1ece5e23e      UberX     moderate  \n",
       "554455  6f72dfc5-27f1-42e8-84db-ccc7a75f6969     UberXL     moderate  \n",
       "\n",
       "[535231 rows x 9 columns]"
      ]
     },
     "execution_count": 27,
     "metadata": {},
     "output_type": "execute_result"
    }
   ],
   "source": [
    "taxi"
   ]
  },
  {
   "attachments": {},
   "cell_type": "markdown",
   "metadata": {},
   "source": [
    "***"
   ]
  },
  {
   "attachments": {},
   "cell_type": "markdown",
   "metadata": {},
   "source": [
    "# now let's move to work on weather data"
   ]
  },
  {
   "attachments": {},
   "cell_type": "markdown",
   "metadata": {},
   "source": [
    "*** "
   ]
  },
  {
   "cell_type": "code",
   "execution_count": 30,
   "metadata": {},
   "outputs": [],
   "source": [
    "weather=pd.read_csv(r'Train Datasets\\weather.csv')"
   ]
  },
  {
   "cell_type": "code",
   "execution_count": 31,
   "metadata": {},
   "outputs": [
    {
     "data": {
      "text/html": [
       "<div>\n",
       "<style scoped>\n",
       "    .dataframe tbody tr th:only-of-type {\n",
       "        vertical-align: middle;\n",
       "    }\n",
       "\n",
       "    .dataframe tbody tr th {\n",
       "        vertical-align: top;\n",
       "    }\n",
       "\n",
       "    .dataframe thead th {\n",
       "        text-align: right;\n",
       "    }\n",
       "</style>\n",
       "<table border=\"1\" class=\"dataframe\">\n",
       "  <thead>\n",
       "    <tr style=\"text-align: right;\">\n",
       "      <th></th>\n",
       "      <th>temp</th>\n",
       "      <th>location</th>\n",
       "      <th>clouds</th>\n",
       "      <th>pressure</th>\n",
       "      <th>rain</th>\n",
       "      <th>time_stamp</th>\n",
       "      <th>humidity</th>\n",
       "      <th>wind</th>\n",
       "    </tr>\n",
       "  </thead>\n",
       "  <tbody>\n",
       "    <tr>\n",
       "      <th>0</th>\n",
       "      <td>42.42</td>\n",
       "      <td>Back Bay</td>\n",
       "      <td>1.0</td>\n",
       "      <td>1012.14</td>\n",
       "      <td>0.1228</td>\n",
       "      <td>1545003901</td>\n",
       "      <td>0.77</td>\n",
       "      <td>11.25</td>\n",
       "    </tr>\n",
       "    <tr>\n",
       "      <th>1</th>\n",
       "      <td>42.43</td>\n",
       "      <td>Beacon Hill</td>\n",
       "      <td>1.0</td>\n",
       "      <td>1012.15</td>\n",
       "      <td>0.1846</td>\n",
       "      <td>1545003901</td>\n",
       "      <td>0.76</td>\n",
       "      <td>11.32</td>\n",
       "    </tr>\n",
       "    <tr>\n",
       "      <th>2</th>\n",
       "      <td>42.50</td>\n",
       "      <td>Boston University</td>\n",
       "      <td>1.0</td>\n",
       "      <td>1012.15</td>\n",
       "      <td>0.1089</td>\n",
       "      <td>1545003901</td>\n",
       "      <td>0.76</td>\n",
       "      <td>11.07</td>\n",
       "    </tr>\n",
       "    <tr>\n",
       "      <th>3</th>\n",
       "      <td>42.11</td>\n",
       "      <td>Fenway</td>\n",
       "      <td>1.0</td>\n",
       "      <td>1012.13</td>\n",
       "      <td>0.0969</td>\n",
       "      <td>1545003901</td>\n",
       "      <td>0.77</td>\n",
       "      <td>11.09</td>\n",
       "    </tr>\n",
       "    <tr>\n",
       "      <th>4</th>\n",
       "      <td>43.13</td>\n",
       "      <td>Financial District</td>\n",
       "      <td>1.0</td>\n",
       "      <td>1012.14</td>\n",
       "      <td>0.1786</td>\n",
       "      <td>1545003901</td>\n",
       "      <td>0.75</td>\n",
       "      <td>11.49</td>\n",
       "    </tr>\n",
       "  </tbody>\n",
       "</table>\n",
       "</div>"
      ],
      "text/plain": [
       "    temp            location  clouds  pressure    rain  time_stamp  humidity  \\\n",
       "0  42.42            Back Bay     1.0   1012.14  0.1228  1545003901      0.77   \n",
       "1  42.43         Beacon Hill     1.0   1012.15  0.1846  1545003901      0.76   \n",
       "2  42.50   Boston University     1.0   1012.15  0.1089  1545003901      0.76   \n",
       "3  42.11              Fenway     1.0   1012.13  0.0969  1545003901      0.77   \n",
       "4  43.13  Financial District     1.0   1012.14  0.1786  1545003901      0.75   \n",
       "\n",
       "    wind  \n",
       "0  11.25  \n",
       "1  11.32  \n",
       "2  11.07  \n",
       "3  11.09  \n",
       "4  11.49  "
      ]
     },
     "execution_count": 31,
     "metadata": {},
     "output_type": "execute_result"
    }
   ],
   "source": [
    "weather.head()"
   ]
  },
  {
   "cell_type": "code",
   "execution_count": 32,
   "metadata": {},
   "outputs": [
    {
     "data": {
      "text/html": [
       "<div>\n",
       "<style scoped>\n",
       "    .dataframe tbody tr th:only-of-type {\n",
       "        vertical-align: middle;\n",
       "    }\n",
       "\n",
       "    .dataframe tbody tr th {\n",
       "        vertical-align: top;\n",
       "    }\n",
       "\n",
       "    .dataframe thead th {\n",
       "        text-align: right;\n",
       "    }\n",
       "</style>\n",
       "<table border=\"1\" class=\"dataframe\">\n",
       "  <thead>\n",
       "    <tr style=\"text-align: right;\">\n",
       "      <th></th>\n",
       "      <th>temp</th>\n",
       "      <th>clouds</th>\n",
       "      <th>pressure</th>\n",
       "      <th>rain</th>\n",
       "      <th>time_stamp</th>\n",
       "      <th>humidity</th>\n",
       "      <th>wind</th>\n",
       "    </tr>\n",
       "  </thead>\n",
       "  <tbody>\n",
       "    <tr>\n",
       "      <th>count</th>\n",
       "      <td>6276.000000</td>\n",
       "      <td>6276.000000</td>\n",
       "      <td>6276.000000</td>\n",
       "      <td>894.000000</td>\n",
       "      <td>6.276000e+03</td>\n",
       "      <td>6276.000000</td>\n",
       "      <td>6276.000000</td>\n",
       "    </tr>\n",
       "    <tr>\n",
       "      <th>mean</th>\n",
       "      <td>39.090475</td>\n",
       "      <td>0.677777</td>\n",
       "      <td>1008.445209</td>\n",
       "      <td>0.057652</td>\n",
       "      <td>1.543857e+09</td>\n",
       "      <td>0.763985</td>\n",
       "      <td>6.802812</td>\n",
       "    </tr>\n",
       "    <tr>\n",
       "      <th>std</th>\n",
       "      <td>6.022055</td>\n",
       "      <td>0.314284</td>\n",
       "      <td>12.870775</td>\n",
       "      <td>0.100758</td>\n",
       "      <td>6.659340e+05</td>\n",
       "      <td>0.127340</td>\n",
       "      <td>3.633466</td>\n",
       "    </tr>\n",
       "    <tr>\n",
       "      <th>min</th>\n",
       "      <td>19.620000</td>\n",
       "      <td>0.000000</td>\n",
       "      <td>988.250000</td>\n",
       "      <td>0.000200</td>\n",
       "      <td>1.543204e+09</td>\n",
       "      <td>0.450000</td>\n",
       "      <td>0.290000</td>\n",
       "    </tr>\n",
       "    <tr>\n",
       "      <th>25%</th>\n",
       "      <td>36.077500</td>\n",
       "      <td>0.440000</td>\n",
       "      <td>997.747500</td>\n",
       "      <td>0.004900</td>\n",
       "      <td>1.543387e+09</td>\n",
       "      <td>0.670000</td>\n",
       "      <td>3.517500</td>\n",
       "    </tr>\n",
       "    <tr>\n",
       "      <th>50%</th>\n",
       "      <td>40.130000</td>\n",
       "      <td>0.780000</td>\n",
       "      <td>1007.660000</td>\n",
       "      <td>0.014850</td>\n",
       "      <td>1.543514e+09</td>\n",
       "      <td>0.760000</td>\n",
       "      <td>6.570000</td>\n",
       "    </tr>\n",
       "    <tr>\n",
       "      <th>75%</th>\n",
       "      <td>42.832500</td>\n",
       "      <td>0.970000</td>\n",
       "      <td>1018.480000</td>\n",
       "      <td>0.060925</td>\n",
       "      <td>1.544691e+09</td>\n",
       "      <td>0.890000</td>\n",
       "      <td>9.920000</td>\n",
       "    </tr>\n",
       "    <tr>\n",
       "      <th>max</th>\n",
       "      <td>55.410000</td>\n",
       "      <td>1.000000</td>\n",
       "      <td>1035.120000</td>\n",
       "      <td>0.780700</td>\n",
       "      <td>1.545159e+09</td>\n",
       "      <td>0.990000</td>\n",
       "      <td>18.180000</td>\n",
       "    </tr>\n",
       "  </tbody>\n",
       "</table>\n",
       "</div>"
      ],
      "text/plain": [
       "              temp       clouds     pressure        rain    time_stamp  \\\n",
       "count  6276.000000  6276.000000  6276.000000  894.000000  6.276000e+03   \n",
       "mean     39.090475     0.677777  1008.445209    0.057652  1.543857e+09   \n",
       "std       6.022055     0.314284    12.870775    0.100758  6.659340e+05   \n",
       "min      19.620000     0.000000   988.250000    0.000200  1.543204e+09   \n",
       "25%      36.077500     0.440000   997.747500    0.004900  1.543387e+09   \n",
       "50%      40.130000     0.780000  1007.660000    0.014850  1.543514e+09   \n",
       "75%      42.832500     0.970000  1018.480000    0.060925  1.544691e+09   \n",
       "max      55.410000     1.000000  1035.120000    0.780700  1.545159e+09   \n",
       "\n",
       "          humidity         wind  \n",
       "count  6276.000000  6276.000000  \n",
       "mean      0.763985     6.802812  \n",
       "std       0.127340     3.633466  \n",
       "min       0.450000     0.290000  \n",
       "25%       0.670000     3.517500  \n",
       "50%       0.760000     6.570000  \n",
       "75%       0.890000     9.920000  \n",
       "max       0.990000    18.180000  "
      ]
     },
     "execution_count": 32,
     "metadata": {},
     "output_type": "execute_result"
    }
   ],
   "source": [
    "weather.describe()"
   ]
  },
  {
   "cell_type": "code",
   "execution_count": 33,
   "metadata": {},
   "outputs": [
    {
     "name": "stdout",
     "output_type": "stream",
     "text": [
      "<class 'pandas.core.frame.DataFrame'>\n",
      "RangeIndex: 6276 entries, 0 to 6275\n",
      "Data columns (total 8 columns):\n",
      " #   Column      Non-Null Count  Dtype  \n",
      "---  ------      --------------  -----  \n",
      " 0   temp        6276 non-null   float64\n",
      " 1   location    6276 non-null   object \n",
      " 2   clouds      6276 non-null   float64\n",
      " 3   pressure    6276 non-null   float64\n",
      " 4   rain        894 non-null    float64\n",
      " 5   time_stamp  6276 non-null   int64  \n",
      " 6   humidity    6276 non-null   float64\n",
      " 7   wind        6276 non-null   float64\n",
      "dtypes: float64(6), int64(1), object(1)\n",
      "memory usage: 392.4+ KB\n"
     ]
    }
   ],
   "source": [
    "weather.info()"
   ]
  },
  {
   "cell_type": "code",
   "execution_count": 34,
   "metadata": {},
   "outputs": [
    {
     "data": {
      "text/plain": [
       "(6276, 8)"
      ]
     },
     "execution_count": 34,
     "metadata": {},
     "output_type": "execute_result"
    }
   ],
   "source": [
    "weather.shape"
   ]
  },
  {
   "cell_type": "code",
   "execution_count": 35,
   "metadata": {},
   "outputs": [
    {
     "data": {
      "text/plain": [
       "temp             0\n",
       "location         0\n",
       "clouds           0\n",
       "pressure         0\n",
       "rain          5382\n",
       "time_stamp       0\n",
       "humidity         0\n",
       "wind             0\n",
       "dtype: int64"
      ]
     },
     "execution_count": 35,
     "metadata": {},
     "output_type": "execute_result"
    }
   ],
   "source": [
    "weather.isnull().sum()"
   ]
  },
  {
   "cell_type": "code",
   "execution_count": 37,
   "metadata": {},
   "outputs": [
    {
     "name": "stdout",
     "output_type": "stream",
     "text": [
      " percentage of missing rain values  = 85.75525812619503\n"
     ]
    }
   ],
   "source": [
    "print(' percentage of missing rain values  = {}'.format((weather['rain'].isnull().sum()/len(weather))*100))"
   ]
  },
  {
   "attachments": {},
   "cell_type": "markdown",
   "metadata": {},
   "source": [
    "## percentage of missing rain values is about 85% so we will drop rain column "
   ]
  },
  {
   "cell_type": "code",
   "execution_count": 38,
   "metadata": {},
   "outputs": [],
   "source": [
    "weather.drop(['rain'],axis=1,inplace=True)"
   ]
  },
  {
   "cell_type": "code",
   "execution_count": 39,
   "metadata": {
    "scrolled": true
   },
   "outputs": [
    {
     "data": {
      "text/plain": [
       "temp          0\n",
       "location      0\n",
       "clouds        0\n",
       "pressure      0\n",
       "time_stamp    0\n",
       "humidity      0\n",
       "wind          0\n",
       "dtype: int64"
      ]
     },
     "execution_count": 39,
     "metadata": {},
     "output_type": "execute_result"
    }
   ],
   "source": [
    "weather.isnull().sum()"
   ]
  },
  {
   "attachments": {},
   "cell_type": "markdown",
   "metadata": {},
   "source": [
    "# find duplicate data"
   ]
  },
  {
   "cell_type": "code",
   "execution_count": 40,
   "metadata": {},
   "outputs": [
    {
     "data": {
      "text/plain": [
       "0"
      ]
     },
     "execution_count": 40,
     "metadata": {},
     "output_type": "execute_result"
    }
   ],
   "source": [
    "weather.duplicated().sum()"
   ]
  },
  {
   "attachments": {},
   "cell_type": "markdown",
   "metadata": {},
   "source": [
    "# Detecting outliers"
   ]
  },
  {
   "cell_type": "code",
   "execution_count": 41,
   "metadata": {},
   "outputs": [
    {
     "data": {
      "text/plain": [
       "Index(['temp', 'location', 'clouds', 'pressure', 'time_stamp', 'humidity',\n",
       "       'wind'],\n",
       "      dtype='object')"
      ]
     },
     "execution_count": 41,
     "metadata": {},
     "output_type": "execute_result"
    }
   ],
   "source": [
    "weather.columns"
   ]
  },
  {
   "cell_type": "code",
   "execution_count": 42,
   "metadata": {},
   "outputs": [
    {
     "data": {
      "image/png": "[encoded data removed]",
      "text/plain": [
       "<Figure size 1000x1000 with 1 Axes>"
      ]
     },
     "metadata": {},
     "output_type": "display_data"
    }
   ],
   "source": [
    "sns.boxplot(x=weather['temp'])\n",
    "plt.show()"
   ]
  },
  {
   "cell_type": "code",
   "execution_count": 43,
   "metadata": {},
   "outputs": [
    {
     "data": {
      "image/png": "[encoded data removed]",
      "text/plain": [
       "<Figure size 1000x1000 with 1 Axes>"
      ]
     },
     "metadata": {},
     "output_type": "display_data"
    }
   ],
   "source": [
    "sns.boxplot(x=weather['clouds'])\n",
    "plt.show()"
   ]
  },
  {
   "cell_type": "code",
   "execution_count": 44,
   "metadata": {},
   "outputs": [
    {
     "data": {
      "image/png": "[encoded data removed]",
      "text/plain": [
       "<Figure size 1000x1000 with 1 Axes>"
      ]
     },
     "metadata": {},
     "output_type": "display_data"
    }
   ],
   "source": [
    "sns.boxplot(x=weather['pressure'])\n",
    "plt.show()"
   ]
  },
  {
   "cell_type": "code",
   "execution_count": 45,
   "metadata": {},
   "outputs": [
    {
     "data": {
      "image/png": "[encoded data removed]",
      "text/plain": [
       "<Figure size 1000x1000 with 1 Axes>"
      ]
     },
     "metadata": {},
     "output_type": "display_data"
    }
   ],
   "source": [
    "sns.boxplot(x=weather['humidity'])\n",
    "plt.show()"
   ]
  },
  {
   "cell_type": "code",
   "execution_count": 46,
   "metadata": {},
   "outputs": [
    {
     "data": {
      "image/png": "[encoded data removed]",
      "text/plain": [
       "<Figure size 1000x1000 with 1 Axes>"
      ]
     },
     "metadata": {},
     "output_type": "display_data"
    }
   ],
   "source": [
    "sns.boxplot(x=weather['wind'])\n",
    "plt.show()"
   ]
  },
  {
   "attachments": {},
   "cell_type": "markdown",
   "metadata": {},
   "source": [
    "## there are clear outliers on temp column so let's remove it"
   ]
  },
  {
   "cell_type": "code",
   "execution_count": 47,
   "metadata": {
    "scrolled": false
   },
   "outputs": [
    {
     "data": {
      "image/png": "[encoded data removed]",
      "text/plain": [
       "<Figure size 1000x1000 with 1 Axes>"
      ]
     },
     "metadata": {},
     "output_type": "display_data"
    }
   ],
   "source": [
    "sns.boxplot(x=weather['temp'])\n",
    "plt.show()"
   ]
  },
  {
   "attachments": {},
   "cell_type": "markdown",
   "metadata": {},
   "source": [
    "## - After I have removed these outliers using `IQR` method ,the boxplot still contains other outliers"
   ]
  },
  {
   "cell_type": "code",
   "execution_count": 50,
   "metadata": {},
   "outputs": [
    {
     "data": {
      "image/png": "[encoded data removed]",
      "text/plain": [
       "<Figure size 1000x1000 with 1 Axes>"
      ]
     },
     "metadata": {},
     "output_type": "display_data"
    },
    {
     "name": "stdout",
     "output_type": "stream",
     "text": [
      "number of outliers in temp is : 1020\n"
     ]
    },
    {
     "data": {
      "image/png": "[encoded data removed]",
      "text/plain": [
       "<Figure size 1000x1000 with 1 Axes>"
      ]
     },
     "metadata": {},
     "output_type": "display_data"
    }
   ],
   "source": [
    "def MAD(df,col,thresh_hold):\n",
    "    sns.boxplot(x=df[col])\n",
    "    plt.show()\n",
    "    from scipy import stats\n",
    "    med = float(np.median(df[col], axis = 0))\n",
    "    mad = (stats.median_abs_deviation(df[col]))\n",
    "    outlier = []\n",
    "    for i, v in enumerate(df[col]):\n",
    "        t = (v-med)/mad\n",
    "        if t > thresh_hold or t<-thresh_hold:\n",
    "            outlier.append(i)\n",
    "        else:\n",
    "            continue\n",
    "    print('number of outliers in {} is : {}'.format( col,len(outlier)))\n",
    "\n",
    "    d=df.drop(outlier)\n",
    "    sns.boxplot(x=d[col])\n",
    "    plt.show()\n",
    "    return d\n",
    "\n",
    "weath=MAD(weather,'temp',thresh_hold=2.3)"
   ]
  },
  {
   "cell_type": "code",
   "execution_count": 51,
   "metadata": {
    "scrolled": true
   },
   "outputs": [
    {
     "data": {
      "text/html": [
       "<div>\n",
       "<style scoped>\n",
       "    .dataframe tbody tr th:only-of-type {\n",
       "        vertical-align: middle;\n",
       "    }\n",
       "\n",
       "    .dataframe tbody tr th {\n",
       "        vertical-align: top;\n",
       "    }\n",
       "\n",
       "    .dataframe thead th {\n",
       "        text-align: right;\n",
       "    }\n",
       "</style>\n",
       "<table border=\"1\" class=\"dataframe\">\n",
       "  <thead>\n",
       "    <tr style=\"text-align: right;\">\n",
       "      <th></th>\n",
       "      <th>temp</th>\n",
       "      <th>location</th>\n",
       "      <th>clouds</th>\n",
       "      <th>pressure</th>\n",
       "      <th>time_stamp</th>\n",
       "      <th>humidity</th>\n",
       "      <th>wind</th>\n",
       "    </tr>\n",
       "  </thead>\n",
       "  <tbody>\n",
       "    <tr>\n",
       "      <th>0</th>\n",
       "      <td>42.42</td>\n",
       "      <td>Back Bay</td>\n",
       "      <td>1.0</td>\n",
       "      <td>1012.14</td>\n",
       "      <td>1545003901</td>\n",
       "      <td>0.77</td>\n",
       "      <td>11.25</td>\n",
       "    </tr>\n",
       "    <tr>\n",
       "      <th>1</th>\n",
       "      <td>42.43</td>\n",
       "      <td>Beacon Hill</td>\n",
       "      <td>1.0</td>\n",
       "      <td>1012.15</td>\n",
       "      <td>1545003901</td>\n",
       "      <td>0.76</td>\n",
       "      <td>11.32</td>\n",
       "    </tr>\n",
       "    <tr>\n",
       "      <th>2</th>\n",
       "      <td>42.50</td>\n",
       "      <td>Boston University</td>\n",
       "      <td>1.0</td>\n",
       "      <td>1012.15</td>\n",
       "      <td>1545003901</td>\n",
       "      <td>0.76</td>\n",
       "      <td>11.07</td>\n",
       "    </tr>\n",
       "    <tr>\n",
       "      <th>3</th>\n",
       "      <td>42.11</td>\n",
       "      <td>Fenway</td>\n",
       "      <td>1.0</td>\n",
       "      <td>1012.13</td>\n",
       "      <td>1545003901</td>\n",
       "      <td>0.77</td>\n",
       "      <td>11.09</td>\n",
       "    </tr>\n",
       "    <tr>\n",
       "      <th>4</th>\n",
       "      <td>43.13</td>\n",
       "      <td>Financial District</td>\n",
       "      <td>1.0</td>\n",
       "      <td>1012.14</td>\n",
       "      <td>1545003901</td>\n",
       "      <td>0.75</td>\n",
       "      <td>11.49</td>\n",
       "    </tr>\n",
       "  </tbody>\n",
       "</table>\n",
       "</div>"
      ],
      "text/plain": [
       "    temp            location  clouds  pressure  time_stamp  humidity   wind\n",
       "0  42.42            Back Bay     1.0   1012.14  1545003901      0.77  11.25\n",
       "1  42.43         Beacon Hill     1.0   1012.15  1545003901      0.76  11.32\n",
       "2  42.50   Boston University     1.0   1012.15  1545003901      0.76  11.07\n",
       "3  42.11              Fenway     1.0   1012.13  1545003901      0.77  11.09\n",
       "4  43.13  Financial District     1.0   1012.14  1545003901      0.75  11.49"
      ]
     },
     "execution_count": 51,
     "metadata": {},
     "output_type": "execute_result"
    }
   ],
   "source": [
    "weath.head()"
   ]
  },
  {
   "cell_type": "code",
   "execution_count": 52,
   "metadata": {},
   "outputs": [
    {
     "data": {
      "text/plain": [
       "(5256, 7)"
      ]
     },
     "execution_count": 52,
     "metadata": {},
     "output_type": "execute_result"
    }
   ],
   "source": [
    "weath.shape"
   ]
  },
  {
   "cell_type": "code",
   "execution_count": 53,
   "metadata": {
    "scrolled": true
   },
   "outputs": [
    {
     "data": {
      "text/plain": [
       "True"
      ]
     },
     "execution_count": 53,
     "metadata": {},
     "output_type": "execute_result"
    }
   ],
   "source": [
    "taxi['destination'].unique().sort()==weath['location'].unique().sort()"
   ]
  },
  {
   "cell_type": "code",
   "execution_count": 54,
   "metadata": {},
   "outputs": [
    {
     "data": {
      "text/plain": [
       "Financial District         442\n",
       "South Station              442\n",
       "Beacon Hill                438\n",
       "Boston University          438\n",
       "West End                   438\n",
       "Fenway                     437\n",
       "Haymarket Square           437\n",
       "North End                  437\n",
       "North Station              437\n",
       "Northeastern University    437\n",
       "Theatre District           437\n",
       "Back Bay                   436\n",
       "Name: location, dtype: int64"
      ]
     },
     "execution_count": 54,
     "metadata": {},
     "output_type": "execute_result"
    }
   ],
   "source": [
    "weath['location'].value_counts()"
   ]
  },
  {
   "attachments": {},
   "cell_type": "markdown",
   "metadata": {},
   "source": [
    "weath=pd.get_dummies(data=weath,columns=['location'])"
   ]
  },
  {
   "attachments": {},
   "cell_type": "markdown",
   "metadata": {},
   "source": [
    "# Let's merge our data"
   ]
  },
  {
   "cell_type": "code",
   "execution_count": 55,
   "metadata": {
    "scrolled": false
   },
   "outputs": [
    {
     "name": "stdout",
     "output_type": "stream",
     "text": [
      "weather shape:(5256, 7)\n",
      "Taxi shape:(535231, 9)\n"
     ]
    }
   ],
   "source": [
    "print('weather shape:{}'.format(weath.shape))\n",
    "print('Taxi shape:{}'.format(taxi.shape))"
   ]
  },
  {
   "cell_type": "code",
   "execution_count": 56,
   "metadata": {},
   "outputs": [],
   "source": [
    "data=taxi.copy()\n",
    "data2=weath.copy()"
   ]
  },
  {
   "cell_type": "code",
   "execution_count": 57,
   "metadata": {},
   "outputs": [
    {
     "data": {
      "text/html": [
       "<div>\n",
       "<style scoped>\n",
       "    .dataframe tbody tr th:only-of-type {\n",
       "        vertical-align: middle;\n",
       "    }\n",
       "\n",
       "    .dataframe tbody tr th {\n",
       "        vertical-align: top;\n",
       "    }\n",
       "\n",
       "    .dataframe thead th {\n",
       "        text-align: right;\n",
       "    }\n",
       "</style>\n",
       "<table border=\"1\" class=\"dataframe\">\n",
       "  <thead>\n",
       "    <tr style=\"text-align: right;\">\n",
       "      <th></th>\n",
       "      <th>distance</th>\n",
       "      <th>cab_type</th>\n",
       "      <th>time_stamp</th>\n",
       "      <th>destination</th>\n",
       "      <th>source</th>\n",
       "      <th>surge_multiplier</th>\n",
       "      <th>product_id</th>\n",
       "      <th>name</th>\n",
       "      <th>RideCategory</th>\n",
       "    </tr>\n",
       "  </thead>\n",
       "  <tbody>\n",
       "    <tr>\n",
       "      <th>0</th>\n",
       "      <td>0.787401</td>\n",
       "      <td>Uber</td>\n",
       "      <td>1544770</td>\n",
       "      <td>West End</td>\n",
       "      <td>Haymarket Square</td>\n",
       "      <td>1.0</td>\n",
       "      <td>8cf7e821-f0d3-49c6-8eba-e679c0ebcf6a</td>\n",
       "      <td>Taxi</td>\n",
       "      <td>unknown</td>\n",
       "    </tr>\n",
       "    <tr>\n",
       "      <th>1</th>\n",
       "      <td>1.506652</td>\n",
       "      <td>Uber</td>\n",
       "      <td>1543400</td>\n",
       "      <td>Boston University</td>\n",
       "      <td>Beacon Hill</td>\n",
       "      <td>1.0</td>\n",
       "      <td>997acbb5-e102-41e1-b155-9df7de0a73f2</td>\n",
       "      <td>UberPool</td>\n",
       "      <td>cheap</td>\n",
       "    </tr>\n",
       "    <tr>\n",
       "      <th>2</th>\n",
       "      <td>1.414214</td>\n",
       "      <td>Lyft</td>\n",
       "      <td>1544920</td>\n",
       "      <td>Back Bay</td>\n",
       "      <td>Haymarket Square</td>\n",
       "      <td>1.0</td>\n",
       "      <td>lyft</td>\n",
       "      <td>Lyft</td>\n",
       "      <td>moderate</td>\n",
       "    </tr>\n",
       "    <tr>\n",
       "      <th>3</th>\n",
       "      <td>1.994994</td>\n",
       "      <td>Lyft</td>\n",
       "      <td>1543620</td>\n",
       "      <td>Financial District</td>\n",
       "      <td>Northeastern University</td>\n",
       "      <td>1.0</td>\n",
       "      <td>lyft_plus</td>\n",
       "      <td>Lyft XL</td>\n",
       "      <td>expensive</td>\n",
       "    </tr>\n",
       "    <tr>\n",
       "      <th>4</th>\n",
       "      <td>1.220656</td>\n",
       "      <td>Lyft</td>\n",
       "      <td>1543580</td>\n",
       "      <td>Back Bay</td>\n",
       "      <td>Northeastern University</td>\n",
       "      <td>1.0</td>\n",
       "      <td>lyft</td>\n",
       "      <td>Lyft</td>\n",
       "      <td>cheap</td>\n",
       "    </tr>\n",
       "  </tbody>\n",
       "</table>\n",
       "</div>"
      ],
      "text/plain": [
       "   distance cab_type time_stamp         destination                   source  \\\n",
       "0  0.787401     Uber    1544770            West End         Haymarket Square   \n",
       "1  1.506652     Uber    1543400   Boston University              Beacon Hill   \n",
       "2  1.414214     Lyft    1544920            Back Bay         Haymarket Square   \n",
       "3  1.994994     Lyft    1543620  Financial District  Northeastern University   \n",
       "4  1.220656     Lyft    1543580            Back Bay  Northeastern University   \n",
       "\n",
       "   surge_multiplier                            product_id      name  \\\n",
       "0               1.0  8cf7e821-f0d3-49c6-8eba-e679c0ebcf6a      Taxi   \n",
       "1               1.0  997acbb5-e102-41e1-b155-9df7de0a73f2  UberPool   \n",
       "2               1.0                                  lyft      Lyft   \n",
       "3               1.0                             lyft_plus   Lyft XL   \n",
       "4               1.0                                  lyft      Lyft   \n",
       "\n",
       "  RideCategory  \n",
       "0      unknown  \n",
       "1        cheap  \n",
       "2     moderate  \n",
       "3    expensive  \n",
       "4        cheap  "
      ]
     },
     "execution_count": 57,
     "metadata": {},
     "output_type": "execute_result"
    }
   ],
   "source": [
    "from datetime import datetime\n",
    "data['time_stamp'] = data['time_stamp'].astype(str)\n",
    "data2['time_stamp'] = data2['time_stamp'].astype(str)\n",
    "data['time_stamp'] = data['time_stamp'].str[:7]\n",
    "data2['time_stamp'] = data2['time_stamp'].str[:7]\n",
    "data.head(5)"
   ]
  },
  {
   "cell_type": "code",
   "execution_count": 58,
   "metadata": {},
   "outputs": [
    {
     "data": {
      "text/html": [
       "<div>\n",
       "<style scoped>\n",
       "    .dataframe tbody tr th:only-of-type {\n",
       "        vertical-align: middle;\n",
       "    }\n",
       "\n",
       "    .dataframe tbody tr th {\n",
       "        vertical-align: top;\n",
       "    }\n",
       "\n",
       "    .dataframe thead th {\n",
       "        text-align: right;\n",
       "    }\n",
       "</style>\n",
       "<table border=\"1\" class=\"dataframe\">\n",
       "  <thead>\n",
       "    <tr style=\"text-align: right;\">\n",
       "      <th></th>\n",
       "      <th>temp</th>\n",
       "      <th>destination</th>\n",
       "      <th>clouds</th>\n",
       "      <th>pressure</th>\n",
       "      <th>time_stamp</th>\n",
       "      <th>humidity</th>\n",
       "      <th>wind</th>\n",
       "    </tr>\n",
       "  </thead>\n",
       "  <tbody>\n",
       "    <tr>\n",
       "      <th>0</th>\n",
       "      <td>42.42</td>\n",
       "      <td>Back Bay</td>\n",
       "      <td>1.0</td>\n",
       "      <td>1012.14</td>\n",
       "      <td>1545003</td>\n",
       "      <td>0.77</td>\n",
       "      <td>11.25</td>\n",
       "    </tr>\n",
       "    <tr>\n",
       "      <th>1</th>\n",
       "      <td>42.43</td>\n",
       "      <td>Beacon Hill</td>\n",
       "      <td>1.0</td>\n",
       "      <td>1012.15</td>\n",
       "      <td>1545003</td>\n",
       "      <td>0.76</td>\n",
       "      <td>11.32</td>\n",
       "    </tr>\n",
       "    <tr>\n",
       "      <th>2</th>\n",
       "      <td>42.50</td>\n",
       "      <td>Boston University</td>\n",
       "      <td>1.0</td>\n",
       "      <td>1012.15</td>\n",
       "      <td>1545003</td>\n",
       "      <td>0.76</td>\n",
       "      <td>11.07</td>\n",
       "    </tr>\n",
       "    <tr>\n",
       "      <th>3</th>\n",
       "      <td>42.11</td>\n",
       "      <td>Fenway</td>\n",
       "      <td>1.0</td>\n",
       "      <td>1012.13</td>\n",
       "      <td>1545003</td>\n",
       "      <td>0.77</td>\n",
       "      <td>11.09</td>\n",
       "    </tr>\n",
       "    <tr>\n",
       "      <th>4</th>\n",
       "      <td>43.13</td>\n",
       "      <td>Financial District</td>\n",
       "      <td>1.0</td>\n",
       "      <td>1012.14</td>\n",
       "      <td>1545003</td>\n",
       "      <td>0.75</td>\n",
       "      <td>11.49</td>\n",
       "    </tr>\n",
       "  </tbody>\n",
       "</table>\n",
       "</div>"
      ],
      "text/plain": [
       "    temp         destination  clouds  pressure time_stamp  humidity   wind\n",
       "0  42.42            Back Bay     1.0   1012.14    1545003      0.77  11.25\n",
       "1  42.43         Beacon Hill     1.0   1012.15    1545003      0.76  11.32\n",
       "2  42.50   Boston University     1.0   1012.15    1545003      0.76  11.07\n",
       "3  42.11              Fenway     1.0   1012.13    1545003      0.77  11.09\n",
       "4  43.13  Financial District     1.0   1012.14    1545003      0.75  11.49"
      ]
     },
     "execution_count": 58,
     "metadata": {},
     "output_type": "execute_result"
    }
   ],
   "source": [
    "data2.rename(columns={'location':'destination'},inplace=True)\n",
    "data2.head(5)"
   ]
  },
  {
   "cell_type": "code",
   "execution_count": 59,
   "metadata": {},
   "outputs": [
    {
     "data": {
      "text/plain": [
       "(193745, 14)"
      ]
     },
     "execution_count": 59,
     "metadata": {},
     "output_type": "execute_result"
    }
   ],
   "source": [
    "mergedf = data2.merge(data, how='inner')\n",
    "mergedf.shape"
   ]
  },
  {
   "cell_type": "code",
   "execution_count": 60,
   "metadata": {},
   "outputs": [
    {
     "data": {
      "text/plain": [
       "False"
      ]
     },
     "execution_count": 60,
     "metadata": {},
     "output_type": "execute_result"
    }
   ],
   "source": [
    "mergedf.duplicated().sum() == 0"
   ]
  },
  {
   "cell_type": "code",
   "execution_count": 61,
   "metadata": {},
   "outputs": [
    {
     "data": {
      "text/plain": [
       "(117731, 14)"
      ]
     },
     "execution_count": 61,
     "metadata": {},
     "output_type": "execute_result"
    }
   ],
   "source": [
    "mergedf.drop_duplicates(inplace=True)\n",
    "mergedf.duplicated().sum() == 0\n",
    "mergedf.shape"
   ]
  },
  {
   "cell_type": "code",
   "execution_count": 62,
   "metadata": {
    "scrolled": true
   },
   "outputs": [],
   "source": [
    "data=mergedf.copy()"
   ]
  },
  {
   "attachments": {},
   "cell_type": "markdown",
   "metadata": {},
   "source": [
    "# Applying some Exploratory Data Analysis and Visualization"
   ]
  },
  {
   "attachments": {},
   "cell_type": "markdown",
   "metadata": {},
   "source": [
    "##"
   ]
  },
  {
   "cell_type": "code",
   "execution_count": 63,
   "metadata": {
    "scrolled": false
   },
   "outputs": [
    {
     "data": {
      "text/plain": [
       "<AxesSubplot:xlabel='RideCategory', ylabel='count'>"
      ]
     },
     "execution_count": 63,
     "metadata": {},
     "output_type": "execute_result"
    },
    {
     "data": {
      "image/png": "[encoded data removed]",
      "text/plain": [
       "<Figure size 1000x1000 with 1 Axes>"
      ]
     },
     "metadata": {},
     "output_type": "display_data"
    }
   ],
   "source": [
    "sns.countplot(data=data,x='RideCategory',hue='name')"
   ]
  },
  {
   "cell_type": "code",
   "execution_count": 64,
   "metadata": {
    "scrolled": false
   },
   "outputs": [
    {
     "data": {
      "text/plain": [
       "<AxesSubplot:xlabel='cab_type'>"
      ]
     },
     "execution_count": 64,
     "metadata": {},
     "output_type": "execute_result"
    },
    {
     "data": {
      "image/png": "[encoded data removed]",
      "text/plain": [
       "<Figure size 1000x1000 with 1 Axes>"
      ]
     },
     "metadata": {},
     "output_type": "display_data"
    }
   ],
   "source": [
    "data.groupby('cab_type')['RideCategory'].count().plot(kind='bar')"
   ]
  },
  {
   "attachments": {},
   "cell_type": "markdown",
   "metadata": {},
   "source": [
    "# let's apply feature selection "
   ]
  },
  {
   "cell_type": "code",
   "execution_count": 65,
   "metadata": {
    "scrolled": true
   },
   "outputs": [
    {
     "data": {
      "text/html": [
       "<div>\n",
       "<style scoped>\n",
       "    .dataframe tbody tr th:only-of-type {\n",
       "        vertical-align: middle;\n",
       "    }\n",
       "\n",
       "    .dataframe tbody tr th {\n",
       "        vertical-align: top;\n",
       "    }\n",
       "\n",
       "    .dataframe thead th {\n",
       "        text-align: right;\n",
       "    }\n",
       "</style>\n",
       "<table border=\"1\" class=\"dataframe\">\n",
       "  <thead>\n",
       "    <tr style=\"text-align: right;\">\n",
       "      <th></th>\n",
       "      <th>temp</th>\n",
       "      <th>destination</th>\n",
       "      <th>clouds</th>\n",
       "      <th>pressure</th>\n",
       "      <th>time_stamp</th>\n",
       "      <th>humidity</th>\n",
       "      <th>wind</th>\n",
       "      <th>distance</th>\n",
       "      <th>cab_type</th>\n",
       "      <th>source</th>\n",
       "      <th>surge_multiplier</th>\n",
       "      <th>product_id</th>\n",
       "      <th>name</th>\n",
       "      <th>RideCategory</th>\n",
       "    </tr>\n",
       "  </thead>\n",
       "  <tbody>\n",
       "    <tr>\n",
       "      <th>0</th>\n",
       "      <td>45.52</td>\n",
       "      <td>South Station</td>\n",
       "      <td>0.89</td>\n",
       "      <td>1000.08</td>\n",
       "      <td>1543830</td>\n",
       "      <td>0.95</td>\n",
       "      <td>1.39</td>\n",
       "      <td>1.545962</td>\n",
       "      <td>Lyft</td>\n",
       "      <td>Beacon Hill</td>\n",
       "      <td>1.0</td>\n",
       "      <td>lyft_plus</td>\n",
       "      <td>Lyft XL</td>\n",
       "      <td>moderate</td>\n",
       "    </tr>\n",
       "    <tr>\n",
       "      <th>1</th>\n",
       "      <td>45.52</td>\n",
       "      <td>South Station</td>\n",
       "      <td>0.89</td>\n",
       "      <td>1000.08</td>\n",
       "      <td>1543830</td>\n",
       "      <td>0.95</td>\n",
       "      <td>1.39</td>\n",
       "      <td>0.741620</td>\n",
       "      <td>Uber</td>\n",
       "      <td>Theatre District</td>\n",
       "      <td>1.0</td>\n",
       "      <td>6c84fd89-3f11-4782-9b50-97c468b19529</td>\n",
       "      <td>Black</td>\n",
       "      <td>moderate</td>\n",
       "    </tr>\n",
       "    <tr>\n",
       "      <th>2</th>\n",
       "      <td>45.52</td>\n",
       "      <td>South Station</td>\n",
       "      <td>0.89</td>\n",
       "      <td>1000.08</td>\n",
       "      <td>1543830</td>\n",
       "      <td>0.95</td>\n",
       "      <td>1.39</td>\n",
       "      <td>1.462874</td>\n",
       "      <td>Uber</td>\n",
       "      <td>West End</td>\n",
       "      <td>1.0</td>\n",
       "      <td>8cf7e821-f0d3-49c6-8eba-e679c0ebcf6a</td>\n",
       "      <td>Taxi</td>\n",
       "      <td>unknown</td>\n",
       "    </tr>\n",
       "    <tr>\n",
       "      <th>3</th>\n",
       "      <td>45.52</td>\n",
       "      <td>South Station</td>\n",
       "      <td>0.89</td>\n",
       "      <td>1000.08</td>\n",
       "      <td>1543830</td>\n",
       "      <td>0.95</td>\n",
       "      <td>1.39</td>\n",
       "      <td>0.663325</td>\n",
       "      <td>Lyft</td>\n",
       "      <td>Financial District</td>\n",
       "      <td>1.0</td>\n",
       "      <td>lyft_lux</td>\n",
       "      <td>Lux Black</td>\n",
       "      <td>moderate</td>\n",
       "    </tr>\n",
       "    <tr>\n",
       "      <th>4</th>\n",
       "      <td>45.52</td>\n",
       "      <td>South Station</td>\n",
       "      <td>0.89</td>\n",
       "      <td>1000.08</td>\n",
       "      <td>1543830</td>\n",
       "      <td>0.95</td>\n",
       "      <td>1.39</td>\n",
       "      <td>1.473092</td>\n",
       "      <td>Uber</td>\n",
       "      <td>North Station</td>\n",
       "      <td>1.0</td>\n",
       "      <td>6f72dfc5-27f1-42e8-84db-ccc7a75f6969</td>\n",
       "      <td>UberXL</td>\n",
       "      <td>moderate</td>\n",
       "    </tr>\n",
       "    <tr>\n",
       "      <th>...</th>\n",
       "      <td>...</td>\n",
       "      <td>...</td>\n",
       "      <td>...</td>\n",
       "      <td>...</td>\n",
       "      <td>...</td>\n",
       "      <td>...</td>\n",
       "      <td>...</td>\n",
       "      <td>...</td>\n",
       "      <td>...</td>\n",
       "      <td>...</td>\n",
       "      <td>...</td>\n",
       "      <td>...</td>\n",
       "      <td>...</td>\n",
       "      <td>...</td>\n",
       "    </tr>\n",
       "    <tr>\n",
       "      <th>193732</th>\n",
       "      <td>40.31</td>\n",
       "      <td>West End</td>\n",
       "      <td>0.86</td>\n",
       "      <td>994.07</td>\n",
       "      <td>1543440</td>\n",
       "      <td>0.66</td>\n",
       "      <td>9.54</td>\n",
       "      <td>1.754993</td>\n",
       "      <td>Lyft</td>\n",
       "      <td>Boston University</td>\n",
       "      <td>1.0</td>\n",
       "      <td>lyft_line</td>\n",
       "      <td>Shared</td>\n",
       "      <td>cheap</td>\n",
       "    </tr>\n",
       "    <tr>\n",
       "      <th>193734</th>\n",
       "      <td>40.31</td>\n",
       "      <td>West End</td>\n",
       "      <td>0.86</td>\n",
       "      <td>994.07</td>\n",
       "      <td>1543440</td>\n",
       "      <td>0.66</td>\n",
       "      <td>9.54</td>\n",
       "      <td>1.417745</td>\n",
       "      <td>Lyft</td>\n",
       "      <td>South Station</td>\n",
       "      <td>1.0</td>\n",
       "      <td>lyft</td>\n",
       "      <td>Lyft</td>\n",
       "      <td>moderate</td>\n",
       "    </tr>\n",
       "    <tr>\n",
       "      <th>193738</th>\n",
       "      <td>40.31</td>\n",
       "      <td>West End</td>\n",
       "      <td>0.86</td>\n",
       "      <td>994.07</td>\n",
       "      <td>1543440</td>\n",
       "      <td>0.66</td>\n",
       "      <td>9.54</td>\n",
       "      <td>0.824621</td>\n",
       "      <td>Uber</td>\n",
       "      <td>Haymarket Square</td>\n",
       "      <td>1.0</td>\n",
       "      <td>6d318bcc-22a3-4af6-bddd-b409bfce1546</td>\n",
       "      <td>Black SUV</td>\n",
       "      <td>expensive</td>\n",
       "    </tr>\n",
       "    <tr>\n",
       "      <th>193739</th>\n",
       "      <td>40.31</td>\n",
       "      <td>West End</td>\n",
       "      <td>0.86</td>\n",
       "      <td>994.07</td>\n",
       "      <td>1543440</td>\n",
       "      <td>0.66</td>\n",
       "      <td>9.54</td>\n",
       "      <td>1.086278</td>\n",
       "      <td>Uber</td>\n",
       "      <td>South Station</td>\n",
       "      <td>1.0</td>\n",
       "      <td>6d318bcc-22a3-4af6-bddd-b409bfce1546</td>\n",
       "      <td>Black SUV</td>\n",
       "      <td>expensive</td>\n",
       "    </tr>\n",
       "    <tr>\n",
       "      <th>193743</th>\n",
       "      <td>40.31</td>\n",
       "      <td>West End</td>\n",
       "      <td>0.86</td>\n",
       "      <td>994.07</td>\n",
       "      <td>1543440</td>\n",
       "      <td>0.66</td>\n",
       "      <td>9.54</td>\n",
       "      <td>1.682260</td>\n",
       "      <td>Lyft</td>\n",
       "      <td>Fenway</td>\n",
       "      <td>1.0</td>\n",
       "      <td>lyft_lux</td>\n",
       "      <td>Lux Black</td>\n",
       "      <td>expensive</td>\n",
       "    </tr>\n",
       "  </tbody>\n",
       "</table>\n",
       "<p>117731 rows × 14 columns</p>\n",
       "</div>"
      ],
      "text/plain": [
       "         temp    destination  clouds  pressure time_stamp  humidity  wind  \\\n",
       "0       45.52  South Station    0.89   1000.08    1543830      0.95  1.39   \n",
       "1       45.52  South Station    0.89   1000.08    1543830      0.95  1.39   \n",
       "2       45.52  South Station    0.89   1000.08    1543830      0.95  1.39   \n",
       "3       45.52  South Station    0.89   1000.08    1543830      0.95  1.39   \n",
       "4       45.52  South Station    0.89   1000.08    1543830      0.95  1.39   \n",
       "...       ...            ...     ...       ...        ...       ...   ...   \n",
       "193732  40.31       West End    0.86    994.07    1543440      0.66  9.54   \n",
       "193734  40.31       West End    0.86    994.07    1543440      0.66  9.54   \n",
       "193738  40.31       West End    0.86    994.07    1543440      0.66  9.54   \n",
       "193739  40.31       West End    0.86    994.07    1543440      0.66  9.54   \n",
       "193743  40.31       West End    0.86    994.07    1543440      0.66  9.54   \n",
       "\n",
       "        distance cab_type              source  surge_multiplier  \\\n",
       "0       1.545962     Lyft         Beacon Hill               1.0   \n",
       "1       0.741620     Uber    Theatre District               1.0   \n",
       "2       1.462874     Uber            West End               1.0   \n",
       "3       0.663325     Lyft  Financial District               1.0   \n",
       "4       1.473092     Uber       North Station               1.0   \n",
       "...          ...      ...                 ...               ...   \n",
       "193732  1.754993     Lyft   Boston University               1.0   \n",
       "193734  1.417745     Lyft       South Station               1.0   \n",
       "193738  0.824621     Uber    Haymarket Square               1.0   \n",
       "193739  1.086278     Uber       South Station               1.0   \n",
       "193743  1.682260     Lyft              Fenway               1.0   \n",
       "\n",
       "                                  product_id       name RideCategory  \n",
       "0                                  lyft_plus    Lyft XL     moderate  \n",
       "1       6c84fd89-3f11-4782-9b50-97c468b19529      Black     moderate  \n",
       "2       8cf7e821-f0d3-49c6-8eba-e679c0ebcf6a       Taxi      unknown  \n",
       "3                                   lyft_lux  Lux Black     moderate  \n",
       "4       6f72dfc5-27f1-42e8-84db-ccc7a75f6969     UberXL     moderate  \n",
       "...                                      ...        ...          ...  \n",
       "193732                             lyft_line     Shared        cheap  \n",
       "193734                                  lyft       Lyft     moderate  \n",
       "193738  6d318bcc-22a3-4af6-bddd-b409bfce1546  Black SUV    expensive  \n",
       "193739  6d318bcc-22a3-4af6-bddd-b409bfce1546  Black SUV    expensive  \n",
       "193743                              lyft_lux  Lux Black    expensive  \n",
       "\n",
       "[117731 rows x 14 columns]"
      ]
     },
     "execution_count": 65,
     "metadata": {},
     "output_type": "execute_result"
    }
   ],
   "source": [
    "data"
   ]
  },
  {
   "cell_type": "code",
   "execution_count": 66,
   "metadata": {},
   "outputs": [],
   "source": [
    "x = data.drop(['RideCategory','destination','source','product_id','name','cab_type'],axis=1)\n",
    "y = data['RideCategory']"
   ]
  },
  {
   "cell_type": "code",
   "execution_count": 67,
   "metadata": {},
   "outputs": [],
   "source": [
    "chi_scores = chi2(x,y)"
   ]
  },
  {
   "cell_type": "code",
   "execution_count": 68,
   "metadata": {},
   "outputs": [
    {
     "data": {
      "text/plain": [
       "(array([8.93500855e-01, 3.29709233e-02, 6.03698643e+00, 5.27205054e-01,\n",
       "        2.28353525e-01, 6.99188597e+01, 1.41412600e+03, 0.00000000e+00]),\n",
       " array([9.25491371e-001, 9.99865599e-001, 1.96403079e-001, 9.70799095e-001,\n",
       "        9.93957371e-001, 2.36115950e-014, 5.97741247e-305, 1.00000000e+000]))"
      ]
     },
     "execution_count": 68,
     "metadata": {},
     "output_type": "execute_result"
    }
   ],
   "source": [
    "chi_scores"
   ]
  },
  {
   "cell_type": "code",
   "execution_count": 69,
   "metadata": {},
   "outputs": [],
   "source": [
    "p_values = pd.Series(chi_scores[1],index = x.columns)\n",
    "p_values.sort_values(ascending = False , inplace = True)"
   ]
  },
  {
   "cell_type": "code",
   "execution_count": 70,
   "metadata": {
    "scrolled": false
   },
   "outputs": [
    {
     "data": {
      "text/plain": [
       "<AxesSubplot:>"
      ]
     },
     "execution_count": 70,
     "metadata": {},
     "output_type": "execute_result"
    },
    {
     "data": {
      "image/png": "[encoded data removed]",
      "text/plain": [
       "<Figure size 1000x1000 with 1 Axes>"
      ]
     },
     "metadata": {},
     "output_type": "display_data"
    }
   ],
   "source": [
    "p_values.plot.bar()"
   ]
  },
  {
   "cell_type": "code",
   "execution_count": 71,
   "metadata": {},
   "outputs": [],
   "source": [
    "datas=data.drop(['surge_multiplier','clouds','humidity','time_stamp','temp','pressure','destination','source','product_id','wind'],axis=1)"
   ]
  },
  {
   "cell_type": "code",
   "execution_count": 72,
   "metadata": {},
   "outputs": [],
   "source": [
    "#1#1st try the above\n",
    "#2nd drop the below ones as well"
   ]
  },
  {
   "cell_type": "code",
   "execution_count": 73,
   "metadata": {},
   "outputs": [],
   "source": [
    "#data.drop(['destination','source','product_id'],axis=1,inplace=True)"
   ]
  },
  {
   "cell_type": "code",
   "execution_count": 74,
   "metadata": {},
   "outputs": [
    {
     "data": {
      "text/plain": [
       "(117731, 4)"
      ]
     },
     "execution_count": 74,
     "metadata": {},
     "output_type": "execute_result"
    }
   ],
   "source": [
    "datas.shape"
   ]
  },
  {
   "cell_type": "code",
   "execution_count": 75,
   "metadata": {
    "scrolled": true
   },
   "outputs": [
    {
     "data": {
      "text/html": [
       "<div>\n",
       "<style scoped>\n",
       "    .dataframe tbody tr th:only-of-type {\n",
       "        vertical-align: middle;\n",
       "    }\n",
       "\n",
       "    .dataframe tbody tr th {\n",
       "        vertical-align: top;\n",
       "    }\n",
       "\n",
       "    .dataframe thead th {\n",
       "        text-align: right;\n",
       "    }\n",
       "</style>\n",
       "<table border=\"1\" class=\"dataframe\">\n",
       "  <thead>\n",
       "    <tr style=\"text-align: right;\">\n",
       "      <th></th>\n",
       "      <th>distance</th>\n",
       "      <th>cab_type</th>\n",
       "      <th>name</th>\n",
       "      <th>RideCategory</th>\n",
       "    </tr>\n",
       "  </thead>\n",
       "  <tbody>\n",
       "    <tr>\n",
       "      <th>0</th>\n",
       "      <td>1.545962</td>\n",
       "      <td>Lyft</td>\n",
       "      <td>Lyft XL</td>\n",
       "      <td>moderate</td>\n",
       "    </tr>\n",
       "    <tr>\n",
       "      <th>1</th>\n",
       "      <td>0.741620</td>\n",
       "      <td>Uber</td>\n",
       "      <td>Black</td>\n",
       "      <td>moderate</td>\n",
       "    </tr>\n",
       "    <tr>\n",
       "      <th>2</th>\n",
       "      <td>1.462874</td>\n",
       "      <td>Uber</td>\n",
       "      <td>Taxi</td>\n",
       "      <td>unknown</td>\n",
       "    </tr>\n",
       "    <tr>\n",
       "      <th>3</th>\n",
       "      <td>0.663325</td>\n",
       "      <td>Lyft</td>\n",
       "      <td>Lux Black</td>\n",
       "      <td>moderate</td>\n",
       "    </tr>\n",
       "    <tr>\n",
       "      <th>4</th>\n",
       "      <td>1.473092</td>\n",
       "      <td>Uber</td>\n",
       "      <td>UberXL</td>\n",
       "      <td>moderate</td>\n",
       "    </tr>\n",
       "  </tbody>\n",
       "</table>\n",
       "</div>"
      ],
      "text/plain": [
       "   distance cab_type       name RideCategory\n",
       "0  1.545962     Lyft    Lyft XL     moderate\n",
       "1  0.741620     Uber      Black     moderate\n",
       "2  1.462874     Uber       Taxi      unknown\n",
       "3  0.663325     Lyft  Lux Black     moderate\n",
       "4  1.473092     Uber     UberXL     moderate"
      ]
     },
     "execution_count": 75,
     "metadata": {},
     "output_type": "execute_result"
    }
   ],
   "source": [
    "datas.head()"
   ]
  },
  {
   "attachments": {},
   "cell_type": "markdown",
   "metadata": {},
   "source": [
    "### After we have tried merging our taxi data with weather,we tried to apply feature selection to find which variables of weather \n",
    "\n",
    "- data we are going to use ,finally we can conclude that we will no longer use weather data and we will use the whole records \n",
    "\n",
    "- of the Taxi data "
   ]
  },
  {
   "cell_type": "code",
   "execution_count": 77,
   "metadata": {
    "scrolled": false
   },
   "outputs": [
    {
     "data": {
      "text/html": [
       "<div>\n",
       "<style scoped>\n",
       "    .dataframe tbody tr th:only-of-type {\n",
       "        vertical-align: middle;\n",
       "    }\n",
       "\n",
       "    .dataframe tbody tr th {\n",
       "        vertical-align: top;\n",
       "    }\n",
       "\n",
       "    .dataframe thead th {\n",
       "        text-align: right;\n",
       "    }\n",
       "</style>\n",
       "<table border=\"1\" class=\"dataframe\">\n",
       "  <thead>\n",
       "    <tr style=\"text-align: right;\">\n",
       "      <th></th>\n",
       "      <th>distance</th>\n",
       "      <th>cab_type</th>\n",
       "      <th>time_stamp</th>\n",
       "      <th>destination</th>\n",
       "      <th>source</th>\n",
       "      <th>surge_multiplier</th>\n",
       "      <th>product_id</th>\n",
       "      <th>name</th>\n",
       "      <th>RideCategory</th>\n",
       "    </tr>\n",
       "  </thead>\n",
       "  <tbody>\n",
       "    <tr>\n",
       "      <th>0</th>\n",
       "      <td>0.787401</td>\n",
       "      <td>Uber</td>\n",
       "      <td>1.544770e+12</td>\n",
       "      <td>West End</td>\n",
       "      <td>Haymarket Square</td>\n",
       "      <td>1.0</td>\n",
       "      <td>8cf7e821-f0d3-49c6-8eba-e679c0ebcf6a</td>\n",
       "      <td>Taxi</td>\n",
       "      <td>unknown</td>\n",
       "    </tr>\n",
       "    <tr>\n",
       "      <th>1</th>\n",
       "      <td>1.506652</td>\n",
       "      <td>Uber</td>\n",
       "      <td>1.543400e+12</td>\n",
       "      <td>Boston University</td>\n",
       "      <td>Beacon Hill</td>\n",
       "      <td>1.0</td>\n",
       "      <td>997acbb5-e102-41e1-b155-9df7de0a73f2</td>\n",
       "      <td>UberPool</td>\n",
       "      <td>cheap</td>\n",
       "    </tr>\n",
       "    <tr>\n",
       "      <th>2</th>\n",
       "      <td>1.414214</td>\n",
       "      <td>Lyft</td>\n",
       "      <td>1.544920e+12</td>\n",
       "      <td>Back Bay</td>\n",
       "      <td>Haymarket Square</td>\n",
       "      <td>1.0</td>\n",
       "      <td>lyft</td>\n",
       "      <td>Lyft</td>\n",
       "      <td>moderate</td>\n",
       "    </tr>\n",
       "    <tr>\n",
       "      <th>3</th>\n",
       "      <td>1.994994</td>\n",
       "      <td>Lyft</td>\n",
       "      <td>1.543620e+12</td>\n",
       "      <td>Financial District</td>\n",
       "      <td>Northeastern University</td>\n",
       "      <td>1.0</td>\n",
       "      <td>lyft_plus</td>\n",
       "      <td>Lyft XL</td>\n",
       "      <td>expensive</td>\n",
       "    </tr>\n",
       "    <tr>\n",
       "      <th>4</th>\n",
       "      <td>1.220656</td>\n",
       "      <td>Lyft</td>\n",
       "      <td>1.543580e+12</td>\n",
       "      <td>Back Bay</td>\n",
       "      <td>Northeastern University</td>\n",
       "      <td>1.0</td>\n",
       "      <td>lyft</td>\n",
       "      <td>Lyft</td>\n",
       "      <td>cheap</td>\n",
       "    </tr>\n",
       "  </tbody>\n",
       "</table>\n",
       "</div>"
      ],
      "text/plain": [
       "   distance cab_type    time_stamp         destination  \\\n",
       "0  0.787401     Uber  1.544770e+12            West End   \n",
       "1  1.506652     Uber  1.543400e+12   Boston University   \n",
       "2  1.414214     Lyft  1.544920e+12            Back Bay   \n",
       "3  1.994994     Lyft  1.543620e+12  Financial District   \n",
       "4  1.220656     Lyft  1.543580e+12            Back Bay   \n",
       "\n",
       "                    source  surge_multiplier  \\\n",
       "0         Haymarket Square               1.0   \n",
       "1              Beacon Hill               1.0   \n",
       "2         Haymarket Square               1.0   \n",
       "3  Northeastern University               1.0   \n",
       "4  Northeastern University               1.0   \n",
       "\n",
       "                             product_id      name RideCategory  \n",
       "0  8cf7e821-f0d3-49c6-8eba-e679c0ebcf6a      Taxi      unknown  \n",
       "1  997acbb5-e102-41e1-b155-9df7de0a73f2  UberPool        cheap  \n",
       "2                                  lyft      Lyft     moderate  \n",
       "3                             lyft_plus   Lyft XL    expensive  \n",
       "4                                  lyft      Lyft        cheap  "
      ]
     },
     "execution_count": 77,
     "metadata": {},
     "output_type": "execute_result"
    }
   ],
   "source": [
    "taxi.head()"
   ]
  },
  {
   "cell_type": "code",
   "execution_count": 78,
   "metadata": {
    "scrolled": true
   },
   "outputs": [
    {
     "data": {
      "text/plain": [
       "193956"
      ]
     },
     "execution_count": 78,
     "metadata": {},
     "output_type": "execute_result"
    }
   ],
   "source": [
    "taxi.duplicated().sum()"
   ]
  },
  {
   "cell_type": "code",
   "execution_count": 79,
   "metadata": {},
   "outputs": [
    {
     "data": {
      "text/plain": [
       "(535231, 9)"
      ]
     },
     "execution_count": 79,
     "metadata": {},
     "output_type": "execute_result"
    }
   ],
   "source": [
    "taxi.shape"
   ]
  },
  {
   "attachments": {},
   "cell_type": "markdown",
   "metadata": {},
   "source": [
    "## apply new feature again"
   ]
  },
  {
   "cell_type": "code",
   "execution_count": 80,
   "metadata": {},
   "outputs": [],
   "source": [
    "taxi=taxi.drop(['surge_multiplier','time_stamp'],axis=1)#try #'destination','source','product_id'"
   ]
  },
  {
   "cell_type": "code",
   "execution_count": 81,
   "metadata": {
    "scrolled": true
   },
   "outputs": [
    {
     "data": {
      "text/html": [
       "<div>\n",
       "<style scoped>\n",
       "    .dataframe tbody tr th:only-of-type {\n",
       "        vertical-align: middle;\n",
       "    }\n",
       "\n",
       "    .dataframe tbody tr th {\n",
       "        vertical-align: top;\n",
       "    }\n",
       "\n",
       "    .dataframe thead th {\n",
       "        text-align: right;\n",
       "    }\n",
       "</style>\n",
       "<table border=\"1\" class=\"dataframe\">\n",
       "  <thead>\n",
       "    <tr style=\"text-align: right;\">\n",
       "      <th></th>\n",
       "      <th>distance</th>\n",
       "      <th>cab_type</th>\n",
       "      <th>destination</th>\n",
       "      <th>source</th>\n",
       "      <th>product_id</th>\n",
       "      <th>name</th>\n",
       "      <th>RideCategory</th>\n",
       "    </tr>\n",
       "  </thead>\n",
       "  <tbody>\n",
       "    <tr>\n",
       "      <th>0</th>\n",
       "      <td>0.787401</td>\n",
       "      <td>Uber</td>\n",
       "      <td>West End</td>\n",
       "      <td>Haymarket Square</td>\n",
       "      <td>8cf7e821-f0d3-49c6-8eba-e679c0ebcf6a</td>\n",
       "      <td>Taxi</td>\n",
       "      <td>unknown</td>\n",
       "    </tr>\n",
       "    <tr>\n",
       "      <th>1</th>\n",
       "      <td>1.506652</td>\n",
       "      <td>Uber</td>\n",
       "      <td>Boston University</td>\n",
       "      <td>Beacon Hill</td>\n",
       "      <td>997acbb5-e102-41e1-b155-9df7de0a73f2</td>\n",
       "      <td>UberPool</td>\n",
       "      <td>cheap</td>\n",
       "    </tr>\n",
       "    <tr>\n",
       "      <th>2</th>\n",
       "      <td>1.414214</td>\n",
       "      <td>Lyft</td>\n",
       "      <td>Back Bay</td>\n",
       "      <td>Haymarket Square</td>\n",
       "      <td>lyft</td>\n",
       "      <td>Lyft</td>\n",
       "      <td>moderate</td>\n",
       "    </tr>\n",
       "    <tr>\n",
       "      <th>3</th>\n",
       "      <td>1.994994</td>\n",
       "      <td>Lyft</td>\n",
       "      <td>Financial District</td>\n",
       "      <td>Northeastern University</td>\n",
       "      <td>lyft_plus</td>\n",
       "      <td>Lyft XL</td>\n",
       "      <td>expensive</td>\n",
       "    </tr>\n",
       "    <tr>\n",
       "      <th>4</th>\n",
       "      <td>1.220656</td>\n",
       "      <td>Lyft</td>\n",
       "      <td>Back Bay</td>\n",
       "      <td>Northeastern University</td>\n",
       "      <td>lyft</td>\n",
       "      <td>Lyft</td>\n",
       "      <td>cheap</td>\n",
       "    </tr>\n",
       "  </tbody>\n",
       "</table>\n",
       "</div>"
      ],
      "text/plain": [
       "   distance cab_type         destination                   source  \\\n",
       "0  0.787401     Uber            West End         Haymarket Square   \n",
       "1  1.506652     Uber   Boston University              Beacon Hill   \n",
       "2  1.414214     Lyft            Back Bay         Haymarket Square   \n",
       "3  1.994994     Lyft  Financial District  Northeastern University   \n",
       "4  1.220656     Lyft            Back Bay  Northeastern University   \n",
       "\n",
       "                             product_id      name RideCategory  \n",
       "0  8cf7e821-f0d3-49c6-8eba-e679c0ebcf6a      Taxi      unknown  \n",
       "1  997acbb5-e102-41e1-b155-9df7de0a73f2  UberPool        cheap  \n",
       "2                                  lyft      Lyft     moderate  \n",
       "3                             lyft_plus   Lyft XL    expensive  \n",
       "4                                  lyft      Lyft        cheap  "
      ]
     },
     "execution_count": 81,
     "metadata": {},
     "output_type": "execute_result"
    }
   ],
   "source": [
    "taxi.head()"
   ]
  },
  {
   "cell_type": "code",
   "execution_count": 82,
   "metadata": {},
   "outputs": [
    {
     "data": {
      "text/html": [
       "<div>\n",
       "<style scoped>\n",
       "    .dataframe tbody tr th:only-of-type {\n",
       "        vertical-align: middle;\n",
       "    }\n",
       "\n",
       "    .dataframe tbody tr th {\n",
       "        vertical-align: top;\n",
       "    }\n",
       "\n",
       "    .dataframe thead th {\n",
       "        text-align: right;\n",
       "    }\n",
       "</style>\n",
       "<table border=\"1\" class=\"dataframe\">\n",
       "  <thead>\n",
       "    <tr style=\"text-align: right;\">\n",
       "      <th></th>\n",
       "      <th>distance</th>\n",
       "      <th>cab_type</th>\n",
       "      <th>destination</th>\n",
       "      <th>source</th>\n",
       "      <th>product_id</th>\n",
       "      <th>name</th>\n",
       "      <th>RideCategory</th>\n",
       "    </tr>\n",
       "  </thead>\n",
       "  <tbody>\n",
       "    <tr>\n",
       "      <th>0</th>\n",
       "      <td>0.787401</td>\n",
       "      <td>Uber</td>\n",
       "      <td>West End</td>\n",
       "      <td>Haymarket Square</td>\n",
       "      <td>8cf7e821-f0d3-49c6-8eba-e679c0ebcf6a</td>\n",
       "      <td>Taxi</td>\n",
       "      <td>unknown</td>\n",
       "    </tr>\n",
       "    <tr>\n",
       "      <th>1</th>\n",
       "      <td>1.506652</td>\n",
       "      <td>Uber</td>\n",
       "      <td>Boston University</td>\n",
       "      <td>Beacon Hill</td>\n",
       "      <td>997acbb5-e102-41e1-b155-9df7de0a73f2</td>\n",
       "      <td>UberPool</td>\n",
       "      <td>cheap</td>\n",
       "    </tr>\n",
       "    <tr>\n",
       "      <th>2</th>\n",
       "      <td>1.414214</td>\n",
       "      <td>Lyft</td>\n",
       "      <td>Back Bay</td>\n",
       "      <td>Haymarket Square</td>\n",
       "      <td>lyft</td>\n",
       "      <td>Lyft</td>\n",
       "      <td>moderate</td>\n",
       "    </tr>\n",
       "    <tr>\n",
       "      <th>3</th>\n",
       "      <td>1.994994</td>\n",
       "      <td>Lyft</td>\n",
       "      <td>Financial District</td>\n",
       "      <td>Northeastern University</td>\n",
       "      <td>lyft_plus</td>\n",
       "      <td>Lyft XL</td>\n",
       "      <td>expensive</td>\n",
       "    </tr>\n",
       "    <tr>\n",
       "      <th>4</th>\n",
       "      <td>1.220656</td>\n",
       "      <td>Lyft</td>\n",
       "      <td>Back Bay</td>\n",
       "      <td>Northeastern University</td>\n",
       "      <td>lyft</td>\n",
       "      <td>Lyft</td>\n",
       "      <td>cheap</td>\n",
       "    </tr>\n",
       "  </tbody>\n",
       "</table>\n",
       "</div>"
      ],
      "text/plain": [
       "   distance cab_type         destination                   source  \\\n",
       "0  0.787401     Uber            West End         Haymarket Square   \n",
       "1  1.506652     Uber   Boston University              Beacon Hill   \n",
       "2  1.414214     Lyft            Back Bay         Haymarket Square   \n",
       "3  1.994994     Lyft  Financial District  Northeastern University   \n",
       "4  1.220656     Lyft            Back Bay  Northeastern University   \n",
       "\n",
       "                             product_id      name RideCategory  \n",
       "0  8cf7e821-f0d3-49c6-8eba-e679c0ebcf6a      Taxi      unknown  \n",
       "1  997acbb5-e102-41e1-b155-9df7de0a73f2  UberPool        cheap  \n",
       "2                                  lyft      Lyft     moderate  \n",
       "3                             lyft_plus   Lyft XL    expensive  \n",
       "4                                  lyft      Lyft        cheap  "
      ]
     },
     "execution_count": 82,
     "metadata": {},
     "output_type": "execute_result"
    }
   ],
   "source": [
    "d=taxi.copy()\n",
    "d.head()"
   ]
  },
  {
   "cell_type": "code",
   "execution_count": 83,
   "metadata": {
    "scrolled": true
   },
   "outputs": [],
   "source": [
    "d=pd.get_dummies(data=taxi,columns=['name','destination','source','product_id','cab_type'])\n",
    "lbl_Ridge=LabelEncoder()\n",
    "d['RideCategory']=lbl_Ridge.fit_transform(d['RideCategory'])"
   ]
  },
  {
   "cell_type": "code",
   "execution_count": 84,
   "metadata": {},
   "outputs": [
    {
     "data": {
      "text/html": [
       "<div>\n",
       "<style scoped>\n",
       "    .dataframe tbody tr th:only-of-type {\n",
       "        vertical-align: middle;\n",
       "    }\n",
       "\n",
       "    .dataframe tbody tr th {\n",
       "        vertical-align: top;\n",
       "    }\n",
       "\n",
       "    .dataframe thead th {\n",
       "        text-align: right;\n",
       "    }\n",
       "</style>\n",
       "<table border=\"1\" class=\"dataframe\">\n",
       "  <thead>\n",
       "    <tr style=\"text-align: right;\">\n",
       "      <th></th>\n",
       "      <th>distance</th>\n",
       "      <th>RideCategory</th>\n",
       "      <th>name_Black</th>\n",
       "      <th>name_Black SUV</th>\n",
       "      <th>name_Lux</th>\n",
       "      <th>name_Lux Black</th>\n",
       "      <th>name_Lux Black XL</th>\n",
       "      <th>name_Lyft</th>\n",
       "      <th>name_Lyft XL</th>\n",
       "      <th>name_Shared</th>\n",
       "      <th>...</th>\n",
       "      <th>product_id_997acbb5-e102-41e1-b155-9df7de0a73f2</th>\n",
       "      <th>product_id_9a0e7b09-b92b-4c41-9779-2ad22b4d779d</th>\n",
       "      <th>product_id_lyft</th>\n",
       "      <th>product_id_lyft_line</th>\n",
       "      <th>product_id_lyft_lux</th>\n",
       "      <th>product_id_lyft_luxsuv</th>\n",
       "      <th>product_id_lyft_plus</th>\n",
       "      <th>product_id_lyft_premier</th>\n",
       "      <th>cab_type_Lyft</th>\n",
       "      <th>cab_type_Uber</th>\n",
       "    </tr>\n",
       "  </thead>\n",
       "  <tbody>\n",
       "    <tr>\n",
       "      <th>0</th>\n",
       "      <td>0.787401</td>\n",
       "      <td>3</td>\n",
       "      <td>0</td>\n",
       "      <td>0</td>\n",
       "      <td>0</td>\n",
       "      <td>0</td>\n",
       "      <td>0</td>\n",
       "      <td>0</td>\n",
       "      <td>0</td>\n",
       "      <td>0</td>\n",
       "      <td>...</td>\n",
       "      <td>0</td>\n",
       "      <td>0</td>\n",
       "      <td>0</td>\n",
       "      <td>0</td>\n",
       "      <td>0</td>\n",
       "      <td>0</td>\n",
       "      <td>0</td>\n",
       "      <td>0</td>\n",
       "      <td>0</td>\n",
       "      <td>1</td>\n",
       "    </tr>\n",
       "    <tr>\n",
       "      <th>1</th>\n",
       "      <td>1.506652</td>\n",
       "      <td>0</td>\n",
       "      <td>0</td>\n",
       "      <td>0</td>\n",
       "      <td>0</td>\n",
       "      <td>0</td>\n",
       "      <td>0</td>\n",
       "      <td>0</td>\n",
       "      <td>0</td>\n",
       "      <td>0</td>\n",
       "      <td>...</td>\n",
       "      <td>1</td>\n",
       "      <td>0</td>\n",
       "      <td>0</td>\n",
       "      <td>0</td>\n",
       "      <td>0</td>\n",
       "      <td>0</td>\n",
       "      <td>0</td>\n",
       "      <td>0</td>\n",
       "      <td>0</td>\n",
       "      <td>1</td>\n",
       "    </tr>\n",
       "    <tr>\n",
       "      <th>2</th>\n",
       "      <td>1.414214</td>\n",
       "      <td>2</td>\n",
       "      <td>0</td>\n",
       "      <td>0</td>\n",
       "      <td>0</td>\n",
       "      <td>0</td>\n",
       "      <td>0</td>\n",
       "      <td>1</td>\n",
       "      <td>0</td>\n",
       "      <td>0</td>\n",
       "      <td>...</td>\n",
       "      <td>0</td>\n",
       "      <td>0</td>\n",
       "      <td>1</td>\n",
       "      <td>0</td>\n",
       "      <td>0</td>\n",
       "      <td>0</td>\n",
       "      <td>0</td>\n",
       "      <td>0</td>\n",
       "      <td>1</td>\n",
       "      <td>0</td>\n",
       "    </tr>\n",
       "    <tr>\n",
       "      <th>3</th>\n",
       "      <td>1.994994</td>\n",
       "      <td>1</td>\n",
       "      <td>0</td>\n",
       "      <td>0</td>\n",
       "      <td>0</td>\n",
       "      <td>0</td>\n",
       "      <td>0</td>\n",
       "      <td>0</td>\n",
       "      <td>1</td>\n",
       "      <td>0</td>\n",
       "      <td>...</td>\n",
       "      <td>0</td>\n",
       "      <td>0</td>\n",
       "      <td>0</td>\n",
       "      <td>0</td>\n",
       "      <td>0</td>\n",
       "      <td>0</td>\n",
       "      <td>1</td>\n",
       "      <td>0</td>\n",
       "      <td>1</td>\n",
       "      <td>0</td>\n",
       "    </tr>\n",
       "    <tr>\n",
       "      <th>4</th>\n",
       "      <td>1.220656</td>\n",
       "      <td>0</td>\n",
       "      <td>0</td>\n",
       "      <td>0</td>\n",
       "      <td>0</td>\n",
       "      <td>0</td>\n",
       "      <td>0</td>\n",
       "      <td>1</td>\n",
       "      <td>0</td>\n",
       "      <td>0</td>\n",
       "      <td>...</td>\n",
       "      <td>0</td>\n",
       "      <td>0</td>\n",
       "      <td>1</td>\n",
       "      <td>0</td>\n",
       "      <td>0</td>\n",
       "      <td>0</td>\n",
       "      <td>0</td>\n",
       "      <td>0</td>\n",
       "      <td>1</td>\n",
       "      <td>0</td>\n",
       "    </tr>\n",
       "  </tbody>\n",
       "</table>\n",
       "<p>5 rows × 54 columns</p>\n",
       "</div>"
      ],
      "text/plain": [
       "   distance  RideCategory  name_Black  name_Black SUV  name_Lux  \\\n",
       "0  0.787401             3           0               0         0   \n",
       "1  1.506652             0           0               0         0   \n",
       "2  1.414214             2           0               0         0   \n",
       "3  1.994994             1           0               0         0   \n",
       "4  1.220656             0           0               0         0   \n",
       "\n",
       "   name_Lux Black  name_Lux Black XL  name_Lyft  name_Lyft XL  name_Shared  \\\n",
       "0               0                  0          0             0            0   \n",
       "1               0                  0          0             0            0   \n",
       "2               0                  0          1             0            0   \n",
       "3               0                  0          0             1            0   \n",
       "4               0                  0          1             0            0   \n",
       "\n",
       "   ...  product_id_997acbb5-e102-41e1-b155-9df7de0a73f2  \\\n",
       "0  ...                                                0   \n",
       "1  ...                                                1   \n",
       "2  ...                                                0   \n",
       "3  ...                                                0   \n",
       "4  ...                                                0   \n",
       "\n",
       "   product_id_9a0e7b09-b92b-4c41-9779-2ad22b4d779d  product_id_lyft  \\\n",
       "0                                                0                0   \n",
       "1                                                0                0   \n",
       "2                                                0                1   \n",
       "3                                                0                0   \n",
       "4                                                0                1   \n",
       "\n",
       "   product_id_lyft_line  product_id_lyft_lux  product_id_lyft_luxsuv  \\\n",
       "0                     0                    0                       0   \n",
       "1                     0                    0                       0   \n",
       "2                     0                    0                       0   \n",
       "3                     0                    0                       0   \n",
       "4                     0                    0                       0   \n",
       "\n",
       "   product_id_lyft_plus  product_id_lyft_premier  cab_type_Lyft  cab_type_Uber  \n",
       "0                     0                        0              0              1  \n",
       "1                     0                        0              0              1  \n",
       "2                     0                        0              1              0  \n",
       "3                     1                        0              1              0  \n",
       "4                     0                        0              1              0  \n",
       "\n",
       "[5 rows x 54 columns]"
      ]
     },
     "execution_count": 84,
     "metadata": {},
     "output_type": "execute_result"
    }
   ],
   "source": [
    "d.head()"
   ]
  },
  {
   "cell_type": "code",
   "execution_count": 85,
   "metadata": {},
   "outputs": [],
   "source": [
    "# unknown =3\n",
    "#cheap = 0\n",
    "#moderate=2\n",
    "#epensive=1\n",
    "#very expensive=4"
   ]
  },
  {
   "cell_type": "code",
   "execution_count": 86,
   "metadata": {
    "scrolled": false
   },
   "outputs": [
    {
     "data": {
      "text/plain": [
       "2    173014\n",
       "0    150920\n",
       "1    123318\n",
       "4     44180\n",
       "3     43799\n",
       "Name: RideCategory, dtype: int64"
      ]
     },
     "execution_count": 86,
     "metadata": {},
     "output_type": "execute_result"
    }
   ],
   "source": [
    "d['RideCategory'].value_counts()"
   ]
  },
  {
   "cell_type": "code",
   "execution_count": 87,
   "metadata": {
    "scrolled": true
   },
   "outputs": [
    {
     "data": {
      "text/html": [
       "<div>\n",
       "<style scoped>\n",
       "    .dataframe tbody tr th:only-of-type {\n",
       "        vertical-align: middle;\n",
       "    }\n",
       "\n",
       "    .dataframe tbody tr th {\n",
       "        vertical-align: top;\n",
       "    }\n",
       "\n",
       "    .dataframe thead th {\n",
       "        text-align: right;\n",
       "    }\n",
       "</style>\n",
       "<table border=\"1\" class=\"dataframe\">\n",
       "  <thead>\n",
       "    <tr style=\"text-align: right;\">\n",
       "      <th></th>\n",
       "      <th>distance</th>\n",
       "      <th>RideCategory</th>\n",
       "      <th>name_Black</th>\n",
       "      <th>name_Black SUV</th>\n",
       "      <th>name_Lux</th>\n",
       "      <th>name_Lux Black</th>\n",
       "      <th>name_Lux Black XL</th>\n",
       "      <th>name_Lyft</th>\n",
       "      <th>name_Lyft XL</th>\n",
       "      <th>name_Shared</th>\n",
       "      <th>...</th>\n",
       "      <th>product_id_997acbb5-e102-41e1-b155-9df7de0a73f2</th>\n",
       "      <th>product_id_9a0e7b09-b92b-4c41-9779-2ad22b4d779d</th>\n",
       "      <th>product_id_lyft</th>\n",
       "      <th>product_id_lyft_line</th>\n",
       "      <th>product_id_lyft_lux</th>\n",
       "      <th>product_id_lyft_luxsuv</th>\n",
       "      <th>product_id_lyft_plus</th>\n",
       "      <th>product_id_lyft_premier</th>\n",
       "      <th>cab_type_Lyft</th>\n",
       "      <th>cab_type_Uber</th>\n",
       "    </tr>\n",
       "  </thead>\n",
       "  <tbody>\n",
       "    <tr>\n",
       "      <th>0</th>\n",
       "      <td>0.787401</td>\n",
       "      <td>3</td>\n",
       "      <td>0</td>\n",
       "      <td>0</td>\n",
       "      <td>0</td>\n",
       "      <td>0</td>\n",
       "      <td>0</td>\n",
       "      <td>0</td>\n",
       "      <td>0</td>\n",
       "      <td>0</td>\n",
       "      <td>...</td>\n",
       "      <td>0</td>\n",
       "      <td>0</td>\n",
       "      <td>0</td>\n",
       "      <td>0</td>\n",
       "      <td>0</td>\n",
       "      <td>0</td>\n",
       "      <td>0</td>\n",
       "      <td>0</td>\n",
       "      <td>0</td>\n",
       "      <td>1</td>\n",
       "    </tr>\n",
       "    <tr>\n",
       "      <th>1</th>\n",
       "      <td>1.506652</td>\n",
       "      <td>0</td>\n",
       "      <td>0</td>\n",
       "      <td>0</td>\n",
       "      <td>0</td>\n",
       "      <td>0</td>\n",
       "      <td>0</td>\n",
       "      <td>0</td>\n",
       "      <td>0</td>\n",
       "      <td>0</td>\n",
       "      <td>...</td>\n",
       "      <td>1</td>\n",
       "      <td>0</td>\n",
       "      <td>0</td>\n",
       "      <td>0</td>\n",
       "      <td>0</td>\n",
       "      <td>0</td>\n",
       "      <td>0</td>\n",
       "      <td>0</td>\n",
       "      <td>0</td>\n",
       "      <td>1</td>\n",
       "    </tr>\n",
       "    <tr>\n",
       "      <th>2</th>\n",
       "      <td>1.414214</td>\n",
       "      <td>2</td>\n",
       "      <td>0</td>\n",
       "      <td>0</td>\n",
       "      <td>0</td>\n",
       "      <td>0</td>\n",
       "      <td>0</td>\n",
       "      <td>1</td>\n",
       "      <td>0</td>\n",
       "      <td>0</td>\n",
       "      <td>...</td>\n",
       "      <td>0</td>\n",
       "      <td>0</td>\n",
       "      <td>1</td>\n",
       "      <td>0</td>\n",
       "      <td>0</td>\n",
       "      <td>0</td>\n",
       "      <td>0</td>\n",
       "      <td>0</td>\n",
       "      <td>1</td>\n",
       "      <td>0</td>\n",
       "    </tr>\n",
       "    <tr>\n",
       "      <th>3</th>\n",
       "      <td>1.994994</td>\n",
       "      <td>1</td>\n",
       "      <td>0</td>\n",
       "      <td>0</td>\n",
       "      <td>0</td>\n",
       "      <td>0</td>\n",
       "      <td>0</td>\n",
       "      <td>0</td>\n",
       "      <td>1</td>\n",
       "      <td>0</td>\n",
       "      <td>...</td>\n",
       "      <td>0</td>\n",
       "      <td>0</td>\n",
       "      <td>0</td>\n",
       "      <td>0</td>\n",
       "      <td>0</td>\n",
       "      <td>0</td>\n",
       "      <td>1</td>\n",
       "      <td>0</td>\n",
       "      <td>1</td>\n",
       "      <td>0</td>\n",
       "    </tr>\n",
       "    <tr>\n",
       "      <th>4</th>\n",
       "      <td>1.220656</td>\n",
       "      <td>0</td>\n",
       "      <td>0</td>\n",
       "      <td>0</td>\n",
       "      <td>0</td>\n",
       "      <td>0</td>\n",
       "      <td>0</td>\n",
       "      <td>1</td>\n",
       "      <td>0</td>\n",
       "      <td>0</td>\n",
       "      <td>...</td>\n",
       "      <td>0</td>\n",
       "      <td>0</td>\n",
       "      <td>1</td>\n",
       "      <td>0</td>\n",
       "      <td>0</td>\n",
       "      <td>0</td>\n",
       "      <td>0</td>\n",
       "      <td>0</td>\n",
       "      <td>1</td>\n",
       "      <td>0</td>\n",
       "    </tr>\n",
       "    <tr>\n",
       "      <th>...</th>\n",
       "      <td>...</td>\n",
       "      <td>...</td>\n",
       "      <td>...</td>\n",
       "      <td>...</td>\n",
       "      <td>...</td>\n",
       "      <td>...</td>\n",
       "      <td>...</td>\n",
       "      <td>...</td>\n",
       "      <td>...</td>\n",
       "      <td>...</td>\n",
       "      <td>...</td>\n",
       "      <td>...</td>\n",
       "      <td>...</td>\n",
       "      <td>...</td>\n",
       "      <td>...</td>\n",
       "      <td>...</td>\n",
       "      <td>...</td>\n",
       "      <td>...</td>\n",
       "      <td>...</td>\n",
       "      <td>...</td>\n",
       "      <td>...</td>\n",
       "    </tr>\n",
       "    <tr>\n",
       "      <th>554451</th>\n",
       "      <td>1.280625</td>\n",
       "      <td>2</td>\n",
       "      <td>0</td>\n",
       "      <td>0</td>\n",
       "      <td>0</td>\n",
       "      <td>0</td>\n",
       "      <td>0</td>\n",
       "      <td>0</td>\n",
       "      <td>0</td>\n",
       "      <td>0</td>\n",
       "      <td>...</td>\n",
       "      <td>0</td>\n",
       "      <td>0</td>\n",
       "      <td>0</td>\n",
       "      <td>0</td>\n",
       "      <td>0</td>\n",
       "      <td>0</td>\n",
       "      <td>0</td>\n",
       "      <td>0</td>\n",
       "      <td>0</td>\n",
       "      <td>1</td>\n",
       "    </tr>\n",
       "    <tr>\n",
       "      <th>554452</th>\n",
       "      <td>0.959166</td>\n",
       "      <td>1</td>\n",
       "      <td>0</td>\n",
       "      <td>1</td>\n",
       "      <td>0</td>\n",
       "      <td>0</td>\n",
       "      <td>0</td>\n",
       "      <td>0</td>\n",
       "      <td>0</td>\n",
       "      <td>0</td>\n",
       "      <td>...</td>\n",
       "      <td>0</td>\n",
       "      <td>0</td>\n",
       "      <td>0</td>\n",
       "      <td>0</td>\n",
       "      <td>0</td>\n",
       "      <td>0</td>\n",
       "      <td>0</td>\n",
       "      <td>0</td>\n",
       "      <td>0</td>\n",
       "      <td>1</td>\n",
       "    </tr>\n",
       "    <tr>\n",
       "      <th>554453</th>\n",
       "      <td>1.630951</td>\n",
       "      <td>2</td>\n",
       "      <td>0</td>\n",
       "      <td>0</td>\n",
       "      <td>0</td>\n",
       "      <td>0</td>\n",
       "      <td>0</td>\n",
       "      <td>0</td>\n",
       "      <td>0</td>\n",
       "      <td>0</td>\n",
       "      <td>...</td>\n",
       "      <td>0</td>\n",
       "      <td>0</td>\n",
       "      <td>0</td>\n",
       "      <td>0</td>\n",
       "      <td>0</td>\n",
       "      <td>0</td>\n",
       "      <td>0</td>\n",
       "      <td>0</td>\n",
       "      <td>0</td>\n",
       "      <td>1</td>\n",
       "    </tr>\n",
       "    <tr>\n",
       "      <th>554454</th>\n",
       "      <td>1.726268</td>\n",
       "      <td>2</td>\n",
       "      <td>0</td>\n",
       "      <td>0</td>\n",
       "      <td>0</td>\n",
       "      <td>0</td>\n",
       "      <td>0</td>\n",
       "      <td>0</td>\n",
       "      <td>0</td>\n",
       "      <td>0</td>\n",
       "      <td>...</td>\n",
       "      <td>0</td>\n",
       "      <td>0</td>\n",
       "      <td>0</td>\n",
       "      <td>0</td>\n",
       "      <td>0</td>\n",
       "      <td>0</td>\n",
       "      <td>0</td>\n",
       "      <td>0</td>\n",
       "      <td>0</td>\n",
       "      <td>1</td>\n",
       "    </tr>\n",
       "    <tr>\n",
       "      <th>554455</th>\n",
       "      <td>1.382027</td>\n",
       "      <td>2</td>\n",
       "      <td>0</td>\n",
       "      <td>0</td>\n",
       "      <td>0</td>\n",
       "      <td>0</td>\n",
       "      <td>0</td>\n",
       "      <td>0</td>\n",
       "      <td>0</td>\n",
       "      <td>0</td>\n",
       "      <td>...</td>\n",
       "      <td>0</td>\n",
       "      <td>0</td>\n",
       "      <td>0</td>\n",
       "      <td>0</td>\n",
       "      <td>0</td>\n",
       "      <td>0</td>\n",
       "      <td>0</td>\n",
       "      <td>0</td>\n",
       "      <td>0</td>\n",
       "      <td>1</td>\n",
       "    </tr>\n",
       "  </tbody>\n",
       "</table>\n",
       "<p>535231 rows × 54 columns</p>\n",
       "</div>"
      ],
      "text/plain": [
       "        distance  RideCategory  name_Black  name_Black SUV  name_Lux  \\\n",
       "0       0.787401             3           0               0         0   \n",
       "1       1.506652             0           0               0         0   \n",
       "2       1.414214             2           0               0         0   \n",
       "3       1.994994             1           0               0         0   \n",
       "4       1.220656             0           0               0         0   \n",
       "...          ...           ...         ...             ...       ...   \n",
       "554451  1.280625             2           0               0         0   \n",
       "554452  0.959166             1           0               1         0   \n",
       "554453  1.630951             2           0               0         0   \n",
       "554454  1.726268             2           0               0         0   \n",
       "554455  1.382027             2           0               0         0   \n",
       "\n",
       "        name_Lux Black  name_Lux Black XL  name_Lyft  name_Lyft XL  \\\n",
       "0                    0                  0          0             0   \n",
       "1                    0                  0          0             0   \n",
       "2                    0                  0          1             0   \n",
       "3                    0                  0          0             1   \n",
       "4                    0                  0          1             0   \n",
       "...                ...                ...        ...           ...   \n",
       "554451               0                  0          0             0   \n",
       "554452               0                  0          0             0   \n",
       "554453               0                  0          0             0   \n",
       "554454               0                  0          0             0   \n",
       "554455               0                  0          0             0   \n",
       "\n",
       "        name_Shared  ...  product_id_997acbb5-e102-41e1-b155-9df7de0a73f2  \\\n",
       "0                 0  ...                                                0   \n",
       "1                 0  ...                                                1   \n",
       "2                 0  ...                                                0   \n",
       "3                 0  ...                                                0   \n",
       "4                 0  ...                                                0   \n",
       "...             ...  ...                                              ...   \n",
       "554451            0  ...                                                0   \n",
       "554452            0  ...                                                0   \n",
       "554453            0  ...                                                0   \n",
       "554454            0  ...                                                0   \n",
       "554455            0  ...                                                0   \n",
       "\n",
       "        product_id_9a0e7b09-b92b-4c41-9779-2ad22b4d779d  product_id_lyft  \\\n",
       "0                                                     0                0   \n",
       "1                                                     0                0   \n",
       "2                                                     0                1   \n",
       "3                                                     0                0   \n",
       "4                                                     0                1   \n",
       "...                                                 ...              ...   \n",
       "554451                                                0                0   \n",
       "554452                                                0                0   \n",
       "554453                                                0                0   \n",
       "554454                                                0                0   \n",
       "554455                                                0                0   \n",
       "\n",
       "        product_id_lyft_line  product_id_lyft_lux  product_id_lyft_luxsuv  \\\n",
       "0                          0                    0                       0   \n",
       "1                          0                    0                       0   \n",
       "2                          0                    0                       0   \n",
       "3                          0                    0                       0   \n",
       "4                          0                    0                       0   \n",
       "...                      ...                  ...                     ...   \n",
       "554451                     0                    0                       0   \n",
       "554452                     0                    0                       0   \n",
       "554453                     0                    0                       0   \n",
       "554454                     0                    0                       0   \n",
       "554455                     0                    0                       0   \n",
       "\n",
       "        product_id_lyft_plus  product_id_lyft_premier  cab_type_Lyft  \\\n",
       "0                          0                        0              0   \n",
       "1                          0                        0              0   \n",
       "2                          0                        0              1   \n",
       "3                          1                        0              1   \n",
       "4                          0                        0              1   \n",
       "...                      ...                      ...            ...   \n",
       "554451                     0                        0              0   \n",
       "554452                     0                        0              0   \n",
       "554453                     0                        0              0   \n",
       "554454                     0                        0              0   \n",
       "554455                     0                        0              0   \n",
       "\n",
       "        cab_type_Uber  \n",
       "0                   1  \n",
       "1                   1  \n",
       "2                   0  \n",
       "3                   0  \n",
       "4                   0  \n",
       "...               ...  \n",
       "554451              1  \n",
       "554452              1  \n",
       "554453              1  \n",
       "554454              1  \n",
       "554455              1  \n",
       "\n",
       "[535231 rows x 54 columns]"
      ]
     },
     "execution_count": 87,
     "metadata": {},
     "output_type": "execute_result"
    }
   ],
   "source": [
    "d"
   ]
  },
  {
   "cell_type": "code",
   "execution_count": 88,
   "metadata": {},
   "outputs": [],
   "source": [
    "x=d.drop('RideCategory',axis=1)\n",
    "y=d[['RideCategory']]"
   ]
  },
  {
   "cell_type": "code",
   "execution_count": 89,
   "metadata": {},
   "outputs": [
    {
     "data": {
      "text/html": [
       "<div>\n",
       "<style scoped>\n",
       "    .dataframe tbody tr th:only-of-type {\n",
       "        vertical-align: middle;\n",
       "    }\n",
       "\n",
       "    .dataframe tbody tr th {\n",
       "        vertical-align: top;\n",
       "    }\n",
       "\n",
       "    .dataframe thead th {\n",
       "        text-align: right;\n",
       "    }\n",
       "</style>\n",
       "<table border=\"1\" class=\"dataframe\">\n",
       "  <thead>\n",
       "    <tr style=\"text-align: right;\">\n",
       "      <th></th>\n",
       "      <th>distance</th>\n",
       "      <th>name_Black</th>\n",
       "      <th>name_Black SUV</th>\n",
       "      <th>name_Lux</th>\n",
       "      <th>name_Lux Black</th>\n",
       "      <th>name_Lux Black XL</th>\n",
       "      <th>name_Lyft</th>\n",
       "      <th>name_Lyft XL</th>\n",
       "      <th>name_Shared</th>\n",
       "      <th>name_Taxi</th>\n",
       "      <th>...</th>\n",
       "      <th>product_id_997acbb5-e102-41e1-b155-9df7de0a73f2</th>\n",
       "      <th>product_id_9a0e7b09-b92b-4c41-9779-2ad22b4d779d</th>\n",
       "      <th>product_id_lyft</th>\n",
       "      <th>product_id_lyft_line</th>\n",
       "      <th>product_id_lyft_lux</th>\n",
       "      <th>product_id_lyft_luxsuv</th>\n",
       "      <th>product_id_lyft_plus</th>\n",
       "      <th>product_id_lyft_premier</th>\n",
       "      <th>cab_type_Lyft</th>\n",
       "      <th>cab_type_Uber</th>\n",
       "    </tr>\n",
       "  </thead>\n",
       "  <tbody>\n",
       "    <tr>\n",
       "      <th>0</th>\n",
       "      <td>0.787401</td>\n",
       "      <td>0</td>\n",
       "      <td>0</td>\n",
       "      <td>0</td>\n",
       "      <td>0</td>\n",
       "      <td>0</td>\n",
       "      <td>0</td>\n",
       "      <td>0</td>\n",
       "      <td>0</td>\n",
       "      <td>1</td>\n",
       "      <td>...</td>\n",
       "      <td>0</td>\n",
       "      <td>0</td>\n",
       "      <td>0</td>\n",
       "      <td>0</td>\n",
       "      <td>0</td>\n",
       "      <td>0</td>\n",
       "      <td>0</td>\n",
       "      <td>0</td>\n",
       "      <td>0</td>\n",
       "      <td>1</td>\n",
       "    </tr>\n",
       "    <tr>\n",
       "      <th>1</th>\n",
       "      <td>1.506652</td>\n",
       "      <td>0</td>\n",
       "      <td>0</td>\n",
       "      <td>0</td>\n",
       "      <td>0</td>\n",
       "      <td>0</td>\n",
       "      <td>0</td>\n",
       "      <td>0</td>\n",
       "      <td>0</td>\n",
       "      <td>0</td>\n",
       "      <td>...</td>\n",
       "      <td>1</td>\n",
       "      <td>0</td>\n",
       "      <td>0</td>\n",
       "      <td>0</td>\n",
       "      <td>0</td>\n",
       "      <td>0</td>\n",
       "      <td>0</td>\n",
       "      <td>0</td>\n",
       "      <td>0</td>\n",
       "      <td>1</td>\n",
       "    </tr>\n",
       "    <tr>\n",
       "      <th>2</th>\n",
       "      <td>1.414214</td>\n",
       "      <td>0</td>\n",
       "      <td>0</td>\n",
       "      <td>0</td>\n",
       "      <td>0</td>\n",
       "      <td>0</td>\n",
       "      <td>1</td>\n",
       "      <td>0</td>\n",
       "      <td>0</td>\n",
       "      <td>0</td>\n",
       "      <td>...</td>\n",
       "      <td>0</td>\n",
       "      <td>0</td>\n",
       "      <td>1</td>\n",
       "      <td>0</td>\n",
       "      <td>0</td>\n",
       "      <td>0</td>\n",
       "      <td>0</td>\n",
       "      <td>0</td>\n",
       "      <td>1</td>\n",
       "      <td>0</td>\n",
       "    </tr>\n",
       "    <tr>\n",
       "      <th>3</th>\n",
       "      <td>1.994994</td>\n",
       "      <td>0</td>\n",
       "      <td>0</td>\n",
       "      <td>0</td>\n",
       "      <td>0</td>\n",
       "      <td>0</td>\n",
       "      <td>0</td>\n",
       "      <td>1</td>\n",
       "      <td>0</td>\n",
       "      <td>0</td>\n",
       "      <td>...</td>\n",
       "      <td>0</td>\n",
       "      <td>0</td>\n",
       "      <td>0</td>\n",
       "      <td>0</td>\n",
       "      <td>0</td>\n",
       "      <td>0</td>\n",
       "      <td>1</td>\n",
       "      <td>0</td>\n",
       "      <td>1</td>\n",
       "      <td>0</td>\n",
       "    </tr>\n",
       "    <tr>\n",
       "      <th>4</th>\n",
       "      <td>1.220656</td>\n",
       "      <td>0</td>\n",
       "      <td>0</td>\n",
       "      <td>0</td>\n",
       "      <td>0</td>\n",
       "      <td>0</td>\n",
       "      <td>1</td>\n",
       "      <td>0</td>\n",
       "      <td>0</td>\n",
       "      <td>0</td>\n",
       "      <td>...</td>\n",
       "      <td>0</td>\n",
       "      <td>0</td>\n",
       "      <td>1</td>\n",
       "      <td>0</td>\n",
       "      <td>0</td>\n",
       "      <td>0</td>\n",
       "      <td>0</td>\n",
       "      <td>0</td>\n",
       "      <td>1</td>\n",
       "      <td>0</td>\n",
       "    </tr>\n",
       "    <tr>\n",
       "      <th>...</th>\n",
       "      <td>...</td>\n",
       "      <td>...</td>\n",
       "      <td>...</td>\n",
       "      <td>...</td>\n",
       "      <td>...</td>\n",
       "      <td>...</td>\n",
       "      <td>...</td>\n",
       "      <td>...</td>\n",
       "      <td>...</td>\n",
       "      <td>...</td>\n",
       "      <td>...</td>\n",
       "      <td>...</td>\n",
       "      <td>...</td>\n",
       "      <td>...</td>\n",
       "      <td>...</td>\n",
       "      <td>...</td>\n",
       "      <td>...</td>\n",
       "      <td>...</td>\n",
       "      <td>...</td>\n",
       "      <td>...</td>\n",
       "      <td>...</td>\n",
       "    </tr>\n",
       "    <tr>\n",
       "      <th>554451</th>\n",
       "      <td>1.280625</td>\n",
       "      <td>0</td>\n",
       "      <td>0</td>\n",
       "      <td>0</td>\n",
       "      <td>0</td>\n",
       "      <td>0</td>\n",
       "      <td>0</td>\n",
       "      <td>0</td>\n",
       "      <td>0</td>\n",
       "      <td>0</td>\n",
       "      <td>...</td>\n",
       "      <td>0</td>\n",
       "      <td>0</td>\n",
       "      <td>0</td>\n",
       "      <td>0</td>\n",
       "      <td>0</td>\n",
       "      <td>0</td>\n",
       "      <td>0</td>\n",
       "      <td>0</td>\n",
       "      <td>0</td>\n",
       "      <td>1</td>\n",
       "    </tr>\n",
       "    <tr>\n",
       "      <th>554452</th>\n",
       "      <td>0.959166</td>\n",
       "      <td>0</td>\n",
       "      <td>1</td>\n",
       "      <td>0</td>\n",
       "      <td>0</td>\n",
       "      <td>0</td>\n",
       "      <td>0</td>\n",
       "      <td>0</td>\n",
       "      <td>0</td>\n",
       "      <td>0</td>\n",
       "      <td>...</td>\n",
       "      <td>0</td>\n",
       "      <td>0</td>\n",
       "      <td>0</td>\n",
       "      <td>0</td>\n",
       "      <td>0</td>\n",
       "      <td>0</td>\n",
       "      <td>0</td>\n",
       "      <td>0</td>\n",
       "      <td>0</td>\n",
       "      <td>1</td>\n",
       "    </tr>\n",
       "    <tr>\n",
       "      <th>554453</th>\n",
       "      <td>1.630951</td>\n",
       "      <td>0</td>\n",
       "      <td>0</td>\n",
       "      <td>0</td>\n",
       "      <td>0</td>\n",
       "      <td>0</td>\n",
       "      <td>0</td>\n",
       "      <td>0</td>\n",
       "      <td>0</td>\n",
       "      <td>0</td>\n",
       "      <td>...</td>\n",
       "      <td>0</td>\n",
       "      <td>0</td>\n",
       "      <td>0</td>\n",
       "      <td>0</td>\n",
       "      <td>0</td>\n",
       "      <td>0</td>\n",
       "      <td>0</td>\n",
       "      <td>0</td>\n",
       "      <td>0</td>\n",
       "      <td>1</td>\n",
       "    </tr>\n",
       "    <tr>\n",
       "      <th>554454</th>\n",
       "      <td>1.726268</td>\n",
       "      <td>0</td>\n",
       "      <td>0</td>\n",
       "      <td>0</td>\n",
       "      <td>0</td>\n",
       "      <td>0</td>\n",
       "      <td>0</td>\n",
       "      <td>0</td>\n",
       "      <td>0</td>\n",
       "      <td>0</td>\n",
       "      <td>...</td>\n",
       "      <td>0</td>\n",
       "      <td>0</td>\n",
       "      <td>0</td>\n",
       "      <td>0</td>\n",
       "      <td>0</td>\n",
       "      <td>0</td>\n",
       "      <td>0</td>\n",
       "      <td>0</td>\n",
       "      <td>0</td>\n",
       "      <td>1</td>\n",
       "    </tr>\n",
       "    <tr>\n",
       "      <th>554455</th>\n",
       "      <td>1.382027</td>\n",
       "      <td>0</td>\n",
       "      <td>0</td>\n",
       "      <td>0</td>\n",
       "      <td>0</td>\n",
       "      <td>0</td>\n",
       "      <td>0</td>\n",
       "      <td>0</td>\n",
       "      <td>0</td>\n",
       "      <td>0</td>\n",
       "      <td>...</td>\n",
       "      <td>0</td>\n",
       "      <td>0</td>\n",
       "      <td>0</td>\n",
       "      <td>0</td>\n",
       "      <td>0</td>\n",
       "      <td>0</td>\n",
       "      <td>0</td>\n",
       "      <td>0</td>\n",
       "      <td>0</td>\n",
       "      <td>1</td>\n",
       "    </tr>\n",
       "  </tbody>\n",
       "</table>\n",
       "<p>535231 rows × 53 columns</p>\n",
       "</div>"
      ],
      "text/plain": [
       "        distance  name_Black  name_Black SUV  name_Lux  name_Lux Black  \\\n",
       "0       0.787401           0               0         0               0   \n",
       "1       1.506652           0               0         0               0   \n",
       "2       1.414214           0               0         0               0   \n",
       "3       1.994994           0               0         0               0   \n",
       "4       1.220656           0               0         0               0   \n",
       "...          ...         ...             ...       ...             ...   \n",
       "554451  1.280625           0               0         0               0   \n",
       "554452  0.959166           0               1         0               0   \n",
       "554453  1.630951           0               0         0               0   \n",
       "554454  1.726268           0               0         0               0   \n",
       "554455  1.382027           0               0         0               0   \n",
       "\n",
       "        name_Lux Black XL  name_Lyft  name_Lyft XL  name_Shared  name_Taxi  \\\n",
       "0                       0          0             0            0          1   \n",
       "1                       0          0             0            0          0   \n",
       "2                       0          1             0            0          0   \n",
       "3                       0          0             1            0          0   \n",
       "4                       0          1             0            0          0   \n",
       "...                   ...        ...           ...          ...        ...   \n",
       "554451                  0          0             0            0          0   \n",
       "554452                  0          0             0            0          0   \n",
       "554453                  0          0             0            0          0   \n",
       "554454                  0          0             0            0          0   \n",
       "554455                  0          0             0            0          0   \n",
       "\n",
       "        ...  product_id_997acbb5-e102-41e1-b155-9df7de0a73f2  \\\n",
       "0       ...                                                0   \n",
       "1       ...                                                1   \n",
       "2       ...                                                0   \n",
       "3       ...                                                0   \n",
       "4       ...                                                0   \n",
       "...     ...                                              ...   \n",
       "554451  ...                                                0   \n",
       "554452  ...                                                0   \n",
       "554453  ...                                                0   \n",
       "554454  ...                                                0   \n",
       "554455  ...                                                0   \n",
       "\n",
       "        product_id_9a0e7b09-b92b-4c41-9779-2ad22b4d779d  product_id_lyft  \\\n",
       "0                                                     0                0   \n",
       "1                                                     0                0   \n",
       "2                                                     0                1   \n",
       "3                                                     0                0   \n",
       "4                                                     0                1   \n",
       "...                                                 ...              ...   \n",
       "554451                                                0                0   \n",
       "554452                                                0                0   \n",
       "554453                                                0                0   \n",
       "554454                                                0                0   \n",
       "554455                                                0                0   \n",
       "\n",
       "        product_id_lyft_line  product_id_lyft_lux  product_id_lyft_luxsuv  \\\n",
       "0                          0                    0                       0   \n",
       "1                          0                    0                       0   \n",
       "2                          0                    0                       0   \n",
       "3                          0                    0                       0   \n",
       "4                          0                    0                       0   \n",
       "...                      ...                  ...                     ...   \n",
       "554451                     0                    0                       0   \n",
       "554452                     0                    0                       0   \n",
       "554453                     0                    0                       0   \n",
       "554454                     0                    0                       0   \n",
       "554455                     0                    0                       0   \n",
       "\n",
       "        product_id_lyft_plus  product_id_lyft_premier  cab_type_Lyft  \\\n",
       "0                          0                        0              0   \n",
       "1                          0                        0              0   \n",
       "2                          0                        0              1   \n",
       "3                          1                        0              1   \n",
       "4                          0                        0              1   \n",
       "...                      ...                      ...            ...   \n",
       "554451                     0                        0              0   \n",
       "554452                     0                        0              0   \n",
       "554453                     0                        0              0   \n",
       "554454                     0                        0              0   \n",
       "554455                     0                        0              0   \n",
       "\n",
       "        cab_type_Uber  \n",
       "0                   1  \n",
       "1                   1  \n",
       "2                   0  \n",
       "3                   0  \n",
       "4                   0  \n",
       "...               ...  \n",
       "554451              1  \n",
       "554452              1  \n",
       "554453              1  \n",
       "554454              1  \n",
       "554455              1  \n",
       "\n",
       "[535231 rows x 53 columns]"
      ]
     },
     "execution_count": 89,
     "metadata": {},
     "output_type": "execute_result"
    }
   ],
   "source": [
    "x"
   ]
  },
  {
   "cell_type": "code",
   "execution_count": 90,
   "metadata": {
    "scrolled": true
   },
   "outputs": [
    {
     "data": {
      "text/html": [
       "<div>\n",
       "<style scoped>\n",
       "    .dataframe tbody tr th:only-of-type {\n",
       "        vertical-align: middle;\n",
       "    }\n",
       "\n",
       "    .dataframe tbody tr th {\n",
       "        vertical-align: top;\n",
       "    }\n",
       "\n",
       "    .dataframe thead th {\n",
       "        text-align: right;\n",
       "    }\n",
       "</style>\n",
       "<table border=\"1\" class=\"dataframe\">\n",
       "  <thead>\n",
       "    <tr style=\"text-align: right;\">\n",
       "      <th></th>\n",
       "      <th>RideCategory</th>\n",
       "    </tr>\n",
       "  </thead>\n",
       "  <tbody>\n",
       "    <tr>\n",
       "      <th>0</th>\n",
       "      <td>3</td>\n",
       "    </tr>\n",
       "    <tr>\n",
       "      <th>1</th>\n",
       "      <td>0</td>\n",
       "    </tr>\n",
       "    <tr>\n",
       "      <th>2</th>\n",
       "      <td>2</td>\n",
       "    </tr>\n",
       "    <tr>\n",
       "      <th>3</th>\n",
       "      <td>1</td>\n",
       "    </tr>\n",
       "    <tr>\n",
       "      <th>4</th>\n",
       "      <td>0</td>\n",
       "    </tr>\n",
       "    <tr>\n",
       "      <th>...</th>\n",
       "      <td>...</td>\n",
       "    </tr>\n",
       "    <tr>\n",
       "      <th>554451</th>\n",
       "      <td>2</td>\n",
       "    </tr>\n",
       "    <tr>\n",
       "      <th>554452</th>\n",
       "      <td>1</td>\n",
       "    </tr>\n",
       "    <tr>\n",
       "      <th>554453</th>\n",
       "      <td>2</td>\n",
       "    </tr>\n",
       "    <tr>\n",
       "      <th>554454</th>\n",
       "      <td>2</td>\n",
       "    </tr>\n",
       "    <tr>\n",
       "      <th>554455</th>\n",
       "      <td>2</td>\n",
       "    </tr>\n",
       "  </tbody>\n",
       "</table>\n",
       "<p>535231 rows × 1 columns</p>\n",
       "</div>"
      ],
      "text/plain": [
       "        RideCategory\n",
       "0                  3\n",
       "1                  0\n",
       "2                  2\n",
       "3                  1\n",
       "4                  0\n",
       "...              ...\n",
       "554451             2\n",
       "554452             1\n",
       "554453             2\n",
       "554454             2\n",
       "554455             2\n",
       "\n",
       "[535231 rows x 1 columns]"
      ]
     },
     "execution_count": 90,
     "metadata": {},
     "output_type": "execute_result"
    }
   ],
   "source": [
    "y"
   ]
  },
  {
   "cell_type": "code",
   "execution_count": 91,
   "metadata": {},
   "outputs": [],
   "source": [
    "from sklearn.model_selection import train_test_split"
   ]
  },
  {
   "cell_type": "code",
   "execution_count": 92,
   "metadata": {},
   "outputs": [],
   "source": [
    "x_train,x_test,y_train,y_test = train_test_split(x,y,test_size=0.2,shuffle=True,random_state=42)"
   ]
  },
  {
   "cell_type": "code",
   "execution_count": 93,
   "metadata": {
    "scrolled": true
   },
   "outputs": [
    {
     "name": "stdout",
     "output_type": "stream",
     "text": [
      "train: (428184, 53)\n",
      "test: (107047, 53)\n"
     ]
    }
   ],
   "source": [
    "print('train:',x_train.shape)\n",
    "print('test:',x_test.shape)"
   ]
  },
  {
   "attachments": {},
   "cell_type": "markdown",
   "metadata": {},
   "source": [
    "# Training phase"
   ]
  },
  {
   "attachments": {},
   "cell_type": "markdown",
   "metadata": {},
   "source": [
    "## we will use \n",
    "- Decision tree \n",
    "- Random forest \n",
    "- Adaboost\n",
    "- logistic rgression"
   ]
  },
  {
   "cell_type": "code",
   "execution_count": 94,
   "metadata": {},
   "outputs": [],
   "source": [
    "from sklearn.tree import DecisionTreeClassifier\n",
    "from sklearn.ensemble import RandomForestClassifier,AdaBoostClassifier\n",
    "from sklearn.linear_model import LogisticRegression\n",
    "from sklearn.neighbors import KNeighborsClassifier\n",
    "from sklearn.naive_bayes import GaussianNB\n",
    "import time\n",
    "import joblib"
   ]
  },
  {
   "attachments": {},
   "cell_type": "markdown",
   "metadata": {},
   "source": [
    "## Decision Tree"
   ]
  },
  {
   "cell_type": "code",
   "execution_count": 97,
   "metadata": {},
   "outputs": [
    {
     "name": "stdout",
     "output_type": "stream",
     "text": [
      "Total training time:  2.6715352535247803 seconds\n",
      "Total testing time:  0.04434943199157715 seconds\n",
      "trainning acc=90.26026194346356 %\n",
      "testing acc=90.1370426074528 %\n"
     ]
    },
    {
     "data": {
      "image/png": "[encoded data removed]",
      "text/plain": [
       "<Figure size 1000x1000 with 1 Axes>"
      ]
     },
     "metadata": {},
     "output_type": "display_data"
    }
   ],
   "source": [
    "# Training the model\n",
    "model_tree = DecisionTreeClassifier(criterion='entropy',max_depth=25,min_samples_leaf=20,min_samples_split=50,random_state=42)\n",
    "\n",
    "start=time.time()\n",
    "model_tree.fit(x_train,y_train)\n",
    "end=time.time()\n",
    "Total_training_time=end- start\n",
    "print(\"Total training time: \", Total_training_time, \"seconds\")\n",
    "\n",
    "# Saving the model to decision_tree.pkl\n",
    "joblib.dump(model_tree, 'decision_tree.pkl')\n",
    "\n",
    "# Making predictions\n",
    "y_pred_train_dtree=model_tree.predict(x_train)\n",
    "\n",
    "start=time.time()\n",
    "y_pred_test_dtree=model_tree.predict(x_test)\n",
    "end=time.time()\n",
    "Total_testing_time=end- start\n",
    "print(\"Total testing time: \", Total_testing_time, \"seconds\")\n",
    "\n",
    "# Calculating accuracies\n",
    "t_acc=accuracy_score(y_train,y_pred_train_dtree)\n",
    "v_acc=accuracy_score(y_test,y_pred_test_dtree)\n",
    "\n",
    "print('trainning acc={} %'.format(t_acc*100))\n",
    "print('testing acc={} %'.format(v_acc*100))\n",
    "\n",
    "#visualize \n",
    "bars=pd.DataFrame({'classification acuuracy':[t_acc],'total training time':[Total_training_time],'total test time':[Total_testing_time]})\n",
    "sns.barplot(data=bars)\n",
    "plt.title(\"Decision tree\")\n",
    "plt.show()"
   ]
  },
  {
   "attachments": {},
   "cell_type": "markdown",
   "metadata": {},
   "source": [
    "## RandomForest"
   ]
  },
  {
   "cell_type": "code",
   "execution_count": 98,
   "metadata": {
    "scrolled": false
   },
   "outputs": [
    {
     "name": "stdout",
     "output_type": "stream",
     "text": [
      "Total training time:  6.631355047225952 seconds\n",
      "Total testing time:  0.2586352825164795 seconds\n",
      "trainning acc=89.79153821721503 %\n",
      "testing acc=89.83063514157332 %\n"
     ]
    },
    {
     "data": {
      "image/png": "[encoded data removed]",
      "text/plain": [
       "<Figure size 1000x1000 with 1 Axes>"
      ]
     },
     "metadata": {},
     "output_type": "display_data"
    }
   ],
   "source": [
    "model_forest = RandomForestClassifier(n_estimators=15, min_samples_split= 150 , min_samples_leaf= 50 , random_state=42,max_depth=20)\n",
    "\n",
    "start=time.time()\n",
    "model_forest.fit(x_train ,y_train )\n",
    "end=time.time()\n",
    "Total_training_time=end- start\n",
    "print(\"Total training time: \", Total_training_time, \"seconds\")\n",
    "\n",
    "# Saving the model to Random_forest.pkl\n",
    "joblib.dump(model_forest, 'Random_forest.pkl')\n",
    "#model_forests=joblib.load('Random_forest.pkl')\n",
    "\n",
    "# Making predictions\n",
    "y_pred_train_forest=model_forest.predict(x_train)\n",
    "\n",
    "start=time.time()\n",
    "y_pred_test_forest=model_forest.predict(x_test)\n",
    "end=time.time()\n",
    "Total_testing_time=end- start\n",
    "print(\"Total testing time: \", Total_testing_time, \"seconds\")\n",
    "\n",
    "# Calculating accuracies\n",
    "t_acc=accuracy_score(y_train,y_pred_train_forest)\n",
    "v_acc=accuracy_score(y_test,y_pred_test_forest)\n",
    "\n",
    "print('trainning acc={} %'.format(t_acc*100))\n",
    "print('testing acc={} %'.format(v_acc*100))\n",
    "\n",
    "#visualize \n",
    "bars=pd.DataFrame({'classification acuuracy':[t_acc],'total training time':[Total_training_time],'total test time':[Total_testing_time]})\n",
    "sns.barplot(data=bars)\n",
    "plt.title(\"Random_forest\")\n",
    "plt.show()"
   ]
  },
  {
   "attachments": {},
   "cell_type": "markdown",
   "metadata": {},
   "source": [
    "## AdaBoost"
   ]
  },
  {
   "cell_type": "code",
   "execution_count": 99,
   "metadata": {},
   "outputs": [
    {
     "name": "stdout",
     "output_type": "stream",
     "text": [
      "Total training time:  16.041712045669556 seconds\n",
      "Total testing time:  0.23067069053649902 seconds\n",
      "trainning acc=90.36488986043383 %\n",
      "testing acc=89.85492353825889 %\n"
     ]
    },
    {
     "data": {
      "image/png": "[encoded data removed]",
      "text/plain": [
       "<Figure size 1000x1000 with 1 Axes>"
      ]
     },
     "metadata": {},
     "output_type": "display_data"
    }
   ],
   "source": [
    "model_adaboost=AdaBoostClassifier(base_estimator=DecisionTreeClassifier(max_depth=20),n_estimators=5)\n",
    "\n",
    "start=time.time()\n",
    "model_adaboost.fit(x_train ,y_train )\n",
    "end=time.time()\n",
    "Total_training_time=end- start\n",
    "print(\"Total training time: \", Total_training_time, \"seconds\")\n",
    "\n",
    "# Saving the model to Random_forest.pkl\n",
    "joblib.dump(model_adaboost, 'Random_adaboost.pkl')\n",
    "#model_adaboosts=joblib.load('Random_adaboost.pkl')\n",
    "\n",
    "# Making predictions\n",
    "y_pred_train_adaboost=model_adaboost.predict(x_train)\n",
    "\n",
    "start=time.time()\n",
    "y_pred_test_adaboost=model_adaboost.predict(x_test)\n",
    "end=time.time()\n",
    "Total_testing_time=end- start\n",
    "print(\"Total testing time: \", Total_testing_time, \"seconds\")\n",
    "\n",
    "# Calculating accuracies\n",
    "t_acc=accuracy_score(y_train,y_pred_train_adaboost)\n",
    "v_acc=accuracy_score(y_test,y_pred_test_adaboost)\n",
    "\n",
    "print('trainning acc={} %'.format(t_acc*100))\n",
    "print('testing acc={} %'.format(v_acc*100))\n",
    "\n",
    "#visualize \n",
    "bars=pd.DataFrame({'classification acuuracy':[t_acc],'total training time':[Total_training_time],'total test time':[Total_testing_time]})\n",
    "sns.barplot(data=bars)\n",
    "plt.title(\"AdaBoost\")\n",
    "plt.show()"
   ]
  },
  {
   "attachments": {},
   "cell_type": "markdown",
   "metadata": {},
   "source": [
    "## LogisticRegression"
   ]
  },
  {
   "cell_type": "code",
   "execution_count": 100,
   "metadata": {
    "scrolled": false
   },
   "outputs": [
    {
     "name": "stdout",
     "output_type": "stream",
     "text": [
      "Total training time:  18.78946018218994 seconds\n",
      "Total testing time:  0.02999258041381836 seconds\n",
      "trainning acc=88.87230723240475 %\n",
      "testing acc=88.99735630143769 %\n"
     ]
    },
    {
     "data": {
      "image/png": "[encoded data removed]",
      "text/plain": [
       "<Figure size 1000x1000 with 1 Axes>"
      ]
     },
     "metadata": {},
     "output_type": "display_data"
    }
   ],
   "source": [
    "model_log=LogisticRegression(max_iter=100,C=10)\n",
    "\n",
    "start=time.time()\n",
    "model_log.fit(x_train ,y_train )\n",
    "end=time.time()\n",
    "Total_training_time=end- start\n",
    "\n",
    "# Saving the model to Random_forest.pkl\n",
    "joblib.dump(model_log, 'model_log.pkl')\n",
    "#model_logs=joblib.load('model_log.pkl')\n",
    "\n",
    "print(\"Total training time: \", Total_training_time, \"seconds\")\n",
    "\n",
    "# Making predictions\n",
    "y_pred_train_model_log=model_log.predict(x_train)\n",
    "\n",
    "start=time.time()\n",
    "y_pred_test_model_log=model_log.predict(x_test)\n",
    "end=time.time()\n",
    "Total_testing_time=end- start\n",
    "print(\"Total testing time: \", Total_testing_time, \"seconds\")\n",
    "\n",
    "# Calculating accuracies\n",
    "t_acc=accuracy_score(y_train,y_pred_train_model_log)\n",
    "v_acc=accuracy_score(y_test,y_pred_test_model_log)\n",
    "\n",
    "print('trainning acc={} %'.format(t_acc*100))\n",
    "print('testing acc={} %'.format(v_acc*100))\n",
    "\n",
    "#visualize \n",
    "bars=pd.DataFrame({'classification acuuracy':[t_acc],'total training time':[Total_training_time],'total test time':[Total_testing_time]})\n",
    "sns.barplot(data=bars)\n",
    "plt.title(\"Logistic Regression\")\n",
    "plt.show()"
   ]
  },
  {
   "attachments": {},
   "cell_type": "markdown",
   "metadata": {},
   "source": [
    "# hyper parameter tuning phase"
   ]
  },
  {
   "attachments": {},
   "cell_type": "markdown",
   "metadata": {},
   "source": [
    "***"
   ]
  },
  {
   "attachments": {},
   "cell_type": "markdown",
   "metadata": {},
   "source": [
    "## Decision tree hyper parameter tuning\n",
    "|max depth | min_samples_split| train accuracy|test accuracy|\n",
    "|----------|------------------|---------------|-------------|\n",
    "|10 |200 | 84.56%|84.68%|\n",
    "|10 |100 | 84.57%|84.67%|\n",
    "|10 |50  | 84.57%|84.67%|\n",
    "|15 |50  | 89.31%|89.39%|\n",
    "|20 |50  | 89.94%|89.93%|\n",
    "|25 |50  |90.17 %|90.06%|\n",
    "|-----------------------|\n",
    "|**conclusion**|\n",
    "| the best combination of the two hyperparamters is max_depth=`25` and min_samples_split= `50` which result in training accuracy of `90.17%` and testing accuracy of `90.06%`|\n"
   ]
  },
  {
   "attachments": {},
   "cell_type": "markdown",
   "metadata": {},
   "source": [
    "## AdaBoostClassifier hyper parameter tuning\n",
    "|base_estimator | n_estimators| train accuracy|test accuracy|\n",
    "|----------|------------------|---------------|-------------|\n",
    "|DecisionTreeClassifier(max_depth=20)|5 | 90.43%|89.90%|\n",
    "|LogisticRegression               |5  | 49.78%|49.80%|\n",
    "|GaussianNB             |5  |      57.01% |56.89%|\n",
    "|LogisticRegression(max_iter=500) |10 | 59.98%|59.94%|\n",
    "|LogisticRegression(max_iter=500) |15 | 70.98%|71.02%|\n",
    "|LogisticRegression(max_iter=500) |25 |71.13 %|71.18%|\n",
    "|-----------------------|\n",
    "|**conclusion**|\n",
    "| the best combination of the two hyperparamters is `base_estimator` = `DecisionTreeClassifier(max_depth=20)` and `n_estimators` = `5` which result in training accuracy of `90.43%` and testing accuracy of `89.90%`|"
   ]
  },
  {
   "attachments": {},
   "cell_type": "markdown",
   "metadata": {},
   "source": [
    "## RandomForest hyper parameter tuning\n",
    "|max_depth | n_estimators| train accuracy|test accuracy|\n",
    "|----------|------------------|---------------|-------------|\n",
    "| 10 |5  | 86.92%|87.07%|\n",
    "| 50 |5  | 89.82%|89.81%|\n",
    "|5 |5  | 67.65%|67.65%|\n",
    "|20  |10 | 89.80%|89.84%|\n",
    "| 20 |15 | 89.84%|89.83%|\n",
    "| 20 |30 | 89.79%|89.83%|\n",
    "|-----------------------|\n",
    "|**conclusion**|\n",
    "| the best combination of the two hyperparamters is `max_depth` = `20` and `n_estimators` = `15` which result in training accuracy of `89.84%` and testing accuracy of `89.83%`|"
   ]
  },
  {
   "attachments": {},
   "cell_type": "markdown",
   "metadata": {},
   "source": [
    "## LogisticRegression hyper parameter tuning\n",
    "|max_iter | C| train accuracy|test accuracy|\n",
    "|----------|------------------|---------------|-------------|\n",
    "|100 |10 | 88.87%|88.99%|\n",
    "|100 |0.1 | 88.76%|88.89%|\n",
    "|100 |0.0001 | 74.15%|74.12%|\n",
    "|300      |0.001  | 85.03%|85.11%|\n",
    "|500 |0.001  | 85.03%|85.11%|\n",
    "|1000     |0.001  |85.03 %|85.11%|\n",
    "|-----------------------|\n",
    "|**conclusion**|\n",
    "| the best combination of the two hyperparamters is max_iter=`100` and C= `10` which result in training accuracy of `88.87%` and testing accuracy of `88.99%`|\n"
   ]
  },
  {
   "attachments": {},
   "cell_type": "markdown",
   "metadata": {},
   "source": [
    "# Test Data"
   ]
  },
  {
   "cell_type": "code",
   "execution_count": 101,
   "metadata": {
    "scrolled": false
   },
   "outputs": [
    {
     "data": {
      "text/html": [
       "<div>\n",
       "<style scoped>\n",
       "    .dataframe tbody tr th:only-of-type {\n",
       "        vertical-align: middle;\n",
       "    }\n",
       "\n",
       "    .dataframe tbody tr th {\n",
       "        vertical-align: top;\n",
       "    }\n",
       "\n",
       "    .dataframe thead th {\n",
       "        text-align: right;\n",
       "    }\n",
       "</style>\n",
       "<table border=\"1\" class=\"dataframe\">\n",
       "  <thead>\n",
       "    <tr style=\"text-align: right;\">\n",
       "      <th></th>\n",
       "      <th>distance</th>\n",
       "      <th>cab_type</th>\n",
       "      <th>time_stamp</th>\n",
       "      <th>destination</th>\n",
       "      <th>source</th>\n",
       "      <th>surge_multiplier</th>\n",
       "      <th>id</th>\n",
       "      <th>product_id</th>\n",
       "      <th>name</th>\n",
       "      <th>RideCategory</th>\n",
       "    </tr>\n",
       "  </thead>\n",
       "  <tbody>\n",
       "    <tr>\n",
       "      <th>0</th>\n",
       "      <td>2.14</td>\n",
       "      <td>Lyft</td>\n",
       "      <td>1.543230e+12</td>\n",
       "      <td>South Station</td>\n",
       "      <td>North Station</td>\n",
       "      <td>1</td>\n",
       "      <td>d17c8f8f-5018-4dc1-b86b-0e67849e5f57</td>\n",
       "      <td>lyft_luxsuv</td>\n",
       "      <td>Lux Black XL</td>\n",
       "      <td>expensive</td>\n",
       "    </tr>\n",
       "    <tr>\n",
       "      <th>1</th>\n",
       "      <td>1.08</td>\n",
       "      <td>Uber</td>\n",
       "      <td>1.543280e+12</td>\n",
       "      <td>North End</td>\n",
       "      <td>North Station</td>\n",
       "      <td>1</td>\n",
       "      <td>4258d0c6-e1e5-45fb-bcee-d2a02aa5e6b0</td>\n",
       "      <td>997acbb5-e102-41e1-b155-9df7de0a73f2</td>\n",
       "      <td>UberPool</td>\n",
       "      <td>cheap</td>\n",
       "    </tr>\n",
       "    <tr>\n",
       "      <th>2</th>\n",
       "      <td>0.57</td>\n",
       "      <td>Lyft</td>\n",
       "      <td>1.543630e+12</td>\n",
       "      <td>North Station</td>\n",
       "      <td>Haymarket Square</td>\n",
       "      <td>1</td>\n",
       "      <td>a0a9b20e-d5ed-4eab-b2a5-d6ebd5eb3214</td>\n",
       "      <td>lyft_plus</td>\n",
       "      <td>Lyft XL</td>\n",
       "      <td>cheap</td>\n",
       "    </tr>\n",
       "    <tr>\n",
       "      <th>3</th>\n",
       "      <td>0.91</td>\n",
       "      <td>Uber</td>\n",
       "      <td>1.544920e+12</td>\n",
       "      <td>Beacon Hill</td>\n",
       "      <td>Haymarket Square</td>\n",
       "      <td>1</td>\n",
       "      <td>0be75a58-949c-47b4-98ed-37de32b4bc5d</td>\n",
       "      <td>8cf7e821-f0d3-49c6-8eba-e679c0ebcf6a</td>\n",
       "      <td>Taxi</td>\n",
       "      <td>unknown</td>\n",
       "    </tr>\n",
       "  </tbody>\n",
       "</table>\n",
       "</div>"
      ],
      "text/plain": [
       "   distance cab_type    time_stamp    destination            source  \\\n",
       "0      2.14     Lyft  1.543230e+12  South Station     North Station   \n",
       "1      1.08     Uber  1.543280e+12      North End     North Station   \n",
       "2      0.57     Lyft  1.543630e+12  North Station  Haymarket Square   \n",
       "3      0.91     Uber  1.544920e+12    Beacon Hill  Haymarket Square   \n",
       "\n",
       "   surge_multiplier                                    id  \\\n",
       "0                 1  d17c8f8f-5018-4dc1-b86b-0e67849e5f57   \n",
       "1                 1  4258d0c6-e1e5-45fb-bcee-d2a02aa5e6b0   \n",
       "2                 1  a0a9b20e-d5ed-4eab-b2a5-d6ebd5eb3214   \n",
       "3                 1  0be75a58-949c-47b4-98ed-37de32b4bc5d   \n",
       "\n",
       "                             product_id          name RideCategory  \n",
       "0                           lyft_luxsuv  Lux Black XL    expensive  \n",
       "1  997acbb5-e102-41e1-b155-9df7de0a73f2      UberPool        cheap  \n",
       "2                             lyft_plus       Lyft XL        cheap  \n",
       "3  8cf7e821-f0d3-49c6-8eba-e679c0ebcf6a          Taxi      unknown  "
      ]
     },
     "execution_count": 101,
     "metadata": {},
     "output_type": "execute_result"
    }
   ],
   "source": [
    "taxi_sample=pd.read_csv(r'Test Samples\\taxi-test-samples.csv')\n",
    "taxi_sample.head()"
   ]
  },
  {
   "cell_type": "code",
   "execution_count": 102,
   "metadata": {},
   "outputs": [
    {
     "name": "stdout",
     "output_type": "stream",
     "text": [
      "<class 'pandas.core.frame.DataFrame'>\n",
      "RangeIndex: 4 entries, 0 to 3\n",
      "Data columns (total 10 columns):\n",
      " #   Column            Non-Null Count  Dtype  \n",
      "---  ------            --------------  -----  \n",
      " 0   distance          4 non-null      float64\n",
      " 1   cab_type          4 non-null      object \n",
      " 2   time_stamp        4 non-null      float64\n",
      " 3   destination       4 non-null      object \n",
      " 4   source            4 non-null      object \n",
      " 5   surge_multiplier  4 non-null      int64  \n",
      " 6   id                4 non-null      object \n",
      " 7   product_id        4 non-null      object \n",
      " 8   name              4 non-null      object \n",
      " 9   RideCategory      4 non-null      object \n",
      "dtypes: float64(2), int64(1), object(7)\n",
      "memory usage: 448.0+ bytes\n"
     ]
    }
   ],
   "source": [
    "taxi_sample.info()"
   ]
  },
  {
   "cell_type": "code",
   "execution_count": 103,
   "metadata": {
    "scrolled": false
   },
   "outputs": [
    {
     "data": {
      "text/plain": [
       "distance            0\n",
       "cab_type            0\n",
       "time_stamp          0\n",
       "destination         0\n",
       "source              0\n",
       "surge_multiplier    0\n",
       "id                  0\n",
       "product_id          0\n",
       "name                0\n",
       "RideCategory        0\n",
       "dtype: int64"
      ]
     },
     "execution_count": 103,
     "metadata": {},
     "output_type": "execute_result"
    }
   ],
   "source": [
    "taxi_sample.isnull().sum()"
   ]
  },
  {
   "attachments": {},
   "cell_type": "markdown",
   "metadata": {},
   "source": [
    "## Handling missing values"
   ]
  },
  {
   "cell_type": "code",
   "execution_count": 104,
   "metadata": {
    "scrolled": true
   },
   "outputs": [],
   "source": [
    "#incase of null values #categorical\n",
    "#taxi_sample.fillna(taxi_sample['destination'].mode()[0])"
   ]
  },
  {
   "cell_type": "code",
   "execution_count": 105,
   "metadata": {},
   "outputs": [],
   "source": [
    "#incase of null values #continuous\n",
    "#taxi_sample.fillna(taxi_sample['distance'].mean())"
   ]
  },
  {
   "cell_type": "code",
   "execution_count": 106,
   "metadata": {
    "scrolled": true
   },
   "outputs": [],
   "source": [
    "taxi_sample=taxi_sample.drop(['surge_multiplier','time_stamp','id'],axis=1)"
   ]
  },
  {
   "cell_type": "code",
   "execution_count": 107,
   "metadata": {
    "scrolled": true
   },
   "outputs": [
    {
     "data": {
      "text/plain": [
       "array([ True,  True,  True,  True,  True,  True,  True])"
      ]
     },
     "execution_count": 107,
     "metadata": {},
     "output_type": "execute_result"
    }
   ],
   "source": [
    "taxi.columns == taxi.columns"
   ]
  },
  {
   "cell_type": "code",
   "execution_count": 108,
   "metadata": {},
   "outputs": [
    {
     "data": {
      "text/plain": [
       "True"
      ]
     },
     "execution_count": 108,
     "metadata": {},
     "output_type": "execute_result"
    }
   ],
   "source": [
    "taxi_sample.duplicated().sum()==0"
   ]
  },
  {
   "cell_type": "code",
   "execution_count": 109,
   "metadata": {},
   "outputs": [
    {
     "data": {
      "text/html": [
       "<div>\n",
       "<style scoped>\n",
       "    .dataframe tbody tr th:only-of-type {\n",
       "        vertical-align: middle;\n",
       "    }\n",
       "\n",
       "    .dataframe tbody tr th {\n",
       "        vertical-align: top;\n",
       "    }\n",
       "\n",
       "    .dataframe thead th {\n",
       "        text-align: right;\n",
       "    }\n",
       "</style>\n",
       "<table border=\"1\" class=\"dataframe\">\n",
       "  <thead>\n",
       "    <tr style=\"text-align: right;\">\n",
       "      <th></th>\n",
       "      <th>distance</th>\n",
       "      <th>cab_type</th>\n",
       "      <th>destination</th>\n",
       "      <th>source</th>\n",
       "      <th>product_id</th>\n",
       "      <th>name</th>\n",
       "      <th>RideCategory</th>\n",
       "    </tr>\n",
       "  </thead>\n",
       "  <tbody>\n",
       "    <tr>\n",
       "      <th>0</th>\n",
       "      <td>2.14</td>\n",
       "      <td>Lyft</td>\n",
       "      <td>South Station</td>\n",
       "      <td>North Station</td>\n",
       "      <td>lyft_luxsuv</td>\n",
       "      <td>Lux Black XL</td>\n",
       "      <td>expensive</td>\n",
       "    </tr>\n",
       "    <tr>\n",
       "      <th>1</th>\n",
       "      <td>1.08</td>\n",
       "      <td>Uber</td>\n",
       "      <td>North End</td>\n",
       "      <td>North Station</td>\n",
       "      <td>997acbb5-e102-41e1-b155-9df7de0a73f2</td>\n",
       "      <td>UberPool</td>\n",
       "      <td>cheap</td>\n",
       "    </tr>\n",
       "    <tr>\n",
       "      <th>2</th>\n",
       "      <td>0.57</td>\n",
       "      <td>Lyft</td>\n",
       "      <td>North Station</td>\n",
       "      <td>Haymarket Square</td>\n",
       "      <td>lyft_plus</td>\n",
       "      <td>Lyft XL</td>\n",
       "      <td>cheap</td>\n",
       "    </tr>\n",
       "    <tr>\n",
       "      <th>3</th>\n",
       "      <td>0.91</td>\n",
       "      <td>Uber</td>\n",
       "      <td>Beacon Hill</td>\n",
       "      <td>Haymarket Square</td>\n",
       "      <td>8cf7e821-f0d3-49c6-8eba-e679c0ebcf6a</td>\n",
       "      <td>Taxi</td>\n",
       "      <td>unknown</td>\n",
       "    </tr>\n",
       "  </tbody>\n",
       "</table>\n",
       "</div>"
      ],
      "text/plain": [
       "   distance cab_type    destination            source  \\\n",
       "0      2.14     Lyft  South Station     North Station   \n",
       "1      1.08     Uber      North End     North Station   \n",
       "2      0.57     Lyft  North Station  Haymarket Square   \n",
       "3      0.91     Uber    Beacon Hill  Haymarket Square   \n",
       "\n",
       "                             product_id          name RideCategory  \n",
       "0                           lyft_luxsuv  Lux Black XL    expensive  \n",
       "1  997acbb5-e102-41e1-b155-9df7de0a73f2      UberPool        cheap  \n",
       "2                             lyft_plus       Lyft XL        cheap  \n",
       "3  8cf7e821-f0d3-49c6-8eba-e679c0ebcf6a          Taxi      unknown  "
      ]
     },
     "execution_count": 109,
     "metadata": {},
     "output_type": "execute_result"
    }
   ],
   "source": [
    "taxi_sample.drop_duplicates()"
   ]
  },
  {
   "cell_type": "code",
   "execution_count": 110,
   "metadata": {},
   "outputs": [
    {
     "data": {
      "text/html": [
       "<div>\n",
       "<style scoped>\n",
       "    .dataframe tbody tr th:only-of-type {\n",
       "        vertical-align: middle;\n",
       "    }\n",
       "\n",
       "    .dataframe tbody tr th {\n",
       "        vertical-align: top;\n",
       "    }\n",
       "\n",
       "    .dataframe thead th {\n",
       "        text-align: right;\n",
       "    }\n",
       "</style>\n",
       "<table border=\"1\" class=\"dataframe\">\n",
       "  <thead>\n",
       "    <tr style=\"text-align: right;\">\n",
       "      <th></th>\n",
       "      <th>distance</th>\n",
       "      <th>cab_type</th>\n",
       "      <th>destination</th>\n",
       "      <th>source</th>\n",
       "      <th>product_id</th>\n",
       "      <th>name</th>\n",
       "      <th>RideCategory</th>\n",
       "    </tr>\n",
       "  </thead>\n",
       "  <tbody>\n",
       "    <tr>\n",
       "      <th>0</th>\n",
       "      <td>0.787401</td>\n",
       "      <td>Uber</td>\n",
       "      <td>West End</td>\n",
       "      <td>Haymarket Square</td>\n",
       "      <td>8cf7e821-f0d3-49c6-8eba-e679c0ebcf6a</td>\n",
       "      <td>Taxi</td>\n",
       "      <td>unknown</td>\n",
       "    </tr>\n",
       "    <tr>\n",
       "      <th>1</th>\n",
       "      <td>1.506652</td>\n",
       "      <td>Uber</td>\n",
       "      <td>Boston University</td>\n",
       "      <td>Beacon Hill</td>\n",
       "      <td>997acbb5-e102-41e1-b155-9df7de0a73f2</td>\n",
       "      <td>UberPool</td>\n",
       "      <td>cheap</td>\n",
       "    </tr>\n",
       "    <tr>\n",
       "      <th>2</th>\n",
       "      <td>1.414214</td>\n",
       "      <td>Lyft</td>\n",
       "      <td>Back Bay</td>\n",
       "      <td>Haymarket Square</td>\n",
       "      <td>lyft</td>\n",
       "      <td>Lyft</td>\n",
       "      <td>moderate</td>\n",
       "    </tr>\n",
       "    <tr>\n",
       "      <th>3</th>\n",
       "      <td>1.994994</td>\n",
       "      <td>Lyft</td>\n",
       "      <td>Financial District</td>\n",
       "      <td>Northeastern University</td>\n",
       "      <td>lyft_plus</td>\n",
       "      <td>Lyft XL</td>\n",
       "      <td>expensive</td>\n",
       "    </tr>\n",
       "    <tr>\n",
       "      <th>4</th>\n",
       "      <td>1.220656</td>\n",
       "      <td>Lyft</td>\n",
       "      <td>Back Bay</td>\n",
       "      <td>Northeastern University</td>\n",
       "      <td>lyft</td>\n",
       "      <td>Lyft</td>\n",
       "      <td>cheap</td>\n",
       "    </tr>\n",
       "    <tr>\n",
       "      <th>...</th>\n",
       "      <td>...</td>\n",
       "      <td>...</td>\n",
       "      <td>...</td>\n",
       "      <td>...</td>\n",
       "      <td>...</td>\n",
       "      <td>...</td>\n",
       "      <td>...</td>\n",
       "    </tr>\n",
       "    <tr>\n",
       "      <th>535230</th>\n",
       "      <td>1.382027</td>\n",
       "      <td>Uber</td>\n",
       "      <td>Theatre District</td>\n",
       "      <td>Northeastern University</td>\n",
       "      <td>6f72dfc5-27f1-42e8-84db-ccc7a75f6969</td>\n",
       "      <td>UberXL</td>\n",
       "      <td>moderate</td>\n",
       "    </tr>\n",
       "    <tr>\n",
       "      <th>535231</th>\n",
       "      <td>2.140000</td>\n",
       "      <td>Lyft</td>\n",
       "      <td>South Station</td>\n",
       "      <td>North Station</td>\n",
       "      <td>lyft_luxsuv</td>\n",
       "      <td>Lux Black XL</td>\n",
       "      <td>expensive</td>\n",
       "    </tr>\n",
       "    <tr>\n",
       "      <th>535232</th>\n",
       "      <td>1.080000</td>\n",
       "      <td>Uber</td>\n",
       "      <td>North End</td>\n",
       "      <td>North Station</td>\n",
       "      <td>997acbb5-e102-41e1-b155-9df7de0a73f2</td>\n",
       "      <td>UberPool</td>\n",
       "      <td>cheap</td>\n",
       "    </tr>\n",
       "    <tr>\n",
       "      <th>535233</th>\n",
       "      <td>0.570000</td>\n",
       "      <td>Lyft</td>\n",
       "      <td>North Station</td>\n",
       "      <td>Haymarket Square</td>\n",
       "      <td>lyft_plus</td>\n",
       "      <td>Lyft XL</td>\n",
       "      <td>cheap</td>\n",
       "    </tr>\n",
       "    <tr>\n",
       "      <th>535234</th>\n",
       "      <td>0.910000</td>\n",
       "      <td>Uber</td>\n",
       "      <td>Beacon Hill</td>\n",
       "      <td>Haymarket Square</td>\n",
       "      <td>8cf7e821-f0d3-49c6-8eba-e679c0ebcf6a</td>\n",
       "      <td>Taxi</td>\n",
       "      <td>unknown</td>\n",
       "    </tr>\n",
       "  </tbody>\n",
       "</table>\n",
       "<p>535235 rows × 7 columns</p>\n",
       "</div>"
      ],
      "text/plain": [
       "        distance cab_type         destination                   source  \\\n",
       "0       0.787401     Uber            West End         Haymarket Square   \n",
       "1       1.506652     Uber   Boston University              Beacon Hill   \n",
       "2       1.414214     Lyft            Back Bay         Haymarket Square   \n",
       "3       1.994994     Lyft  Financial District  Northeastern University   \n",
       "4       1.220656     Lyft            Back Bay  Northeastern University   \n",
       "...          ...      ...                 ...                      ...   \n",
       "535230  1.382027     Uber    Theatre District  Northeastern University   \n",
       "535231  2.140000     Lyft       South Station            North Station   \n",
       "535232  1.080000     Uber           North End            North Station   \n",
       "535233  0.570000     Lyft       North Station         Haymarket Square   \n",
       "535234  0.910000     Uber         Beacon Hill         Haymarket Square   \n",
       "\n",
       "                                  product_id          name RideCategory  \n",
       "0       8cf7e821-f0d3-49c6-8eba-e679c0ebcf6a          Taxi      unknown  \n",
       "1       997acbb5-e102-41e1-b155-9df7de0a73f2      UberPool        cheap  \n",
       "2                                       lyft          Lyft     moderate  \n",
       "3                                  lyft_plus       Lyft XL    expensive  \n",
       "4                                       lyft          Lyft        cheap  \n",
       "...                                      ...           ...          ...  \n",
       "535230  6f72dfc5-27f1-42e8-84db-ccc7a75f6969        UberXL     moderate  \n",
       "535231                           lyft_luxsuv  Lux Black XL    expensive  \n",
       "535232  997acbb5-e102-41e1-b155-9df7de0a73f2      UberPool        cheap  \n",
       "535233                             lyft_plus       Lyft XL        cheap  \n",
       "535234  8cf7e821-f0d3-49c6-8eba-e679c0ebcf6a          Taxi      unknown  \n",
       "\n",
       "[535235 rows x 7 columns]"
      ]
     },
     "execution_count": 110,
     "metadata": {},
     "output_type": "execute_result"
    }
   ],
   "source": [
    "final_data=pd.concat([taxi,taxi_sample],axis=0,ignore_index=True)\n",
    "final_data"
   ]
  },
  {
   "cell_type": "code",
   "execution_count": 111,
   "metadata": {},
   "outputs": [],
   "source": [
    "# unknown =3\n",
    "#cheap = 0 \n",
    "#moderate=2\n",
    "#epensive=1\n",
    "#very expensive=4"
   ]
  },
  {
   "cell_type": "code",
   "execution_count": 112,
   "metadata": {},
   "outputs": [
    {
     "data": {
      "text/html": [
       "<div>\n",
       "<style scoped>\n",
       "    .dataframe tbody tr th:only-of-type {\n",
       "        vertical-align: middle;\n",
       "    }\n",
       "\n",
       "    .dataframe tbody tr th {\n",
       "        vertical-align: top;\n",
       "    }\n",
       "\n",
       "    .dataframe thead th {\n",
       "        text-align: right;\n",
       "    }\n",
       "</style>\n",
       "<table border=\"1\" class=\"dataframe\">\n",
       "  <thead>\n",
       "    <tr style=\"text-align: right;\">\n",
       "      <th></th>\n",
       "      <th>distance</th>\n",
       "      <th>cab_type</th>\n",
       "      <th>destination</th>\n",
       "      <th>source</th>\n",
       "      <th>product_id</th>\n",
       "      <th>name</th>\n",
       "      <th>RideCategory</th>\n",
       "    </tr>\n",
       "  </thead>\n",
       "  <tbody>\n",
       "    <tr>\n",
       "      <th>0</th>\n",
       "      <td>0.787401</td>\n",
       "      <td>Uber</td>\n",
       "      <td>West End</td>\n",
       "      <td>Haymarket Square</td>\n",
       "      <td>8cf7e821-f0d3-49c6-8eba-e679c0ebcf6a</td>\n",
       "      <td>Taxi</td>\n",
       "      <td>unknown</td>\n",
       "    </tr>\n",
       "    <tr>\n",
       "      <th>1</th>\n",
       "      <td>1.506652</td>\n",
       "      <td>Uber</td>\n",
       "      <td>Boston University</td>\n",
       "      <td>Beacon Hill</td>\n",
       "      <td>997acbb5-e102-41e1-b155-9df7de0a73f2</td>\n",
       "      <td>UberPool</td>\n",
       "      <td>cheap</td>\n",
       "    </tr>\n",
       "    <tr>\n",
       "      <th>2</th>\n",
       "      <td>1.414214</td>\n",
       "      <td>Lyft</td>\n",
       "      <td>Back Bay</td>\n",
       "      <td>Haymarket Square</td>\n",
       "      <td>lyft</td>\n",
       "      <td>Lyft</td>\n",
       "      <td>moderate</td>\n",
       "    </tr>\n",
       "    <tr>\n",
       "      <th>3</th>\n",
       "      <td>1.994994</td>\n",
       "      <td>Lyft</td>\n",
       "      <td>Financial District</td>\n",
       "      <td>Northeastern University</td>\n",
       "      <td>lyft_plus</td>\n",
       "      <td>Lyft XL</td>\n",
       "      <td>expensive</td>\n",
       "    </tr>\n",
       "    <tr>\n",
       "      <th>4</th>\n",
       "      <td>1.220656</td>\n",
       "      <td>Lyft</td>\n",
       "      <td>Back Bay</td>\n",
       "      <td>Northeastern University</td>\n",
       "      <td>lyft</td>\n",
       "      <td>Lyft</td>\n",
       "      <td>cheap</td>\n",
       "    </tr>\n",
       "  </tbody>\n",
       "</table>\n",
       "</div>"
      ],
      "text/plain": [
       "   distance cab_type         destination                   source  \\\n",
       "0  0.787401     Uber            West End         Haymarket Square   \n",
       "1  1.506652     Uber   Boston University              Beacon Hill   \n",
       "2  1.414214     Lyft            Back Bay         Haymarket Square   \n",
       "3  1.994994     Lyft  Financial District  Northeastern University   \n",
       "4  1.220656     Lyft            Back Bay  Northeastern University   \n",
       "\n",
       "                             product_id      name RideCategory  \n",
       "0  8cf7e821-f0d3-49c6-8eba-e679c0ebcf6a      Taxi      unknown  \n",
       "1  997acbb5-e102-41e1-b155-9df7de0a73f2  UberPool        cheap  \n",
       "2                                  lyft      Lyft     moderate  \n",
       "3                             lyft_plus   Lyft XL    expensive  \n",
       "4                                  lyft      Lyft        cheap  "
      ]
     },
     "execution_count": 112,
     "metadata": {},
     "output_type": "execute_result"
    }
   ],
   "source": [
    "d=final_data.copy()\n",
    "d.head()"
   ]
  },
  {
   "cell_type": "code",
   "execution_count": 113,
   "metadata": {
    "scrolled": true
   },
   "outputs": [],
   "source": [
    "d=pd.get_dummies(data=d,columns=['name','destination','source','product_id','cab_type'])\n",
    "lbl_Ridge=LabelEncoder()\n",
    "d['RideCategory']=lbl_Ridge.fit_transform(d['RideCategory'])"
   ]
  },
  {
   "cell_type": "code",
   "execution_count": 114,
   "metadata": {
    "scrolled": false
   },
   "outputs": [
    {
     "data": {
      "text/html": [
       "<div>\n",
       "<style scoped>\n",
       "    .dataframe tbody tr th:only-of-type {\n",
       "        vertical-align: middle;\n",
       "    }\n",
       "\n",
       "    .dataframe tbody tr th {\n",
       "        vertical-align: top;\n",
       "    }\n",
       "\n",
       "    .dataframe thead th {\n",
       "        text-align: right;\n",
       "    }\n",
       "</style>\n",
       "<table border=\"1\" class=\"dataframe\">\n",
       "  <thead>\n",
       "    <tr style=\"text-align: right;\">\n",
       "      <th></th>\n",
       "      <th>distance</th>\n",
       "      <th>RideCategory</th>\n",
       "      <th>name_Black</th>\n",
       "      <th>name_Black SUV</th>\n",
       "      <th>name_Lux</th>\n",
       "      <th>name_Lux Black</th>\n",
       "      <th>name_Lux Black XL</th>\n",
       "      <th>name_Lyft</th>\n",
       "      <th>name_Lyft XL</th>\n",
       "      <th>name_Shared</th>\n",
       "      <th>...</th>\n",
       "      <th>product_id_997acbb5-e102-41e1-b155-9df7de0a73f2</th>\n",
       "      <th>product_id_9a0e7b09-b92b-4c41-9779-2ad22b4d779d</th>\n",
       "      <th>product_id_lyft</th>\n",
       "      <th>product_id_lyft_line</th>\n",
       "      <th>product_id_lyft_lux</th>\n",
       "      <th>product_id_lyft_luxsuv</th>\n",
       "      <th>product_id_lyft_plus</th>\n",
       "      <th>product_id_lyft_premier</th>\n",
       "      <th>cab_type_Lyft</th>\n",
       "      <th>cab_type_Uber</th>\n",
       "    </tr>\n",
       "  </thead>\n",
       "  <tbody>\n",
       "    <tr>\n",
       "      <th>535230</th>\n",
       "      <td>1.382027</td>\n",
       "      <td>2</td>\n",
       "      <td>0</td>\n",
       "      <td>0</td>\n",
       "      <td>0</td>\n",
       "      <td>0</td>\n",
       "      <td>0</td>\n",
       "      <td>0</td>\n",
       "      <td>0</td>\n",
       "      <td>0</td>\n",
       "      <td>...</td>\n",
       "      <td>0</td>\n",
       "      <td>0</td>\n",
       "      <td>0</td>\n",
       "      <td>0</td>\n",
       "      <td>0</td>\n",
       "      <td>0</td>\n",
       "      <td>0</td>\n",
       "      <td>0</td>\n",
       "      <td>0</td>\n",
       "      <td>1</td>\n",
       "    </tr>\n",
       "    <tr>\n",
       "      <th>535231</th>\n",
       "      <td>2.140000</td>\n",
       "      <td>1</td>\n",
       "      <td>0</td>\n",
       "      <td>0</td>\n",
       "      <td>0</td>\n",
       "      <td>0</td>\n",
       "      <td>1</td>\n",
       "      <td>0</td>\n",
       "      <td>0</td>\n",
       "      <td>0</td>\n",
       "      <td>...</td>\n",
       "      <td>0</td>\n",
       "      <td>0</td>\n",
       "      <td>0</td>\n",
       "      <td>0</td>\n",
       "      <td>0</td>\n",
       "      <td>1</td>\n",
       "      <td>0</td>\n",
       "      <td>0</td>\n",
       "      <td>1</td>\n",
       "      <td>0</td>\n",
       "    </tr>\n",
       "    <tr>\n",
       "      <th>535232</th>\n",
       "      <td>1.080000</td>\n",
       "      <td>0</td>\n",
       "      <td>0</td>\n",
       "      <td>0</td>\n",
       "      <td>0</td>\n",
       "      <td>0</td>\n",
       "      <td>0</td>\n",
       "      <td>0</td>\n",
       "      <td>0</td>\n",
       "      <td>0</td>\n",
       "      <td>...</td>\n",
       "      <td>1</td>\n",
       "      <td>0</td>\n",
       "      <td>0</td>\n",
       "      <td>0</td>\n",
       "      <td>0</td>\n",
       "      <td>0</td>\n",
       "      <td>0</td>\n",
       "      <td>0</td>\n",
       "      <td>0</td>\n",
       "      <td>1</td>\n",
       "    </tr>\n",
       "    <tr>\n",
       "      <th>535233</th>\n",
       "      <td>0.570000</td>\n",
       "      <td>0</td>\n",
       "      <td>0</td>\n",
       "      <td>0</td>\n",
       "      <td>0</td>\n",
       "      <td>0</td>\n",
       "      <td>0</td>\n",
       "      <td>0</td>\n",
       "      <td>1</td>\n",
       "      <td>0</td>\n",
       "      <td>...</td>\n",
       "      <td>0</td>\n",
       "      <td>0</td>\n",
       "      <td>0</td>\n",
       "      <td>0</td>\n",
       "      <td>0</td>\n",
       "      <td>0</td>\n",
       "      <td>1</td>\n",
       "      <td>0</td>\n",
       "      <td>1</td>\n",
       "      <td>0</td>\n",
       "    </tr>\n",
       "    <tr>\n",
       "      <th>535234</th>\n",
       "      <td>0.910000</td>\n",
       "      <td>3</td>\n",
       "      <td>0</td>\n",
       "      <td>0</td>\n",
       "      <td>0</td>\n",
       "      <td>0</td>\n",
       "      <td>0</td>\n",
       "      <td>0</td>\n",
       "      <td>0</td>\n",
       "      <td>0</td>\n",
       "      <td>...</td>\n",
       "      <td>0</td>\n",
       "      <td>0</td>\n",
       "      <td>0</td>\n",
       "      <td>0</td>\n",
       "      <td>0</td>\n",
       "      <td>0</td>\n",
       "      <td>0</td>\n",
       "      <td>0</td>\n",
       "      <td>0</td>\n",
       "      <td>1</td>\n",
       "    </tr>\n",
       "  </tbody>\n",
       "</table>\n",
       "<p>5 rows × 54 columns</p>\n",
       "</div>"
      ],
      "text/plain": [
       "        distance  RideCategory  name_Black  name_Black SUV  name_Lux  \\\n",
       "535230  1.382027             2           0               0         0   \n",
       "535231  2.140000             1           0               0         0   \n",
       "535232  1.080000             0           0               0         0   \n",
       "535233  0.570000             0           0               0         0   \n",
       "535234  0.910000             3           0               0         0   \n",
       "\n",
       "        name_Lux Black  name_Lux Black XL  name_Lyft  name_Lyft XL  \\\n",
       "535230               0                  0          0             0   \n",
       "535231               0                  1          0             0   \n",
       "535232               0                  0          0             0   \n",
       "535233               0                  0          0             1   \n",
       "535234               0                  0          0             0   \n",
       "\n",
       "        name_Shared  ...  product_id_997acbb5-e102-41e1-b155-9df7de0a73f2  \\\n",
       "535230            0  ...                                                0   \n",
       "535231            0  ...                                                0   \n",
       "535232            0  ...                                                1   \n",
       "535233            0  ...                                                0   \n",
       "535234            0  ...                                                0   \n",
       "\n",
       "        product_id_9a0e7b09-b92b-4c41-9779-2ad22b4d779d  product_id_lyft  \\\n",
       "535230                                                0                0   \n",
       "535231                                                0                0   \n",
       "535232                                                0                0   \n",
       "535233                                                0                0   \n",
       "535234                                                0                0   \n",
       "\n",
       "        product_id_lyft_line  product_id_lyft_lux  product_id_lyft_luxsuv  \\\n",
       "535230                     0                    0                       0   \n",
       "535231                     0                    0                       1   \n",
       "535232                     0                    0                       0   \n",
       "535233                     0                    0                       0   \n",
       "535234                     0                    0                       0   \n",
       "\n",
       "        product_id_lyft_plus  product_id_lyft_premier  cab_type_Lyft  \\\n",
       "535230                     0                        0              0   \n",
       "535231                     0                        0              1   \n",
       "535232                     0                        0              0   \n",
       "535233                     1                        0              1   \n",
       "535234                     0                        0              0   \n",
       "\n",
       "        cab_type_Uber  \n",
       "535230              1  \n",
       "535231              0  \n",
       "535232              1  \n",
       "535233              0  \n",
       "535234              1  \n",
       "\n",
       "[5 rows x 54 columns]"
      ]
     },
     "execution_count": 114,
     "metadata": {},
     "output_type": "execute_result"
    }
   ],
   "source": [
    "d.tail()"
   ]
  },
  {
   "cell_type": "code",
   "execution_count": 115,
   "metadata": {},
   "outputs": [
    {
     "data": {
      "text/html": [
       "<div>\n",
       "<style scoped>\n",
       "    .dataframe tbody tr th:only-of-type {\n",
       "        vertical-align: middle;\n",
       "    }\n",
       "\n",
       "    .dataframe tbody tr th {\n",
       "        vertical-align: top;\n",
       "    }\n",
       "\n",
       "    .dataframe thead th {\n",
       "        text-align: right;\n",
       "    }\n",
       "</style>\n",
       "<table border=\"1\" class=\"dataframe\">\n",
       "  <thead>\n",
       "    <tr style=\"text-align: right;\">\n",
       "      <th></th>\n",
       "      <th>distance</th>\n",
       "      <th>RideCategory</th>\n",
       "      <th>name_Black</th>\n",
       "      <th>name_Black SUV</th>\n",
       "      <th>name_Lux</th>\n",
       "      <th>name_Lux Black</th>\n",
       "      <th>name_Lux Black XL</th>\n",
       "      <th>name_Lyft</th>\n",
       "      <th>name_Lyft XL</th>\n",
       "      <th>name_Shared</th>\n",
       "      <th>...</th>\n",
       "      <th>product_id_997acbb5-e102-41e1-b155-9df7de0a73f2</th>\n",
       "      <th>product_id_9a0e7b09-b92b-4c41-9779-2ad22b4d779d</th>\n",
       "      <th>product_id_lyft</th>\n",
       "      <th>product_id_lyft_line</th>\n",
       "      <th>product_id_lyft_lux</th>\n",
       "      <th>product_id_lyft_luxsuv</th>\n",
       "      <th>product_id_lyft_plus</th>\n",
       "      <th>product_id_lyft_premier</th>\n",
       "      <th>cab_type_Lyft</th>\n",
       "      <th>cab_type_Uber</th>\n",
       "    </tr>\n",
       "  </thead>\n",
       "  <tbody>\n",
       "    <tr>\n",
       "      <th>535231</th>\n",
       "      <td>2.14</td>\n",
       "      <td>1</td>\n",
       "      <td>0</td>\n",
       "      <td>0</td>\n",
       "      <td>0</td>\n",
       "      <td>0</td>\n",
       "      <td>1</td>\n",
       "      <td>0</td>\n",
       "      <td>0</td>\n",
       "      <td>0</td>\n",
       "      <td>...</td>\n",
       "      <td>0</td>\n",
       "      <td>0</td>\n",
       "      <td>0</td>\n",
       "      <td>0</td>\n",
       "      <td>0</td>\n",
       "      <td>1</td>\n",
       "      <td>0</td>\n",
       "      <td>0</td>\n",
       "      <td>1</td>\n",
       "      <td>0</td>\n",
       "    </tr>\n",
       "    <tr>\n",
       "      <th>535232</th>\n",
       "      <td>1.08</td>\n",
       "      <td>0</td>\n",
       "      <td>0</td>\n",
       "      <td>0</td>\n",
       "      <td>0</td>\n",
       "      <td>0</td>\n",
       "      <td>0</td>\n",
       "      <td>0</td>\n",
       "      <td>0</td>\n",
       "      <td>0</td>\n",
       "      <td>...</td>\n",
       "      <td>1</td>\n",
       "      <td>0</td>\n",
       "      <td>0</td>\n",
       "      <td>0</td>\n",
       "      <td>0</td>\n",
       "      <td>0</td>\n",
       "      <td>0</td>\n",
       "      <td>0</td>\n",
       "      <td>0</td>\n",
       "      <td>1</td>\n",
       "    </tr>\n",
       "    <tr>\n",
       "      <th>535233</th>\n",
       "      <td>0.57</td>\n",
       "      <td>0</td>\n",
       "      <td>0</td>\n",
       "      <td>0</td>\n",
       "      <td>0</td>\n",
       "      <td>0</td>\n",
       "      <td>0</td>\n",
       "      <td>0</td>\n",
       "      <td>1</td>\n",
       "      <td>0</td>\n",
       "      <td>...</td>\n",
       "      <td>0</td>\n",
       "      <td>0</td>\n",
       "      <td>0</td>\n",
       "      <td>0</td>\n",
       "      <td>0</td>\n",
       "      <td>0</td>\n",
       "      <td>1</td>\n",
       "      <td>0</td>\n",
       "      <td>1</td>\n",
       "      <td>0</td>\n",
       "    </tr>\n",
       "    <tr>\n",
       "      <th>535234</th>\n",
       "      <td>0.91</td>\n",
       "      <td>3</td>\n",
       "      <td>0</td>\n",
       "      <td>0</td>\n",
       "      <td>0</td>\n",
       "      <td>0</td>\n",
       "      <td>0</td>\n",
       "      <td>0</td>\n",
       "      <td>0</td>\n",
       "      <td>0</td>\n",
       "      <td>...</td>\n",
       "      <td>0</td>\n",
       "      <td>0</td>\n",
       "      <td>0</td>\n",
       "      <td>0</td>\n",
       "      <td>0</td>\n",
       "      <td>0</td>\n",
       "      <td>0</td>\n",
       "      <td>0</td>\n",
       "      <td>0</td>\n",
       "      <td>1</td>\n",
       "    </tr>\n",
       "  </tbody>\n",
       "</table>\n",
       "<p>4 rows × 54 columns</p>\n",
       "</div>"
      ],
      "text/plain": [
       "        distance  RideCategory  name_Black  name_Black SUV  name_Lux  \\\n",
       "535231      2.14             1           0               0         0   \n",
       "535232      1.08             0           0               0         0   \n",
       "535233      0.57             0           0               0         0   \n",
       "535234      0.91             3           0               0         0   \n",
       "\n",
       "        name_Lux Black  name_Lux Black XL  name_Lyft  name_Lyft XL  \\\n",
       "535231               0                  1          0             0   \n",
       "535232               0                  0          0             0   \n",
       "535233               0                  0          0             1   \n",
       "535234               0                  0          0             0   \n",
       "\n",
       "        name_Shared  ...  product_id_997acbb5-e102-41e1-b155-9df7de0a73f2  \\\n",
       "535231            0  ...                                                0   \n",
       "535232            0  ...                                                1   \n",
       "535233            0  ...                                                0   \n",
       "535234            0  ...                                                0   \n",
       "\n",
       "        product_id_9a0e7b09-b92b-4c41-9779-2ad22b4d779d  product_id_lyft  \\\n",
       "535231                                                0                0   \n",
       "535232                                                0                0   \n",
       "535233                                                0                0   \n",
       "535234                                                0                0   \n",
       "\n",
       "        product_id_lyft_line  product_id_lyft_lux  product_id_lyft_luxsuv  \\\n",
       "535231                     0                    0                       1   \n",
       "535232                     0                    0                       0   \n",
       "535233                     0                    0                       0   \n",
       "535234                     0                    0                       0   \n",
       "\n",
       "        product_id_lyft_plus  product_id_lyft_premier  cab_type_Lyft  \\\n",
       "535231                     0                        0              1   \n",
       "535232                     0                        0              0   \n",
       "535233                     1                        0              1   \n",
       "535234                     0                        0              0   \n",
       "\n",
       "        cab_type_Uber  \n",
       "535231              0  \n",
       "535232              1  \n",
       "535233              0  \n",
       "535234              1  \n",
       "\n",
       "[4 rows x 54 columns]"
      ]
     },
     "execution_count": 115,
     "metadata": {},
     "output_type": "execute_result"
    }
   ],
   "source": [
    "l=len(taxi_sample)\n",
    "tests=d.iloc[-l:,:]\n",
    "tests.head()"
   ]
  },
  {
   "cell_type": "code",
   "execution_count": 116,
   "metadata": {},
   "outputs": [],
   "source": [
    "x=tests.drop('RideCategory',axis=1)\n",
    "y=tests[['RideCategory']]"
   ]
  },
  {
   "attachments": {},
   "cell_type": "markdown",
   "metadata": {},
   "source": [
    "# choose your model to load to predict "
   ]
  },
  {
   "cell_type": "code",
   "execution_count": 117,
   "metadata": {},
   "outputs": [],
   "source": [
    "#model_trees=joblib.load('decision_tree.pkl')\n",
    "#model_forests=joblib.load('Random_forest.pkl')\n",
    "#model_adaboosts=joblib.load('Random_adaboost.pkl')\n",
    "#model_logs=joblib.load('model_log.pkl')"
   ]
  },
  {
   "cell_type": "code",
   "execution_count": 118,
   "metadata": {},
   "outputs": [],
   "source": [
    "model_logs=joblib.load('model_log.pkl')"
   ]
  },
  {
   "cell_type": "code",
   "execution_count": 119,
   "metadata": {},
   "outputs": [
    {
     "name": "stdout",
     "output_type": "stream",
     "text": [
      "test acc=0.75\n"
     ]
    }
   ],
   "source": [
    "#predict tests\n",
    "y_test_dtree=model_logs.predict(x)\n",
    "# Calculating accuracies\n",
    "test_acc=accuracy_score(y,y_test_dtree)\n",
    "print('test acc={}'.format(test_acc))"
   ]
  },
  {
   "cell_type": "code",
   "execution_count": 120,
   "metadata": {},
   "outputs": [
    {
     "data": {
      "text/plain": [
       "array([4, 0, 0, 3])"
      ]
     },
     "execution_count": 120,
     "metadata": {},
     "output_type": "execute_result"
    }
   ],
   "source": [
    "y_test_dtree"
   ]
  },
  {
   "cell_type": "code",
   "execution_count": 121,
   "metadata": {
    "scrolled": true
   },
   "outputs": [
    {
     "data": {
      "text/html": [
       "<div>\n",
       "<style scoped>\n",
       "    .dataframe tbody tr th:only-of-type {\n",
       "        vertical-align: middle;\n",
       "    }\n",
       "\n",
       "    .dataframe tbody tr th {\n",
       "        vertical-align: top;\n",
       "    }\n",
       "\n",
       "    .dataframe thead th {\n",
       "        text-align: right;\n",
       "    }\n",
       "</style>\n",
       "<table border=\"1\" class=\"dataframe\">\n",
       "  <thead>\n",
       "    <tr style=\"text-align: right;\">\n",
       "      <th></th>\n",
       "      <th>RideCategory</th>\n",
       "    </tr>\n",
       "  </thead>\n",
       "  <tbody>\n",
       "    <tr>\n",
       "      <th>535231</th>\n",
       "      <td>1</td>\n",
       "    </tr>\n",
       "    <tr>\n",
       "      <th>535232</th>\n",
       "      <td>0</td>\n",
       "    </tr>\n",
       "    <tr>\n",
       "      <th>535233</th>\n",
       "      <td>0</td>\n",
       "    </tr>\n",
       "    <tr>\n",
       "      <th>535234</th>\n",
       "      <td>3</td>\n",
       "    </tr>\n",
       "  </tbody>\n",
       "</table>\n",
       "</div>"
      ],
      "text/plain": [
       "        RideCategory\n",
       "535231             1\n",
       "535232             0\n",
       "535233             0\n",
       "535234             3"
      ]
     },
     "execution_count": 121,
     "metadata": {},
     "output_type": "execute_result"
    }
   ],
   "source": [
    "y"
   ]
  },
  {
   "cell_type": "code",
   "execution_count": null,
   "id": "d336f05e",
   "metadata": {},
   "outputs": [],
   "source": []
  },
  {
   "cell_type": "code",
   "execution_count": null,
   "id": "8dbec2d1",
   "metadata": {},
   "outputs": [],
   "source": []
  }
 ],
 "metadata": {
  "kernelspec": {
   "display_name": "Python 3",
   "language": "python",
   "name": "python3"
  },
  "language_info": {
   "codemirror_mode": {
    "name": "ipython",
    "version": 3
   },
   "file_extension": ".py",
   "mimetype": "text/x-python",
   "name": "python",
   "nbconvert_exporter": "python",
   "pygments_lexer": "ipython3",
   "version": "3.9.13"
  }
 },
 "nbformat": 4,
 "nbformat_minor": 5
}
